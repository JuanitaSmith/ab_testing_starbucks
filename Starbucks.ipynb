{
 "cells": [
  {
   "cell_type": "markdown",
   "metadata": {},
   "source": [
    "## Portfolio Exercise: Starbucks\n",
    "<br>\n",
    "\n",
    "<img src=\"https://opj.ca/wp-content/uploads/2018/02/New-Starbucks-Logo-1200x969.jpg\" width=\"200\" height=\"200\">\n",
    "<br>\n",
    "<br>\n",
    " \n",
    "#### Background Information\n",
    "\n",
    "The dataset you will be provided in this portfolio exercise was originally used as a take-home assignment provided by Starbucks for their job candidates. The data for this exercise consists of about 120,000 data points split in a 2:1 ratio among training and test files. In the experiment simulated by the data, an advertising promotion was tested to see if it would bring more customers to purchase a specific product priced at $10. Since it costs the company 0.15 to send out each promotion, it would be best to limit that promotion only to those that are most receptive to the promotion. Each data point includes one column indicating whether or not an individual was sent a promotion for the product, and one column indicating whether or not that individual eventually purchased that product. Each individual also has seven additional features associated with them, which are provided abstractly as V1-V7.\n",
    "\n",
    "#### Optimization Strategy\n",
    "\n",
    "Your task is to use the training data to understand what patterns in V1-V7 to indicate that a promotion should be provided to a user. Specifically, your goal is to maximize the following metrics:\n",
    "\n",
    "* **Incremental Response Rate (IRR)** \n",
    "\n",
    "IRR depicts how many more customers purchased the product with the promotion, as compared to if they didn't receive the promotion. Mathematically, it's the ratio of the number of purchasers in the promotion group to the total number of customers in the purchasers group (_treatment_) minus the ratio of the number of purchasers in the non-promotional group to the total number of customers in the non-promotional group (_control_).\n",
    "\n",
    "$$ IRR = \\frac{purch_{treat}}{cust_{treat}} - \\frac{purch_{ctrl}}{cust_{ctrl}} $$\n",
    "\n",
    "\n",
    "* **Net Incremental Revenue (NIR)**\n",
    "\n",
    "NIR depicts how much is made (or lost) by sending out the promotion. Mathematically, this is 10 times the total number of purchasers that received the promotion minus 0.15 times the number of promotions sent out, minus 10 times the number of purchasers who were not given the promotion.\n",
    "\n",
    "$$ NIR = (10\\cdot purch_{treat} - 0.15 \\cdot cust_{treat}) - 10 \\cdot purch_{ctrl}$$\n",
    "\n",
    "For a full description of what Starbucks provides to candidates see the [instructions available here](https://drive.google.com/open?id=18klca9Sef1Rs6q8DW4l7o349r8B70qXM).\n",
    "\n",
    "Below you can find the training data provided.  Explore the data and different optimization strategies.\n",
    "\n",
    "#### How To Test Your Strategy?\n",
    "\n",
    "When you feel like you have an optimization strategy, complete the `promotion_strategy` function to pass to the `test_results` function.  \n",
    "From past data, we know there are four possible outomes:\n",
    "\n",
    "Table of actual promotion vs. predicted promotion customers:  \n",
    "\n",
    "<table>\n",
    "<tr><th></th><th colspan = '2'>Actual</th></tr>\n",
    "<tr><th>Predicted</th><th>Yes</th><th>No</th></tr>\n",
    "<tr><th>Yes</th><td>I</td><td>II</td></tr>\n",
    "<tr><th>No</th><td>III</td><td>IV</td></tr>\n",
    "</table>\n",
    "\n",
    "The metrics are only being compared for the individuals we predict should obtain the promotion – that is, quadrants I and II.  Since the first set of individuals that receive the promotion (in the training set) receive it randomly, we can expect that quadrants I and II will have approximately equivalent participants.  \n",
    "\n",
    "Comparing quadrant I to II then gives an idea of how well your promotion strategy will work in the future. \n",
    "\n",
    "Get started by reading in the data below.  See how each variable or combination of variables along with a promotion influences the chance of purchasing.  When you feel like you have a strategy for who should receive a promotion, test your strategy against the test dataset used in the final `test_results` function.\n",
    "\n",
    "\n",
    "##### Questions:\n",
    "1)\tAnalyze the results of the experiment and identify the effect of the Treatment on product purchase and Net Incremental Revenue\n",
    "2)\tBuild a model to select the best customers to target that maximizes the Incremental Response Rate and Net Incremental Revenue. \n",
    "##### Deliverables\n",
    "3)\tScore the ‘Test.csv’ using the model and select the best customers and share the customer ID’s as  csv file \n",
    "4)\tExplain briefly the approach used in a separate document and also share the code that can be executed to reproduce results.\n"
   ]
  },
  {
   "metadata": {},
   "cell_type": "markdown",
   "source": [
    "## Table of contents\n",
    "\n",
    "- Data gathering\n",
    "- Assessing\n",
    "- Data Cleaning\n",
    "- EDA\n",
    "  - Univariate exploration\n",
    "  - Bivariate exploration\n",
    "  - Multivariate exploration\n",
    "- Question 1: Hypothesis Testing\n",
    "    - Invariant metric\n",
    "    - Evaluation metric\n",
    "- Question 2: Modeling of promotion strategy\n",
    "  - Feature engineering\n",
    "- Evaluation of promotion strategy\n",
    "- Final conclusion\n",
    "- References"
   ]
  },
  {
   "metadata": {
    "ExecuteTime": {
     "end_time": "2024-12-18T15:19:49.574396Z",
     "start_time": "2024-12-18T15:19:49.564606Z"
    }
   },
   "cell_type": "code",
   "source": [
    "# load in packages\n",
    "from itertools import combinations\n",
    "\n",
    "from matplotlib.cbook import silent_list\n",
    "from matplotlib.transforms import BlendedGenericTransform\n",
    "\n",
    "from test_results import test_results, score\n",
    "import numpy as np\n",
    "import pandas as pd\n",
    "import scipy.stats as stats\n",
    "from statsmodels.stats.power import NormalIndPower\n",
    "from statsmodels.stats.proportion import proportion_effectsize\n",
    "import statsmodels.api as sm\n",
    "from statsmodels.stats.outliers_influence import variance_inflation_factor\n",
    "from sklearn.preprocessing import LabelEncoder\n",
    "from sklearn.preprocessing import StandardScaler, MinMaxScaler\n",
    "from sklearn.pipeline import Pipeline\n",
    "from sklearn.compose import ColumnTransformer\n",
    "from sklearn.preprocessing import OneHotEncoder\n",
    "from sklearn.cluster import KMeans\n",
    "from focalloss import FocalBinaryLoss\n",
    "\n",
    "import xgboost as xgb\n",
    "from xgboost import XGBClassifier, train\n",
    "# for creating a feature tree\n",
    "from xgboost import plot_tree\n",
    "# for calculating feature importance\n",
    "from xgboost import plot_importance\n",
    "from imblearn.over_sampling import RandomOverSampler, SMOTE\n",
    "from imblearn.combine import SMOTEENN\n",
    "from sklearn.model_selection import train_test_split\n",
    "from sklearn.metrics import (accuracy_score, roc_auc_score, confusion_matrix, ConfusionMatrixDisplay, classification_report, \n",
    "                             make_scorer, precision_score, f1_score)\n",
    "from sklearn.model_selection import cross_val_score\n",
    "from sklearn.model_selection import StratifiedKFold, RepeatedStratifiedKFold\n",
    "\n",
    "from optuna.samplers import TPESampler\n",
    "import optuna.logging\n",
    "import logging\n",
    "\n",
    "from patsy import dmatrices\n",
    "from sklearn.feature_selection import mutual_info_regression\n",
    "from shutil import rmtree\n",
    "\n",
    "import matplotlib.pyplot as plt\n",
    "import seaborn as sns\n",
    "from seaborn_defaults import Seafoam\n",
    "%matplotlib inline\n",
    "seafoam = Seafoam()\n",
    "# sns.set_style(\"white\")"
   ],
   "outputs": [],
   "execution_count": 553
  },
  {
   "metadata": {
    "ExecuteTime": {
     "end_time": "2024-12-18T12:23:18.223829Z",
     "start_time": "2024-12-18T12:23:18.218533Z"
    }
   },
   "cell_type": "code",
   "source": [
    "# activate logging\n",
    "random_state=88\n",
    "logger = logging.getLogger(__name__)\n",
    "logging.basicConfig(filename='log.log',\n",
    "                    format='%(asctime)s %(levelname)-8s %(message)s',\n",
    "                    filemode='w',\n",
    "                    level=logging.INFO,\n",
    "                    datefmt='%Y-%m-%d %H:%M:%S')"
   ],
   "outputs": [],
   "execution_count": 3
  },
  {
   "metadata": {},
   "cell_type": "markdown",
   "source": "## Data Gathering"
  },
  {
   "cell_type": "code",
   "metadata": {
    "ExecuteTime": {
     "end_time": "2024-12-18T12:23:20.453399Z",
     "start_time": "2024-12-18T12:23:20.337315Z"
    }
   },
   "source": [
    "# load in the data\n",
    "train_data = pd.read_csv('./training.csv')\n",
    "train_data.head()"
   ],
   "outputs": [
    {
     "data": {
      "text/plain": [
       "   ID Promotion  purchase  V1         V2        V3  V4  V5  V6  V7\n",
       "0   1        No         0   2  30.443518 -1.165083   1   1   3   2\n",
       "1   3        No         0   3  32.159350 -0.645617   2   3   2   2\n",
       "2   4        No         0   2  30.431659  0.133583   1   1   4   2\n",
       "3   5        No         0   0  26.588914 -0.212728   2   1   4   2\n",
       "4   8       Yes         0   3  28.044331 -0.385883   1   1   2   2"
      ],
      "text/html": [
       "<div>\n",
       "<style scoped>\n",
       "    .dataframe tbody tr th:only-of-type {\n",
       "        vertical-align: middle;\n",
       "    }\n",
       "\n",
       "    .dataframe tbody tr th {\n",
       "        vertical-align: top;\n",
       "    }\n",
       "\n",
       "    .dataframe thead th {\n",
       "        text-align: right;\n",
       "    }\n",
       "</style>\n",
       "<table border=\"1\" class=\"dataframe\">\n",
       "  <thead>\n",
       "    <tr style=\"text-align: right;\">\n",
       "      <th></th>\n",
       "      <th>ID</th>\n",
       "      <th>Promotion</th>\n",
       "      <th>purchase</th>\n",
       "      <th>V1</th>\n",
       "      <th>V2</th>\n",
       "      <th>V3</th>\n",
       "      <th>V4</th>\n",
       "      <th>V5</th>\n",
       "      <th>V6</th>\n",
       "      <th>V7</th>\n",
       "    </tr>\n",
       "  </thead>\n",
       "  <tbody>\n",
       "    <tr>\n",
       "      <th>0</th>\n",
       "      <td>1</td>\n",
       "      <td>No</td>\n",
       "      <td>0</td>\n",
       "      <td>2</td>\n",
       "      <td>30.443518</td>\n",
       "      <td>-1.165083</td>\n",
       "      <td>1</td>\n",
       "      <td>1</td>\n",
       "      <td>3</td>\n",
       "      <td>2</td>\n",
       "    </tr>\n",
       "    <tr>\n",
       "      <th>1</th>\n",
       "      <td>3</td>\n",
       "      <td>No</td>\n",
       "      <td>0</td>\n",
       "      <td>3</td>\n",
       "      <td>32.159350</td>\n",
       "      <td>-0.645617</td>\n",
       "      <td>2</td>\n",
       "      <td>3</td>\n",
       "      <td>2</td>\n",
       "      <td>2</td>\n",
       "    </tr>\n",
       "    <tr>\n",
       "      <th>2</th>\n",
       "      <td>4</td>\n",
       "      <td>No</td>\n",
       "      <td>0</td>\n",
       "      <td>2</td>\n",
       "      <td>30.431659</td>\n",
       "      <td>0.133583</td>\n",
       "      <td>1</td>\n",
       "      <td>1</td>\n",
       "      <td>4</td>\n",
       "      <td>2</td>\n",
       "    </tr>\n",
       "    <tr>\n",
       "      <th>3</th>\n",
       "      <td>5</td>\n",
       "      <td>No</td>\n",
       "      <td>0</td>\n",
       "      <td>0</td>\n",
       "      <td>26.588914</td>\n",
       "      <td>-0.212728</td>\n",
       "      <td>2</td>\n",
       "      <td>1</td>\n",
       "      <td>4</td>\n",
       "      <td>2</td>\n",
       "    </tr>\n",
       "    <tr>\n",
       "      <th>4</th>\n",
       "      <td>8</td>\n",
       "      <td>Yes</td>\n",
       "      <td>0</td>\n",
       "      <td>3</td>\n",
       "      <td>28.044331</td>\n",
       "      <td>-0.385883</td>\n",
       "      <td>1</td>\n",
       "      <td>1</td>\n",
       "      <td>2</td>\n",
       "      <td>2</td>\n",
       "    </tr>\n",
       "  </tbody>\n",
       "</table>\n",
       "</div>"
      ]
     },
     "execution_count": 4,
     "metadata": {},
     "output_type": "execute_result"
    }
   ],
   "execution_count": 4
  },
  {
   "metadata": {
    "ExecuteTime": {
     "end_time": "2024-12-18T12:23:21.364873Z",
     "start_time": "2024-12-18T12:23:21.358879Z"
    }
   },
   "cell_type": "code",
   "source": "train_data.shape",
   "outputs": [
    {
     "data": {
      "text/plain": [
       "(84534, 10)"
      ]
     },
     "execution_count": 5,
     "metadata": {},
     "output_type": "execute_result"
    }
   ],
   "execution_count": 5
  },
  {
   "cell_type": "markdown",
   "metadata": {},
   "source": [
    "## Assessing"
   ]
  },
  {
   "cell_type": "code",
   "metadata": {
    "ExecuteTime": {
     "end_time": "2024-12-18T12:23:22.617014Z",
     "start_time": "2024-12-18T12:23:22.601222Z"
    }
   },
   "source": [
    "# Inspect missing values and data types\n",
    "train_data.info()"
   ],
   "outputs": [
    {
     "name": "stdout",
     "output_type": "stream",
     "text": [
      "<class 'pandas.core.frame.DataFrame'>\n",
      "RangeIndex: 84534 entries, 0 to 84533\n",
      "Data columns (total 10 columns):\n",
      " #   Column     Non-Null Count  Dtype  \n",
      "---  ------     --------------  -----  \n",
      " 0   ID         84534 non-null  int64  \n",
      " 1   Promotion  84534 non-null  object \n",
      " 2   purchase   84534 non-null  int64  \n",
      " 3   V1         84534 non-null  int64  \n",
      " 4   V2         84534 non-null  float64\n",
      " 5   V3         84534 non-null  float64\n",
      " 6   V4         84534 non-null  int64  \n",
      " 7   V5         84534 non-null  int64  \n",
      " 8   V6         84534 non-null  int64  \n",
      " 9   V7         84534 non-null  int64  \n",
      "dtypes: float64(2), int64(7), object(1)\n",
      "memory usage: 6.4+ MB\n"
     ]
    }
   ],
   "execution_count": 6
  },
  {
   "cell_type": "code",
   "metadata": {
    "ExecuteTime": {
     "end_time": "2024-12-18T12:23:23.278665Z",
     "start_time": "2024-12-18T12:23:23.233169Z"
    }
   },
   "source": [
    "# inspect descriptive statistics\n",
    "train_data.describe()"
   ],
   "outputs": [
    {
     "data": {
      "text/plain": [
       "                  ID      purchase            V1            V2            V3  \\\n",
       "count   84534.000000  84534.000000  84534.000000  84534.000000  84534.000000   \n",
       "mean    62970.972413      0.012303      1.500662     29.973600      0.000190   \n",
       "std     36418.440539      0.110234      0.868234      5.010626      1.000485   \n",
       "min         1.000000      0.000000      0.000000      7.104007     -1.684550   \n",
       "25%     31467.250000      0.000000      1.000000     26.591501     -0.905350   \n",
       "50%     62827.500000      0.000000      2.000000     29.979744     -0.039572   \n",
       "75%     94438.750000      0.000000      2.000000     33.344593      0.826206   \n",
       "max    126184.000000      1.000000      3.000000     50.375913      1.691984   \n",
       "\n",
       "                 V4            V5            V6            V7  \n",
       "count  84534.000000  84534.000000  84534.000000  84534.000000  \n",
       "mean       1.679608      2.327643      2.502898      1.701694  \n",
       "std        0.466630      0.841167      1.117349      0.457517  \n",
       "min        1.000000      1.000000      1.000000      1.000000  \n",
       "25%        1.000000      2.000000      2.000000      1.000000  \n",
       "50%        2.000000      2.000000      3.000000      2.000000  \n",
       "75%        2.000000      3.000000      4.000000      2.000000  \n",
       "max        2.000000      4.000000      4.000000      2.000000  "
      ],
      "text/html": [
       "<div>\n",
       "<style scoped>\n",
       "    .dataframe tbody tr th:only-of-type {\n",
       "        vertical-align: middle;\n",
       "    }\n",
       "\n",
       "    .dataframe tbody tr th {\n",
       "        vertical-align: top;\n",
       "    }\n",
       "\n",
       "    .dataframe thead th {\n",
       "        text-align: right;\n",
       "    }\n",
       "</style>\n",
       "<table border=\"1\" class=\"dataframe\">\n",
       "  <thead>\n",
       "    <tr style=\"text-align: right;\">\n",
       "      <th></th>\n",
       "      <th>ID</th>\n",
       "      <th>purchase</th>\n",
       "      <th>V1</th>\n",
       "      <th>V2</th>\n",
       "      <th>V3</th>\n",
       "      <th>V4</th>\n",
       "      <th>V5</th>\n",
       "      <th>V6</th>\n",
       "      <th>V7</th>\n",
       "    </tr>\n",
       "  </thead>\n",
       "  <tbody>\n",
       "    <tr>\n",
       "      <th>count</th>\n",
       "      <td>84534.000000</td>\n",
       "      <td>84534.000000</td>\n",
       "      <td>84534.000000</td>\n",
       "      <td>84534.000000</td>\n",
       "      <td>84534.000000</td>\n",
       "      <td>84534.000000</td>\n",
       "      <td>84534.000000</td>\n",
       "      <td>84534.000000</td>\n",
       "      <td>84534.000000</td>\n",
       "    </tr>\n",
       "    <tr>\n",
       "      <th>mean</th>\n",
       "      <td>62970.972413</td>\n",
       "      <td>0.012303</td>\n",
       "      <td>1.500662</td>\n",
       "      <td>29.973600</td>\n",
       "      <td>0.000190</td>\n",
       "      <td>1.679608</td>\n",
       "      <td>2.327643</td>\n",
       "      <td>2.502898</td>\n",
       "      <td>1.701694</td>\n",
       "    </tr>\n",
       "    <tr>\n",
       "      <th>std</th>\n",
       "      <td>36418.440539</td>\n",
       "      <td>0.110234</td>\n",
       "      <td>0.868234</td>\n",
       "      <td>5.010626</td>\n",
       "      <td>1.000485</td>\n",
       "      <td>0.466630</td>\n",
       "      <td>0.841167</td>\n",
       "      <td>1.117349</td>\n",
       "      <td>0.457517</td>\n",
       "    </tr>\n",
       "    <tr>\n",
       "      <th>min</th>\n",
       "      <td>1.000000</td>\n",
       "      <td>0.000000</td>\n",
       "      <td>0.000000</td>\n",
       "      <td>7.104007</td>\n",
       "      <td>-1.684550</td>\n",
       "      <td>1.000000</td>\n",
       "      <td>1.000000</td>\n",
       "      <td>1.000000</td>\n",
       "      <td>1.000000</td>\n",
       "    </tr>\n",
       "    <tr>\n",
       "      <th>25%</th>\n",
       "      <td>31467.250000</td>\n",
       "      <td>0.000000</td>\n",
       "      <td>1.000000</td>\n",
       "      <td>26.591501</td>\n",
       "      <td>-0.905350</td>\n",
       "      <td>1.000000</td>\n",
       "      <td>2.000000</td>\n",
       "      <td>2.000000</td>\n",
       "      <td>1.000000</td>\n",
       "    </tr>\n",
       "    <tr>\n",
       "      <th>50%</th>\n",
       "      <td>62827.500000</td>\n",
       "      <td>0.000000</td>\n",
       "      <td>2.000000</td>\n",
       "      <td>29.979744</td>\n",
       "      <td>-0.039572</td>\n",
       "      <td>2.000000</td>\n",
       "      <td>2.000000</td>\n",
       "      <td>3.000000</td>\n",
       "      <td>2.000000</td>\n",
       "    </tr>\n",
       "    <tr>\n",
       "      <th>75%</th>\n",
       "      <td>94438.750000</td>\n",
       "      <td>0.000000</td>\n",
       "      <td>2.000000</td>\n",
       "      <td>33.344593</td>\n",
       "      <td>0.826206</td>\n",
       "      <td>2.000000</td>\n",
       "      <td>3.000000</td>\n",
       "      <td>4.000000</td>\n",
       "      <td>2.000000</td>\n",
       "    </tr>\n",
       "    <tr>\n",
       "      <th>max</th>\n",
       "      <td>126184.000000</td>\n",
       "      <td>1.000000</td>\n",
       "      <td>3.000000</td>\n",
       "      <td>50.375913</td>\n",
       "      <td>1.691984</td>\n",
       "      <td>2.000000</td>\n",
       "      <td>4.000000</td>\n",
       "      <td>4.000000</td>\n",
       "      <td>2.000000</td>\n",
       "    </tr>\n",
       "  </tbody>\n",
       "</table>\n",
       "</div>"
      ]
     },
     "execution_count": 7,
     "metadata": {},
     "output_type": "execute_result"
    }
   ],
   "execution_count": 7
  },
  {
   "cell_type": "code",
   "metadata": {
    "ExecuteTime": {
     "end_time": "2024-12-18T12:23:23.850173Z",
     "start_time": "2024-12-18T12:23:23.833215Z"
    }
   },
   "source": [
    "# Inspect unique records\n",
    "train_data.nunique()"
   ],
   "outputs": [
    {
     "data": {
      "text/plain": [
       "ID           84534\n",
       "Promotion        2\n",
       "purchase         2\n",
       "V1               4\n",
       "V2           84518\n",
       "V3              40\n",
       "V4               2\n",
       "V5               4\n",
       "V6               4\n",
       "V7               2\n",
       "dtype: int64"
      ]
     },
     "execution_count": 8,
     "metadata": {},
     "output_type": "execute_result"
    }
   ],
   "execution_count": 8
  },
  {
   "cell_type": "code",
   "metadata": {
    "ExecuteTime": {
     "end_time": "2024-12-18T12:23:24.571837Z",
     "start_time": "2024-12-18T12:23:24.554358Z"
    }
   },
   "source": [
    "# Get counts for unique values\n",
    "cols = ['Promotion', 'purchase', 'V1', 'V3', 'V4', 'V5', 'V6', 'V7']\n",
    "for col in cols:\n",
    "    print(train_data[col].value_counts())"
   ],
   "outputs": [
    {
     "name": "stdout",
     "output_type": "stream",
     "text": [
      "Promotion\n",
      "Yes    42364\n",
      "No     42170\n",
      "Name: count, dtype: int64\n",
      "purchase\n",
      "0    83494\n",
      "1     1040\n",
      "Name: count, dtype: int64\n",
      "V1\n",
      "1    31631\n",
      "2    31608\n",
      "3    10670\n",
      "0    10625\n",
      "Name: count, dtype: int64\n",
      "V3\n",
      " 1.085939    2221\n",
      "-1.165083    2208\n",
      "-0.299306    2188\n",
      "-1.424817    2171\n",
      " 1.605406    2163\n",
      " 1.518828    2156\n",
      "-0.905350    2153\n",
      "-1.338239    2140\n",
      "-0.991928    2140\n",
      "-1.684550    2139\n",
      " 0.393317    2136\n",
      " 0.047006    2133\n",
      " 0.826206    2133\n",
      "-1.597972    2131\n",
      "-0.645617    2122\n",
      " 0.306739    2118\n",
      "-0.732194    2116\n",
      " 0.566472    2115\n",
      " 0.479895    2111\n",
      "-0.212728    2111\n",
      "-1.251661    2101\n",
      " 0.739628    2101\n",
      "-1.078506    2100\n",
      "-0.385883    2100\n",
      " 0.912784    2100\n",
      "-0.039572    2099\n",
      " 1.259095    2095\n",
      "-0.126150    2087\n",
      " 0.999361    2085\n",
      " 1.345672    2084\n",
      "-0.818772    2083\n",
      " 0.653050    2080\n",
      "-0.472461    2072\n",
      " 0.220161    2072\n",
      "-0.559039    2070\n",
      "-1.511395    2064\n",
      " 1.432250    2063\n",
      " 1.172517    2060\n",
      " 1.691984    2059\n",
      " 0.133583    2054\n",
      "Name: count, dtype: int64\n",
      "V4\n",
      "2    57450\n",
      "1    27084\n",
      "Name: count, dtype: int64\n",
      "V5\n",
      "3    32743\n",
      "2    31196\n",
      "1    15412\n",
      "4     5183\n",
      "Name: count, dtype: int64\n",
      "V6\n",
      "3    21186\n",
      "4    21176\n",
      "2    21146\n",
      "1    21026\n",
      "Name: count, dtype: int64\n",
      "V7\n",
      "2    59317\n",
      "1    25217\n",
      "Name: count, dtype: int64\n"
     ]
    }
   ],
   "execution_count": 9
  },
  {
   "metadata": {
    "ExecuteTime": {
     "end_time": "2024-12-18T12:23:25.302755Z",
     "start_time": "2024-12-18T12:23:25.276875Z"
    }
   },
   "cell_type": "code",
   "source": [
    "# check for duplicated lines\n",
    "train_data.duplicated().sum()"
   ],
   "outputs": [
    {
     "data": {
      "text/plain": [
       "0"
      ]
     },
     "execution_count": 10,
     "metadata": {},
     "output_type": "execute_result"
    }
   ],
   "execution_count": 10
  },
  {
   "cell_type": "markdown",
   "metadata": {},
   "source": [
    "### Summary of assessment\n",
    "\n",
    "Overall data is very clean, there are no missing or duplicated values.\n",
    " \n",
    "The following data cleaning steps are needed to prepare data for EDA.\n",
    "\n",
    "1. Column Promotion is a boolean field that contains values 'Yes' or 'No'\n",
    "2. Continues features V3 was normalized using standard scaler tecqnique, whilst V2 was not.\n",
    "3. Drop unneeded variables like 'ID'\n",
    "4. V1, V4, V5, V6, V7 are categorical values\n",
    "5. Create a new response variable where customers who received promotions bought the product"
   ]
  },
  {
   "cell_type": "markdown",
   "metadata": {},
   "source": "## Data Cleaning"
  },
  {
   "cell_type": "code",
   "metadata": {
    "ExecuteTime": {
     "end_time": "2024-12-18T12:23:28.558578Z",
     "start_time": "2024-12-18T12:23:28.552789Z"
    }
   },
   "source": [
    "#  Make a copy of the data\n",
    "train_data_clean = train_data.copy(deep=True)"
   ],
   "outputs": [],
   "execution_count": 11
  },
  {
   "metadata": {},
   "cell_type": "markdown",
   "source": "##### 1. Convert 'Promotion' to a binary field to support EDA"
  },
  {
   "cell_type": "code",
   "metadata": {
    "ExecuteTime": {
     "end_time": "2024-12-18T12:23:29.954629Z",
     "start_time": "2024-12-18T12:23:29.943390Z"
    }
   },
   "source": [
    "# values before conversion\n",
    "train_data_clean['Promotion'].value_counts()"
   ],
   "outputs": [
    {
     "data": {
      "text/plain": [
       "Promotion\n",
       "Yes    42364\n",
       "No     42170\n",
       "Name: count, dtype: int64"
      ]
     },
     "execution_count": 12,
     "metadata": {},
     "output_type": "execute_result"
    }
   ],
   "execution_count": 12
  },
  {
   "cell_type": "code",
   "metadata": {
    "ExecuteTime": {
     "end_time": "2024-12-18T12:23:30.610048Z",
     "start_time": "2024-12-18T12:23:30.589910Z"
    }
   },
   "source": [
    "le = LabelEncoder()\n",
    "train_data_clean['Promotion'] = le.fit_transform(train_data_clean['Promotion'])\n",
    "\n",
    "# values after conversion\n",
    "train_data_clean['Promotion'].value_counts()"
   ],
   "outputs": [
    {
     "data": {
      "text/plain": [
       "Promotion\n",
       "1    42364\n",
       "0    42170\n",
       "Name: count, dtype: int64"
      ]
     },
     "execution_count": 13,
     "metadata": {},
     "output_type": "execute_result"
    }
   ],
   "execution_count": 13
  },
  {
   "metadata": {},
   "cell_type": "markdown",
   "source": "##### 2. Use standard scaler on V2 to compare with V3 more effectively."
  },
  {
   "metadata": {
    "ExecuteTime": {
     "end_time": "2024-12-18T12:23:32.115110Z",
     "start_time": "2024-12-18T12:23:32.111180Z"
    }
   },
   "cell_type": "code",
   "source": [
    "# scaler = StandardScaler()\n",
    "# train_data_clean['V2'] = scaler.fit_transform(train_data_clean[['V2']])\n",
    "# train_data_clean['V2'].describe()"
   ],
   "outputs": [],
   "execution_count": 14
  },
  {
   "metadata": {},
   "cell_type": "markdown",
   "source": "##### 3. Drop ID column"
  },
  {
   "metadata": {
    "ExecuteTime": {
     "end_time": "2024-12-18T12:23:33.614376Z",
     "start_time": "2024-12-18T12:23:33.599693Z"
    }
   },
   "cell_type": "code",
   "source": [
    "## Make ID the index the remove it\n",
    "train_data_clean.drop('ID', axis=1, inplace=True)\n",
    "train_data_clean.info()"
   ],
   "outputs": [
    {
     "name": "stdout",
     "output_type": "stream",
     "text": [
      "<class 'pandas.core.frame.DataFrame'>\n",
      "RangeIndex: 84534 entries, 0 to 84533\n",
      "Data columns (total 9 columns):\n",
      " #   Column     Non-Null Count  Dtype  \n",
      "---  ------     --------------  -----  \n",
      " 0   Promotion  84534 non-null  int64  \n",
      " 1   purchase   84534 non-null  int64  \n",
      " 2   V1         84534 non-null  int64  \n",
      " 3   V2         84534 non-null  float64\n",
      " 4   V3         84534 non-null  float64\n",
      " 5   V4         84534 non-null  int64  \n",
      " 6   V5         84534 non-null  int64  \n",
      " 7   V6         84534 non-null  int64  \n",
      " 8   V7         84534 non-null  int64  \n",
      "dtypes: float64(2), int64(7)\n",
      "memory usage: 5.8 MB\n"
     ]
    }
   ],
   "execution_count": 15
  },
  {
   "metadata": {},
   "cell_type": "markdown",
   "source": "##### 4. Convert categorical columns\n"
  },
  {
   "metadata": {
    "ExecuteTime": {
     "end_time": "2024-12-18T12:23:36.895923Z",
     "start_time": "2024-12-18T12:23:36.892389Z"
    }
   },
   "cell_type": "code",
   "source": [
    "# train_data_clean = pd.get_dummies(train_data_clean, columns=['V1', 'V4', 'V5', 'V6', 'V7'], dtype='int8', drop_first=True)\n",
    "# train_data_clean.head()"
   ],
   "outputs": [],
   "execution_count": 16
  },
  {
   "metadata": {},
   "cell_type": "markdown",
   "source": "##### 5. Create new response variable of customers who received a promotion and bought the product"
  },
  {
   "metadata": {
    "ExecuteTime": {
     "end_time": "2024-12-18T12:23:38.154447Z",
     "start_time": "2024-12-18T12:23:38.150811Z"
    }
   },
   "cell_type": "code",
   "source": [
    "# train_data_clean['response'] = np.where((train_data_clean['purchase'] == 1) &\n",
    "#                                         (train_data_clean['Promotion'] == 1), 1, 0)"
   ],
   "outputs": [],
   "execution_count": 17
  },
  {
   "cell_type": "code",
   "metadata": {
    "ExecuteTime": {
     "end_time": "2024-12-18T12:23:38.757617Z",
     "start_time": "2024-12-18T12:23:38.754142Z"
    }
   },
   "source": "# train_data_clean['response'].value_counts()",
   "outputs": [],
   "execution_count": 18
  },
  {
   "metadata": {
    "ExecuteTime": {
     "end_time": "2024-12-18T12:23:39.331190Z",
     "start_time": "2024-12-18T12:23:39.328430Z"
    }
   },
   "cell_type": "code",
   "source": "",
   "outputs": [],
   "execution_count": null
  },
  {
   "metadata": {
    "ExecuteTime": {
     "end_time": "2024-12-18T12:23:40.030915Z",
     "start_time": "2024-12-18T12:23:40.028618Z"
    }
   },
   "cell_type": "code",
   "source": "",
   "outputs": [],
   "execution_count": null
  },
  {
   "metadata": {
    "ExecuteTime": {
     "end_time": "2024-12-18T12:23:40.743888Z",
     "start_time": "2024-12-18T12:23:40.741065Z"
    }
   },
   "cell_type": "code",
   "source": "",
   "outputs": [],
   "execution_count": null
  },
  {
   "metadata": {},
   "cell_type": "markdown",
   "source": "## Exploratory Data Analysis"
  },
  {
   "metadata": {
    "ExecuteTime": {
     "end_time": "2024-12-18T12:23:42.746487Z",
     "start_time": "2024-12-18T12:23:42.714463Z"
    }
   },
   "cell_type": "code",
   "source": [
    "# Split data into control and treatment groups\n",
    "control_group = train_data_clean.query('Promotion == 0')\n",
    "treatment_group = train_data_clean.query('Promotion == 1')\n",
    "\n",
    "# drop promotion from treatment and control datasets as it's the split criteria\n",
    "treatment_group = treatment_group.drop('Promotion', axis=1, errors='ignore')\n",
    "control_group = control_group.drop('Promotion', axis=1, errors='ignore')\n",
    "treatment_group.head()"
   ],
   "outputs": [
    {
     "data": {
      "text/plain": [
       "    purchase  V1         V2        V3  V4  V5  V6  V7\n",
       "4          0   3  28.044331 -0.385883   1   1   2   2\n",
       "8          0   2  31.930423  0.393317   2   3   1   2\n",
       "10         0   1  32.770916 -1.511395   2   1   4   1\n",
       "12         0   1  36.957009  0.133583   2   3   1   1\n",
       "14         0   3  36.911714 -0.905350   2   2   4   1"
      ],
      "text/html": [
       "<div>\n",
       "<style scoped>\n",
       "    .dataframe tbody tr th:only-of-type {\n",
       "        vertical-align: middle;\n",
       "    }\n",
       "\n",
       "    .dataframe tbody tr th {\n",
       "        vertical-align: top;\n",
       "    }\n",
       "\n",
       "    .dataframe thead th {\n",
       "        text-align: right;\n",
       "    }\n",
       "</style>\n",
       "<table border=\"1\" class=\"dataframe\">\n",
       "  <thead>\n",
       "    <tr style=\"text-align: right;\">\n",
       "      <th></th>\n",
       "      <th>purchase</th>\n",
       "      <th>V1</th>\n",
       "      <th>V2</th>\n",
       "      <th>V3</th>\n",
       "      <th>V4</th>\n",
       "      <th>V5</th>\n",
       "      <th>V6</th>\n",
       "      <th>V7</th>\n",
       "    </tr>\n",
       "  </thead>\n",
       "  <tbody>\n",
       "    <tr>\n",
       "      <th>4</th>\n",
       "      <td>0</td>\n",
       "      <td>3</td>\n",
       "      <td>28.044331</td>\n",
       "      <td>-0.385883</td>\n",
       "      <td>1</td>\n",
       "      <td>1</td>\n",
       "      <td>2</td>\n",
       "      <td>2</td>\n",
       "    </tr>\n",
       "    <tr>\n",
       "      <th>8</th>\n",
       "      <td>0</td>\n",
       "      <td>2</td>\n",
       "      <td>31.930423</td>\n",
       "      <td>0.393317</td>\n",
       "      <td>2</td>\n",
       "      <td>3</td>\n",
       "      <td>1</td>\n",
       "      <td>2</td>\n",
       "    </tr>\n",
       "    <tr>\n",
       "      <th>10</th>\n",
       "      <td>0</td>\n",
       "      <td>1</td>\n",
       "      <td>32.770916</td>\n",
       "      <td>-1.511395</td>\n",
       "      <td>2</td>\n",
       "      <td>1</td>\n",
       "      <td>4</td>\n",
       "      <td>1</td>\n",
       "    </tr>\n",
       "    <tr>\n",
       "      <th>12</th>\n",
       "      <td>0</td>\n",
       "      <td>1</td>\n",
       "      <td>36.957009</td>\n",
       "      <td>0.133583</td>\n",
       "      <td>2</td>\n",
       "      <td>3</td>\n",
       "      <td>1</td>\n",
       "      <td>1</td>\n",
       "    </tr>\n",
       "    <tr>\n",
       "      <th>14</th>\n",
       "      <td>0</td>\n",
       "      <td>3</td>\n",
       "      <td>36.911714</td>\n",
       "      <td>-0.905350</td>\n",
       "      <td>2</td>\n",
       "      <td>2</td>\n",
       "      <td>4</td>\n",
       "      <td>1</td>\n",
       "    </tr>\n",
       "  </tbody>\n",
       "</table>\n",
       "</div>"
      ]
     },
     "execution_count": 19,
     "metadata": {},
     "output_type": "execute_result"
    }
   ],
   "execution_count": 19
  },
  {
   "metadata": {},
   "cell_type": "markdown",
   "source": "### Univariate Exploration"
  },
  {
   "cell_type": "code",
   "metadata": {
    "ExecuteTime": {
     "end_time": "2024-12-15T14:39:47.923959Z",
     "start_time": "2024-12-15T14:39:45.590706Z"
    }
   },
   "source": [
    "# get a general first idea of numeric feature distributions for the TREATMENT group\n",
    "pd.plotting.hist_frame(treatment_group, figsize=(20,10), bins=40, color=seafoam.base_color_group1)\n",
    "plt.suptitle(\"Distribution of TREATMENT GROUP\")\n",
    "plt.show()"
   ],
   "outputs": [
    {
     "data": {
      "text/plain": [
       "<Figure size 2000x1000 with 9 Axes>"
      ],
      "image/png": "[encoded data removed]"
     },
     "metadata": {},
     "output_type": "display_data"
    }
   ],
   "execution_count": 18
  },
  {
   "metadata": {
    "ExecuteTime": {
     "end_time": "2024-12-15T14:39:49.757150Z",
     "start_time": "2024-12-15T14:39:47.949722Z"
    }
   },
   "cell_type": "code",
   "source": [
    "# get a general first idea of numeric feature distributions for the CONTROL group\n",
    "pd.plotting.hist_frame(control_group, figsize=(20,10), bins=40, color=seafoam.base_color_group2)\n",
    "plt.suptitle(\"Distribution of CONTROL GROUP\")\n",
    "plt.show()"
   ],
   "outputs": [
    {
     "data": {
      "text/plain": [
       "<Figure size 2000x1000 with 9 Axes>"
      ],
      "image/png": "[encoded data removed]"
     },
     "metadata": {},
     "output_type": "display_data"
    }
   ],
   "execution_count": 19
  },
  {
   "metadata": {},
   "cell_type": "markdown",
   "source": [
    "> Observations: \n",
    "> \n",
    "> - By visual inspection, the distribution of features V1-V7 appears to be the same for control and treatment groups\n",
    "> - V2 and V3 are continues variables. V2 have normal distribution, V3 have uniform distribution\n",
    "> - The Rest of the fields appear to be categorical, however it's possible to tell if it's ordinal"
   ]
  },
  {
   "metadata": {
    "ExecuteTime": {
     "end_time": "2024-12-15T14:39:49.830491Z",
     "start_time": "2024-12-15T14:39:49.825343Z"
    }
   },
   "cell_type": "code",
   "source": [
    "def fd_optimal_bins(data: np.array) -> int:\n",
    "    \"\"\" The Freedman-Diaconis rule for optimal bin selection\n",
    "    Parameters: \n",
    "        data (np.array) - a one-dimensional array with data\n",
    "    Returns:\n",
    "        nbins (int) - number of bins\n",
    "    \"\"\"\n",
    "    assert data.ndim == 1\n",
    "    n = data.size\n",
    "    \n",
    "    p25, p75 = np.percentile(data, [25, 75])\n",
    "\n",
    "    width = 2. * (p75 - p25)/n**(1./3)\n",
    "    nbins = np.ceil((data.max() - data.min()) / width)\n",
    "    nbins = max(1, nbins)\n",
    "    \n",
    "    return nbins"
   ],
   "outputs": [],
   "execution_count": 20
  },
  {
   "metadata": {},
   "cell_type": "code",
   "source": [
    "# 2 fields are continues numerical values, lets deeper investigate them\n",
    "for col in ['V2', 'V3']:\n",
    "    plt.figure(figsize=(16, 4))\n",
    "    plt.subplot(1, 3, 1)\n",
    "    bin_size = fd_optimal_bins(train_data_clean[col])\n",
    "    # bins = np.arange(train_data_clean[col].min() - bin_size, train_data_clean[col].max() + bin_size, bin_size)\n",
    "    plt.hist(x=train_data_clean[col], bins=int(bin_size), color=seafoam.base_color)\n",
    "    plt.title('{} distribution'.format(col))\n",
    "    \n",
    "    ax = plt.subplot(1, 3, 2)\n",
    "    sm.qqplot(data=train_data_clean[col],\n",
    "                       line='q',\n",
    "                       ax=ax,\n",
    "                       marker='.',\n",
    "                       markerfacecolor=seafoam.base_color,\n",
    "                       markeredgecolor=seafoam.base_color,\n",
    "              )\n",
    "    plt.title('QQ Plot')\n",
    "    \n",
    "    plt.subplot(1, 3, 3)\n",
    "    sns.boxplot(data=train_data_clean, x=col, color=seafoam.base_color,\n",
    "                flierprops={\"marker\": \"x\"},\n",
    "                medianprops={\"color\": 'white'},\n",
    "                )\n",
    "    plt.title('Box plot showing outliers')\n",
    "    \n",
    "    plt.suptitle('{} Distribution Summary'.format(col), y=1.05)\n",
    "    plt.show()"
   ],
   "outputs": [],
   "execution_count": null
  },
  {
   "metadata": {},
   "cell_type": "markdown",
   "source": [
    ">Observations: \n",
    "> - V2 have some extreme outliers < 10 and > 50 "
   ]
  },
  {
   "metadata": {},
   "cell_type": "markdown",
   "source": "### Bivariate Exploration"
  },
  {
   "metadata": {},
   "cell_type": "code",
   "source": [
    "# Inspect differences in purchasing behavior between control and treatment groups\n",
    "for col in ['V2', 'V3']:\n",
    "    fig, ax = plt.subplots(ncols=2, figsize=(16, 4))\n",
    "    \n",
    "    plt.subplot(1, 2, 1)\n",
    "    sns.boxplot(data=control_group,\n",
    "                x=col,\n",
    "                hue='purchase',\n",
    "                dodge=True,\n",
    "                gap=0.1,\n",
    "                palette=(seafoam.base_color, seafoam.base_complimentary),\n",
    "                )\n",
    "    plt.title('Control group')\n",
    "    plt.xlabel('V2')\n",
    "    \n",
    "    plt.subplot(1, 2, 2)\n",
    "    sns.boxplot(data=treatment_group,\n",
    "                x=col,\n",
    "                hue='purchase',\n",
    "                dodge=True,\n",
    "                gap=0.1,\n",
    "                palette=(seafoam.base_color_group1, seafoam.base_complimentary),\n",
    "                )\n",
    "    plt.title('Treatment group')\n",
    "    \n",
    "    plt.suptitle('Distributions of {}'.format(col))\n",
    "    plt.show()"
   ],
   "outputs": [],
   "execution_count": null
  },
  {
   "metadata": {},
   "cell_type": "code",
   "source": [
    "# PLOT cdf to plot the differences in distribution in purchasing behavior between the 2 groups\n",
    "fig, ax = plt.subplots(nrows=2, figsize=(8, 8))\n",
    "i = 1\n",
    "for col in ['V2', 'V3']:\n",
    "    plt.subplot(2, 1, i)\n",
    "    cpur = control_group[control_group['purchase'] == 0][col]\n",
    "    tpur = treatment_group[treatment_group['purchase'] == 1][col]\n",
    "    c_sorted = np.sort(cpur)\n",
    "    ccum = np.cumsum(c_sorted / np.sum(c_sorted))\n",
    "    t_sorted = np.sort(tpur)\n",
    "    tcum = np.cumsum(t_sorted / np.sum(t_sorted))\n",
    "    sns.lineplot(x=c_sorted, y=ccum, label='control')\n",
    "    sns.lineplot(x=t_sorted, y=tcum, label='treatment')\n",
    "    plt.title('CDF for {}'.format(col))\n",
    "    plt.xlabel(col)\n",
    "    plt.ylabel('Cumulative Proportion')\n",
    "    i += 1\n",
    "    \n",
    "plt.suptitle('Cumulative Distribution Function (CDF) showing purchasing behavior differences')\n",
    "plt.show()"
   ],
   "outputs": [],
   "execution_count": null
  },
  {
   "metadata": {},
   "cell_type": "markdown",
   "source": "> There is a slight difference in purchasing behavior between treatment and control groups, the IQR of treatment are shifted slightly the left of the mean, however this difference is so small I think it's insignificant to further explore."
  },
  {
   "metadata": {},
   "cell_type": "code",
   "source": [
    "g = sns.FacetGrid(data=train_data_clean, hue='purchase', col='Promotion', margin_titles=True, height=3, aspect=1.4) \n",
    "g.map(sns.scatterplot, 'V3', 'V2', alpha=0.3, sizes=2)\n",
    "g.add_legend()\n",
    "g.set_titles('1', '2')\n",
    "plt.suptitle('V3: Purchasing comparison between control and treatment groups', y=1.1)\n",
    "plt.show()\n"
   ],
   "outputs": [],
   "execution_count": null
  },
  {
   "metadata": {},
   "cell_type": "markdown",
   "source": ""
  },
  {
   "cell_type": "code",
   "metadata": {},
   "source": [
    "# Analyze the correlation between numeric variables\n",
    "plt.figure(figsize=(20,20))\n",
    "sns.pairplot(treatment_group, \n",
    "             diag_kind='auto',\n",
    "             hue=\"purchase\", \n",
    "             hue_order=[0, 1],\n",
    "             corner=True, \n",
    "             height=1.5,\n",
    "             plot_kws={\"s\": 20, \"alpha\": 0.3},\n",
    "             )\n",
    "plt.show()"
   ],
   "outputs": [],
   "execution_count": null
  },
  {
   "metadata": {},
   "cell_type": "markdown",
   "source": [
    ">Observation:\n",
    "In cases with high imbalance like in this project, this kind of plot relieves little information"
   ]
  },
  {
   "metadata": {},
   "cell_type": "markdown",
   "source": [
    "#### Correlation analysis\n",
    "- Make sure independent variables does not have too high correlations with each other"
   ]
  },
  {
   "metadata": {},
   "cell_type": "code",
   "source": [
    "df_corr = treatment_group.corr(\n",
    "    method='spearman',\n",
    "    numeric_only=True,\n",
    "    min_periods=1)\n",
    "\n",
    "sns.clustermap(df_corr,\n",
    "               cmap=\"Spectral\",\n",
    "               center=0,\n",
    "               annot=True,\n",
    "               fmt='.2f',\n",
    "               vmax=0.1,\n",
    "               annot_kws={\"fontsize\": 7},\n",
    "               figsize=(8,8))\n",
    "\n",
    "plt.title('Feature correlation')\n",
    "plt.xticks(fontsize=10)\n",
    "plt.show()\n",
    "\n",
    "sns.set_style(\"white\")"
   ],
   "outputs": [],
   "execution_count": null
  },
  {
   "metadata": {},
   "cell_type": "code",
   "source": [
    "#  Get the strongest correlation of features with those who made a purchase\n",
    "dfs = [treatment_group, control_group]\n",
    "dfs_names = ['Treatment', 'Control']\n",
    "i = 0\n",
    "for df in dfs:\n",
    "    cols = list(df.columns)\n",
    "    cols.remove('purchase')\n",
    "    \n",
    "    corr_matrix = df[cols].corrwith(df[\"purchase\"],\n",
    "                                    method='spearman').sort_values()\n",
    "    \n",
    "    # Plot feature correlations to no_show\n",
    "    palette = sns.color_palette(\"viridis_r\", 15)\n",
    "    pos = 'cadetblue'\n",
    "    neg = 'pink'\n",
    "    corr_matrix.plot(\n",
    "        kind='bar',\n",
    "        color=np.vectorize({True: pos, False: neg}.get)(corr_matrix > 0))\n",
    "    \n",
    "    plt.xticks(rotation='vertical')\n",
    "    plt.ylabel('correlation')\n",
    "    plt.xlabel('features')\n",
    "    plt.title('{} correlation with purchase'.format(dfs_names[i]))\n",
    "    i =+ 1\n",
    "    plt.show()\n",
    "    "
   ],
   "outputs": [],
   "execution_count": null
  },
  {
   "metadata": {},
   "cell_type": "markdown",
   "source": "### Multivariate Exploration"
  },
  {
   "metadata": {},
   "cell_type": "code",
   "source": [
    "cols_of_interest = ['V4', 'V5']\n",
    "for col in cols_of_interest:\n",
    "    g = sns.catplot(data=train_data_clean, x=col, col='Promotion', hue='purchase', kind='count',\n",
    "                height=4, aspect=1, width=0.6) \n",
    "    # g.despine(left=True)\n",
    "    plt.suptitle(col, y=1.05)\n",
    "    \n",
    "    # iterate through each Facet (axes)\n",
    "    for ax in g.axes.ravel():\n",
    "        # iterate through the containers (bars)        \n",
    "        for bars in ax.containers:\n",
    "            labels = [f\"{x/train_data_clean.shape[0]:.1%}\" for x in bars.datavalues]\n",
    "            ax.bar_label(bars, labels)\n",
    "    \n",
    "    plt.show()"
   ],
   "outputs": [],
   "execution_count": null
  },
  {
   "metadata": {},
   "cell_type": "code",
   "source": [
    "plt.figure(figsize = [8,6])\n",
    "\n",
    "ax = sns.pointplot(data = treatment_group, x = 'V1', y = 'V4', hue = 'purchase',  palette='viridis', \n",
    "                   errorbar=None,\n",
    "                   dodge=True)\n",
    "\n",
    "# special handling of tick marks following seaborn function - you might try\n",
    "# doing a log transform on the data itself instead of this workaround.\n",
    "# plt.yscale('log')\n",
    "# plt.yticks([1, 2])\n",
    "# ax.set_yticklabels([], minor = True)\n",
    "\n",
    "plt.show();"
   ],
   "outputs": [],
   "execution_count": null
  },
  {
   "metadata": {},
   "cell_type": "markdown",
   "source": [
    "## Hypothesis test for Invariant Metric\n",
    "\n",
    "Make sure the control and treatment groups are the same.\n",
    "The number of customers that were offered promotions should be the same as those customers that did not receive the promotion.\n",
    "\n",
    "In this case, we want to do a two-sided hypothesis test on the proportion of promotions assigned to one of our conditions.\n",
    "\n",
    "Hypothesis to test:\n",
    "\n",
    "### $H_0: P_{no promotions} = 0.5$\n",
    "### $H_a: P_{no promotions} \\neq 0.5$"
   ]
  },
  {
   "metadata": {},
   "cell_type": "code",
   "source": [
    "total_observations = train_data_clean.shape[0]\n",
    "total_observations"
   ],
   "outputs": [],
   "execution_count": null
  },
  {
   "metadata": {},
   "cell_type": "code",
   "source": [
    "# total control group without promotions\n",
    "c_obs = control_group.shape[0]\n",
    "c_obs"
   ],
   "outputs": [],
   "execution_count": null
  },
  {
   "metadata": {},
   "cell_type": "code",
   "source": [
    "control_proportion = (control_group.shape[0] + 0.5)/total_observations\n",
    "control_proportion"
   ],
   "outputs": [],
   "execution_count": null
  },
  {
   "metadata": {},
   "cell_type": "code",
   "source": [
    "# total treatment group with promotions\n",
    "t_obs = treatment_group.shape[0]\n",
    "t_obs"
   ],
   "outputs": [],
   "execution_count": null
  },
  {
   "metadata": {},
   "cell_type": "code",
   "source": [
    "# Now calculate the sample standard deviation under the null\n",
    "# As we don't know population std, we calculate sample std but call it standard error\n",
    "# Null hypothesis is 50%, thus 0.5\n",
    "p = 0.5\n",
    "standard_error = np.sqrt((p*(1-p)/total_observations))\n",
    "standard_error"
   ],
   "outputs": [],
   "execution_count": null
  },
  {
   "metadata": {},
   "cell_type": "code",
   "source": [
    "# formula for z score is sample mean - null mean / se\n",
    "z = (control_proportion - p) / standard_error\n",
    "z"
   ],
   "outputs": [],
   "execution_count": null
  },
  {
   "metadata": {},
   "cell_type": "code",
   "source": [
    "# calculate the area under a normal curve (on calculator it is invnorm -999, -0.638, 0, 1)\n",
    "p_value = stats.norm.cdf(z, 0, 1)*2\n",
    "p_value"
   ],
   "outputs": [],
   "execution_count": null
  },
  {
   "metadata": {},
   "cell_type": "code",
   "source": [
    "# TODO\n",
    "# feature distributions should be the same\n",
    "cols = ['V1', 'V2', 'V3', 'V4', 'V5', 'V6', 'V7']\n",
    "for col in cols:\n",
    "    diff = treatment_group[col].std() - control_group[col].std()\n",
    "    "
   ],
   "outputs": [],
   "execution_count": null
  },
  {
   "metadata": {},
   "cell_type": "markdown",
   "source": [
    "### Conclusion\n",
    "\n",
    "Even though there's a few hundred more customers received promotions in the treatment group than the control group, the difference between groups isn't statistically significant. We should feel fine about moving on to test the evaluation metrics.\n",
    "\n",
    "Since P value is more than .05, we fail to reject the null hypothesis. it means that the number of customers in both groups is similar."
   ]
  },
  {
   "metadata": {},
   "cell_type": "markdown",
   "source": [
    "# Hypothesis test for IRR\n",
    "#### Did the promotion increase sales?\n",
    "\n",
    "Analyze the results of the experiment and identify the effect of the Treatment on product purchase and Net Incremental Revenue\n",
    "\n",
    "$$H_0 = \\frac{purch_{treat}}{cust_{treat}} - \\frac{purch_{ctrl}}{cust_{ctrl}} <= 0$$\n",
    "$$H_1 = \\frac{purch_{treat}}{cust_{treat}} - \\frac{purch_{ctrl}}{cust_{ctrl}} > 0$$"
   ]
  },
  {
   "metadata": {},
   "cell_type": "code",
   "source": [
    "control_ratio = control_group.purchase.sum() / control_group.shape[0]\n",
    "control_ratio"
   ],
   "outputs": [],
   "execution_count": null
  },
  {
   "metadata": {},
   "cell_type": "code",
   "source": [
    "treatment_ratio = treatment_group.purchase.sum() / treatment_group.shape[0]\n",
    "treatment_ratio"
   ],
   "outputs": [],
   "execution_count": null
  },
  {
   "metadata": {},
   "cell_type": "code",
   "source": [
    "IRR = treatment_ratio - control_ratio\n",
    "IRR"
   ],
   "outputs": [],
   "execution_count": null
  },
  {
   "metadata": {},
   "cell_type": "code",
   "source": "control_group.purchase.sum()",
   "outputs": [],
   "execution_count": null
  },
  {
   "metadata": {},
   "cell_type": "code",
   "source": "",
   "outputs": [],
   "execution_count": null
  },
  {
   "metadata": {},
   "cell_type": "code",
   "source": [
    "# calculate the total purchase rate\n",
    "combined_download_ratio = train_data_clean.purchase.sum() / train_data_clean.shape[0]\n",
    "combined_download_ratio"
   ],
   "outputs": [],
   "execution_count": null
  },
  {
   "metadata": {},
   "cell_type": "markdown",
   "source": "**Simulation Approach**"
  },
  {
   "metadata": {},
   "cell_type": "code",
   "source": [
    "# bootstrap download rate\n",
    "nr_trials = 10_000\n",
    "\n",
    "irr_sample_distribution = []\n",
    "for _ in range(nr_trials):\n",
    "    boot_sample = train_data_clean.sample(train_data_clean.shape[0], replace=True)\n",
    "    boot_control_group = boot_sample.query('Promotion == 0')\n",
    "    boot_treatment_group = boot_sample.query('Promotion == 1')\n",
    "    boot_control_ratio =   boot_control_group.purchase.sum() / control_group.shape[0]\n",
    "    boot_treatment_ratio = boot_treatment_group.purchase.sum() / treatment_group.shape[0]\n",
    "    irr = boot_treatment_ratio - boot_control_ratio\n",
    "    irr_sample_distribution.append(irr)\n",
    "    \n",
    "irr_sample_distribution = np.array(irr_sample_distribution)\n",
    "p_diff_mean = irr_sample_distribution.mean()\n",
    "p_diff_std = irr_sample_distribution.std()\n",
    "p_diff_std, p_diff_mean"
   ],
   "outputs": [],
   "execution_count": null
  },
  {
   "metadata": {},
   "cell_type": "code",
   "source": [
    "# Simulate the null when using sample distribution\n",
    "null_vals = np.random.normal(0, irr_sample_distribution.std(), irr_sample_distribution.size)\n",
    "\n",
    "plt.hist(irr_sample_distribution, label='sample distribution')\n",
    "plt.hist(null_vals, alpha=0.5, label='$H_0$ simulation')\n",
    "plt.axvline(IRR, color='r', label='actual IRR')\n",
    "plt.xlabel('IRR')\n",
    "plt.ylabel('#purchase rate')\n",
    "plt.title('Bootstrap distribution')\n",
    "plt.legend(loc='center right', bbox_to_anchor=(1.6, 0.9))\n",
    "plt.show()"
   ],
   "outputs": [],
   "execution_count": null
  },
  {
   "metadata": {},
   "cell_type": "code",
   "source": [
    "# probability to observe again the population proportion using nulls in a 2 sided z test\n",
    "p_value = (null_vals > irr).mean()\n",
    "p_value"
   ],
   "outputs": [],
   "execution_count": null
  },
  {
   "metadata": {},
   "cell_type": "markdown",
   "source": "**Analytical Approach**"
  },
  {
   "metadata": {},
   "cell_type": "code",
   "source": [
    "se = np.sqrt((combined_download_ratio * (1-combined_download_ratio)/t_obs) + (combined_download_ratio * (1-combined_download_ratio)/c_obs))\n",
    "se"
   ],
   "outputs": [],
   "execution_count": null
  },
  {
   "metadata": {},
   "cell_type": "code",
   "source": [
    "z = (treatment_ratio - control_ratio) / se\n",
    "z"
   ],
   "outputs": [],
   "execution_count": null
  },
  {
   "metadata": {},
   "cell_type": "code",
   "source": [
    "p_value = round(1 - stats.norm.cdf(z, 0, 1),4)\n",
    "p_value"
   ],
   "outputs": [],
   "execution_count": null
  },
  {
   "metadata": {},
   "cell_type": "markdown",
   "source": [
    "### Conclusion of IRR\n",
    "\n",
    "Since P is less than 0.5, we reject the null hypothesis. The difference of 0.9% in IRR is significant and could not have come from the null. Promotions have a positive effect on sales."
   ]
  },
  {
   "metadata": {},
   "cell_type": "markdown",
   "source": [
    "# Hypothesis test for NIR (Net Incremental Revenue)\n",
    "#### How much is made (or lost) by sending out the promotion?\n",
    "\n",
    "$ NIR = (10\\cdot purch_{treat} - 0.15 \\cdot cust_{treat}) - 10 \\cdot purch_{ctrl}$\n",
    "\n",
    "\n",
    "The experiment did not generate extra revenue\n",
    "$$H_0 = NIR <= 0 $$ \n",
    "$$H_1 = NIR > 0 $$\n",
    "\n"
   ]
  },
  {
   "metadata": {},
   "cell_type": "code",
   "source": [
    "# Actual observation from the supplied experiment data\n",
    "def nrr(control, treatment):\n",
    "    nir = ((10 * treatment.purchase.sum()) -\n",
    "           (0.15 * len(treatment)) -\n",
    "           (10 * control.purchase.sum()))\n",
    "    return nir"
   ],
   "outputs": [],
   "execution_count": null
  },
  {
   "metadata": {},
   "cell_type": "code",
   "source": "NIR = nrr(control_group, treatment_group)",
   "outputs": [],
   "execution_count": null
  },
  {
   "metadata": {},
   "cell_type": "code",
   "source": [
    "# bootstrap NIR\n",
    "nr_trials = 10_000\n",
    "nr_samples = 20_000\n",
    "\n",
    "nir_sample_distribution = []\n",
    "for _ in range(nr_trials):\n",
    "    boot_sample = train_data_clean.sample(train_data_clean.shape[0], replace=True)\n",
    "    boot_control_group = boot_sample.query('Promotion == 0') \n",
    "    boot_treatment_group = boot_sample.query('Promotion == 1') \n",
    "    boot_nir = nrr(boot_control_group, boot_treatment_group)\n",
    "    nir_sample_distribution.append(boot_nir)\n",
    "    \n",
    "nir_sample_distribution = np.array(nir_sample_distribution)\n",
    "nir_mean = nir_sample_distribution.mean()\n",
    "nir_std = nir_sample_distribution.std()\n",
    "nir_std, nir_mean\n"
   ],
   "outputs": [],
   "execution_count": null
  },
  {
   "metadata": {},
   "cell_type": "code",
   "source": [
    "# Simulate the null when using sample distribution\n",
    "null_vals = np.random.normal(0, nir_sample_distribution.std(), nir_sample_distribution.size)\n",
    "\n",
    "plt.hist(nir_sample_distribution, label='sample distribution')\n",
    "plt.hist(null_vals, alpha=0.5, label='$H_0$ simulation')\n",
    "plt.axvline(NIR, color='r', label='actual NIR')\n",
    "plt.xlabel('NIR')\n",
    "plt.ylabel('Net Incremental Revenue')\n",
    "plt.title('Bootstrap distribution')\n",
    "plt.legend(loc='center right', bbox_to_anchor=(1.6, 0.9))\n",
    "plt.show()"
   ],
   "outputs": [],
   "execution_count": null
  },
  {
   "metadata": {},
   "cell_type": "code",
   "source": [
    "# probability to observe again the population proportion using nulls in a 2 sided z test\n",
    "p_value = (null_vals > NIR).mean()\n",
    "p_value"
   ],
   "outputs": [],
   "execution_count": null
  },
  {
   "metadata": {},
   "cell_type": "markdown",
   "source": [
    "### Conclusion of NIR\n",
    "\n",
    "Since p-value is above our corrected significance level of 0.025, we fail to reject the NULL hypothesis. \n",
    "The incremental revenue between no promotion and promotion groups from the experiment sample is not statistically significant.\n",
    "There is no evidence that promotions generate more revenue."
   ]
  },
  {
   "metadata": {},
   "cell_type": "markdown",
   "source": "# Question 2: Modeling of promotion strategy"
  },
  {
   "metadata": {
    "ExecuteTime": {
     "end_time": "2024-12-18T12:23:56.013536Z",
     "start_time": "2024-12-18T12:23:56.003894Z"
    }
   },
   "cell_type": "code",
   "source": [
    "df_ml = treatment_group.copy(deep=True)\n",
    "df_ml.head()"
   ],
   "outputs": [
    {
     "data": {
      "text/plain": [
       "    purchase  V1         V2        V3  V4  V5  V6  V7\n",
       "4          0   3  28.044331 -0.385883   1   1   2   2\n",
       "8          0   2  31.930423  0.393317   2   3   1   2\n",
       "10         0   1  32.770916 -1.511395   2   1   4   1\n",
       "12         0   1  36.957009  0.133583   2   3   1   1\n",
       "14         0   3  36.911714 -0.905350   2   2   4   1"
      ],
      "text/html": [
       "<div>\n",
       "<style scoped>\n",
       "    .dataframe tbody tr th:only-of-type {\n",
       "        vertical-align: middle;\n",
       "    }\n",
       "\n",
       "    .dataframe tbody tr th {\n",
       "        vertical-align: top;\n",
       "    }\n",
       "\n",
       "    .dataframe thead th {\n",
       "        text-align: right;\n",
       "    }\n",
       "</style>\n",
       "<table border=\"1\" class=\"dataframe\">\n",
       "  <thead>\n",
       "    <tr style=\"text-align: right;\">\n",
       "      <th></th>\n",
       "      <th>purchase</th>\n",
       "      <th>V1</th>\n",
       "      <th>V2</th>\n",
       "      <th>V3</th>\n",
       "      <th>V4</th>\n",
       "      <th>V5</th>\n",
       "      <th>V6</th>\n",
       "      <th>V7</th>\n",
       "    </tr>\n",
       "  </thead>\n",
       "  <tbody>\n",
       "    <tr>\n",
       "      <th>4</th>\n",
       "      <td>0</td>\n",
       "      <td>3</td>\n",
       "      <td>28.044331</td>\n",
       "      <td>-0.385883</td>\n",
       "      <td>1</td>\n",
       "      <td>1</td>\n",
       "      <td>2</td>\n",
       "      <td>2</td>\n",
       "    </tr>\n",
       "    <tr>\n",
       "      <th>8</th>\n",
       "      <td>0</td>\n",
       "      <td>2</td>\n",
       "      <td>31.930423</td>\n",
       "      <td>0.393317</td>\n",
       "      <td>2</td>\n",
       "      <td>3</td>\n",
       "      <td>1</td>\n",
       "      <td>2</td>\n",
       "    </tr>\n",
       "    <tr>\n",
       "      <th>10</th>\n",
       "      <td>0</td>\n",
       "      <td>1</td>\n",
       "      <td>32.770916</td>\n",
       "      <td>-1.511395</td>\n",
       "      <td>2</td>\n",
       "      <td>1</td>\n",
       "      <td>4</td>\n",
       "      <td>1</td>\n",
       "    </tr>\n",
       "    <tr>\n",
       "      <th>12</th>\n",
       "      <td>0</td>\n",
       "      <td>1</td>\n",
       "      <td>36.957009</td>\n",
       "      <td>0.133583</td>\n",
       "      <td>2</td>\n",
       "      <td>3</td>\n",
       "      <td>1</td>\n",
       "      <td>1</td>\n",
       "    </tr>\n",
       "    <tr>\n",
       "      <th>14</th>\n",
       "      <td>0</td>\n",
       "      <td>3</td>\n",
       "      <td>36.911714</td>\n",
       "      <td>-0.905350</td>\n",
       "      <td>2</td>\n",
       "      <td>2</td>\n",
       "      <td>4</td>\n",
       "      <td>1</td>\n",
       "    </tr>\n",
       "  </tbody>\n",
       "</table>\n",
       "</div>"
      ]
     },
     "execution_count": 20,
     "metadata": {},
     "output_type": "execute_result"
    }
   ],
   "execution_count": 20
  },
  {
   "metadata": {
    "ExecuteTime": {
     "end_time": "2024-12-18T12:23:58.939923Z",
     "start_time": "2024-12-18T12:23:58.931255Z"
    }
   },
   "cell_type": "code",
   "source": [
    "cat_cols = ['V1', 'V4', 'V5', 'V6', 'V7']\n",
    "df_ml[cat_cols] = df_ml[cat_cols].astype(\"category\")"
   ],
   "outputs": [],
   "execution_count": 21
  },
  {
   "metadata": {},
   "cell_type": "markdown",
   "source": "### Model preprocessing"
  },
  {
   "metadata": {},
   "cell_type": "code",
   "outputs": [],
   "execution_count": null,
   "source": "cat_cols"
  },
  {
   "metadata": {},
   "cell_type": "code",
   "source": [
    "# Use standard scaler on V2 to compare with V3 more effectively.\n",
    "# scaler = StandardScaler()\n",
    "# df_ml['V2'] = scaler.fit_transform(df_ml[['V2']])\n",
    "# df_ml.describe()"
   ],
   "outputs": [],
   "execution_count": null
  },
  {
   "metadata": {},
   "cell_type": "code",
   "source": [
    "##### 4. Convert categorical columns\n",
    "\n",
    "# df_ml = pd.get_dummies(df_ml, columns=['V1', 'V4', 'V5', 'V6', 'V7'], dtype='int8', drop_first=True)\n",
    "# df_ml.head()"
   ],
   "outputs": [],
   "execution_count": null
  },
  {
   "metadata": {},
   "cell_type": "code",
   "source": [
    "# stats_cols = list(df_ml.columns)\n",
    "# stats_cols.remove('purchase')\n",
    "# stats_cols"
   ],
   "outputs": [],
   "execution_count": null
  },
  {
   "cell_type": "code",
   "metadata": {},
   "source": [
    "df_ml['intercept'] = 1\n",
    "lm = sm.Logit(df_ml['purchase'], df_ml[stats_cols])\n",
    "results = lm.fit(cov_type=\"hc1\")\n",
    "results.summary()"
   ],
   "outputs": [],
   "execution_count": null
  },
  {
   "metadata": {},
   "cell_type": "markdown",
   "source": [
    "### Mutual Information (MI) - Feature Importance\n",
    "\n",
    "Mutual Information (MI) is a way to show how every feature interact with the target variable in this case 'purchase'. To interact means how a particular feature changes the target variable. Note: Mutual Information only works with numerical data\n",
    "\n",
    "A higher value of MI means a closer connection between the feature and the target indicating feature importance for training the model. However, the lower the MI score like 0 indicates a weak connection between the feature and the target."
   ]
  },
  {
   "cell_type": "code",
   "metadata": {},
   "source": [
    "# display Mutual Information scores of the features\n",
    "\n",
    "def get_mi_score(X, y):\n",
    "    \"\"\"\n",
    "    Calculate mutual information to show feature importance.\n",
    "\n",
    "    Estimated mutual information between each feature and the target\n",
    "\n",
    "    Args:\n",
    "        X (array-like or sparse matrix) - Independent features\n",
    "        y (array-like) - Dependent feature to be predicted\n",
    "    Returns:\n",
    "        mi (ndarray) - estimated mutual information\n",
    "    \"\"\"\n",
    "\n",
    "    mi = mutual_info_regression(X, y, random_state=10)\n",
    "    mi = pd.Series(mi, index=X.columns).sort_values(ascending=False)\n",
    "    return mi\n",
    "\n",
    "mi_score = get_mi_score(df_ml[stats_cols], df_ml['purchase'])\n",
    "\n",
    "# Show most important features\n",
    "topn = 10\n",
    "plt.figure(figsize=(6, 8))\n",
    "ax = sns.barplot(y=mi_score.index[:topn], x=mi_score[:topn])\n",
    "plt.xlabel('MI score')\n",
    "plt.ylabel('Features')\n",
    "ax.set_title('Mutual Information (MI) scores showing feature importance')\n",
    "plt.show()"
   ],
   "outputs": [],
   "execution_count": null
  },
  {
   "metadata": {},
   "cell_type": "markdown",
   "source": [
    "## Test for multicollinearity using Variance Inflation Factor (VIF)\n",
    "\n",
    "Multicollinearity means, there are linear relationships or correlation between independent variables, which should not be the case for linear regression to be effective.\n",
    "\n",
    "Typically, a variable with VIF greater than 5 indicates Multicollinearity."
   ]
  },
  {
   "metadata": {},
   "cell_type": "code",
   "source": [
    "\n",
    "# gather features\n",
    "treatment_group.drop(['intercept'], inplace=True, axis=1, errors='ignore')\n",
    "vip_features = \" + \".join(treatment_group[cols])\n",
    "vip_features"
   ],
   "outputs": [],
   "execution_count": null
  },
  {
   "metadata": {},
   "cell_type": "code",
   "source": [
    "# merge X and y as required by statsmodels\n",
    "# vip_df = train_data_clean.merge(y_train, left_index=True, right_index=True)"
   ],
   "outputs": [],
   "execution_count": null
  },
  {
   "metadata": {},
   "cell_type": "code",
   "source": [
    "sm_y, sm_X = dmatrices('purchase ~' + vip_features,\n",
    "                       treatment_group,\n",
    "                       return_type='dataframe')\n",
    "vif = pd.DataFrame()\n",
    "vif['VIF Factor'] = \\\n",
    "    [variance_inflation_factor(sm_X.values, i) for i in range(sm_X.shape[1])]\n",
    "vif['features'] = sm_X.columns\n",
    "vif"
   ],
   "outputs": [],
   "execution_count": null
  },
  {
   "metadata": {},
   "cell_type": "code",
   "source": "",
   "outputs": [],
   "execution_count": null
  },
  {
   "metadata": {},
   "cell_type": "markdown",
   "source": "# Modeling - Clustering"
  },
  {
   "metadata": {},
   "cell_type": "code",
   "source": "df_ml.head()",
   "outputs": [],
   "execution_count": null
  },
  {
   "metadata": {},
   "cell_type": "code",
   "source": [
    "# Divide dataset into those who received a promotion and those who did not\n",
    "X_no_promotion = train_data_clean.query('Promotion == 0')\n",
    "X_promotion = train_data_clean.query('Promotion == 1')\n",
    "\n",
    "X_no_promotion = X_no_promotion[['V1', 'V2', 'V3', 'V4', 'V5', 'V6', 'V7']].copy(deep=True)\n",
    "X_promotion = X_promotion[['V1', 'V2', 'V3', 'V4', 'V5', 'V6', 'V7']].copy(deep=True)\n",
    "X_no_promotion.info()"
   ],
   "outputs": [],
   "execution_count": null
  },
  {
   "metadata": {},
   "cell_type": "code",
   "source": [
    "def get_kmeans_score(X, clusters):\n",
    "    kmeans = KMeans(n_clusters=clusters, random_state=3)\n",
    "    model = kmeans.fit(X)\n",
    "    predict = model.predict(X)\n",
    "    score = np.abs(model.score(X))\n",
    "    return score\n"
   ],
   "outputs": [],
   "execution_count": null
  },
  {
   "metadata": {},
   "cell_type": "code",
   "source": [
    "# Over a number of different cluster counts, \n",
    "# run k-means clustering on the data and compute the average within-cluster distances\n",
    "scores = []\n",
    "clusters = list(range(1,15,1))\n",
    "for cluster in clusters:\n",
    "    scores.append(get_kmeans_score(X_promotion, cluster))\n",
    "    \n",
    "# Investigate the change in within-cluster distance across number of clusters.\n",
    "fig = plt.figure(figsize=(20,10))\n",
    "plt.plot(clusters, scores, linestyle = '--', marker='o', color = 'b')\n",
    "plt.xlabel('Clusters (K)')\n",
    "plt.ylabel('Average distance to cluster centre')\n",
    "plt.title('Change in within-cluster distance across number of clusters')\n",
    "plt.show()"
   ],
   "outputs": [],
   "execution_count": null
  },
  {
   "metadata": {},
   "cell_type": "code",
   "source": [
    "# Re-fit the k-means model with the selected number of clusters and obtain\n",
    "# cluster predictions for the general population demographics data.\n",
    "kmeans = KMeans(n_clusters=4)\n",
    "model = kmeans.fit(X_promotion)\n",
    "promotion_labels = model.predict(X_promotion)\n",
    "df_promotion_labels = pd.DataFrame(promotion_labels,\n",
    "                                   columns=['cluster'])"
   ],
   "outputs": [],
   "execution_count": null
  },
  {
   "metadata": {},
   "cell_type": "code",
   "source": [
    "# What is returned, is for each person (row) in the customer dataset, \n",
    "# to which k-means group (1-20) they belong to\n",
    "no_promotion_labels = model.predict(X_no_promotion)\n",
    "df_no_promotion_labels = pd.DataFrame(no_promotion_labels, \n",
    "                                  columns=['cluster'])"
   ],
   "outputs": [],
   "execution_count": null
  },
  {
   "metadata": {},
   "cell_type": "code",
   "source": [
    "promotion_proportion = df_promotion_labels.cluster.value_counts(normalize=True, sort=False).sort_index()\n",
    "no_promotion_proportion = pd.DataFrame(df_no_promotion_labels, columns=['cluster']).cluster.value_counts(normalize=True, sort=False)\n",
    "proportion_differences = promotion_proportion - no_promotion_proportion\n",
    "\n",
    "\n",
    "fig, axes = plt.subplots(1, 2, figsize=(16, 8), sharex=True, sharey=True)\n",
    "\n",
    "no_promotion_proportion.plot(kind='bar', color='b', ax=axes[0])\n",
    "\n",
    "promotion_proportion.plot(kind='bar', color='y', ax=axes[1])\n",
    "\n",
    "axes[0].set_title('Customers who received no promotion')\n",
    "axes[1].set_title('Customers who received a promotion')\n",
    "\n",
    "axes[0].set_ylabel('Difference in proportions')\n",
    "axes[0].set_xlabel('Cluster')\n",
    "\n",
    "plt.show()"
   ],
   "outputs": [],
   "execution_count": null
  },
  {
   "metadata": {},
   "cell_type": "code",
   "source": [
    "proportion_differences.plot(kind='bar', \n",
    "                            color=np.vectorize({True: 'g', False: 'r'}.get)(proportion_differences > 0), \n",
    "                            figsize=(10,8))\n",
    "plt.xlabel('# of Cluster')\n",
    "plt.ylabel('Difference if proportions')\n",
    "plt.title('Difference if Proportions of clusters for full Population and Customer Data')\n",
    "plt.show()"
   ],
   "outputs": [],
   "execution_count": null
  },
  {
   "metadata": {},
   "cell_type": "code",
   "source": [
    "X_no_promotion['cluster'] = no_promotion_labels\n",
    "X_promotion['cluster'] = promotion_labels\n",
    "X_promotion.head()"
   ],
   "outputs": [],
   "execution_count": null
  },
  {
   "metadata": {},
   "cell_type": "code",
   "source": [
    "def plot_kmeans_weights_to_pca_relationship(kmeans, cluster, columns, threshold=0.05):\n",
    "    \n",
    "    weights = pd.DataFrame(np.round(kmeans.cluster_centers_, 4), columns=columns)\n",
    "    cluster_weight = weights.iloc[cluster, :]\n",
    "    title = 'PCA importance for cluster ' + str(cluster)\n",
    "    cluster_weight.loc[(cluster_weight > threshold) | (cluster_weight < -threshold)].sort_values(ascending=False).plot(kind=\"bar\", \n",
    "                                                                                      figsize=(10, 6), \n",
    "                                                                                      title=title)"
   ],
   "outputs": [],
   "execution_count": null
  },
  {
   "metadata": {},
   "cell_type": "code",
   "source": "kmeans.cluster_centers_",
   "outputs": [],
   "execution_count": null
  },
  {
   "metadata": {},
   "cell_type": "code",
   "source": [
    "weights = pd.DataFrame(np.round(kmeans.cluster_centers_, 4), columns=list(X_no_promotion.columns[:-1].tolist()))\n",
    "cluster_weight = weights.iloc[0, :]\n",
    "cluster_weight.loc[(cluster_weight > threshold) | (cluster_weight < -threshold)].sort_values(ascending=False).plot(kind=\"bar\", \n",
    "                                                                                      figsize=(10, 6), \n",
    "                                                                                      title=title)"
   ],
   "outputs": [],
   "execution_count": null
  },
  {
   "metadata": {},
   "cell_type": "code",
   "source": [
    "cluster_no_promotion = X_no_promotion.query('cluster == 0').mean()\n",
    "cluster_promotion = X_promotion.query('cluster == 0').mean()\n",
    "\n",
    "\n",
    "fig, axes = plt.subplots(1, 2, figsize=(16, 8), sharex=True, sharey=True)\n",
    "\n",
    "sns.barplot(cluster_no_promotion, ax=axes[0])\n",
    "sns.barplot(cluster_promotion, ax=axes[1])\n",
    "plt.show()"
   ],
   "outputs": [],
   "execution_count": null
  },
  {
   "metadata": {},
   "cell_type": "code",
   "source": "fig, axes = plt.subplots(1, 2, figsize=(16, 8), sharex=True, sharey=True)",
   "outputs": [],
   "execution_count": null
  },
  {
   "metadata": {},
   "cell_type": "code",
   "source": [
    "cluster_weight.loc[(cluster_weight > threshold) | (cluster_weight < -threshold)].sort_values(ascending=False).plot(kind=\"bar\", \n",
    "                                                                                      figsize=(10, 6), \n",
    "                                                                                      title=title)"
   ],
   "outputs": [],
   "execution_count": null
  },
  {
   "metadata": {},
   "cell_type": "code",
   "source": "list(X_no_promotion.columns)",
   "outputs": [],
   "execution_count": null
  },
  {
   "metadata": {},
   "cell_type": "code",
   "source": "",
   "outputs": [],
   "execution_count": null
  },
  {
   "metadata": {},
   "cell_type": "markdown",
   "source": "## Modeling XGBOOST"
  },
  {
   "metadata": {
    "ExecuteTime": {
     "end_time": "2024-12-18T14:25:27.254989Z",
     "start_time": "2024-12-18T14:25:27.248588Z"
    }
   },
   "cell_type": "code",
   "source": [
    "class Focal_Binary_Loss:\n",
    "    '''\n",
    "    The class of focal loss, allows the users to change the gamma parameter\n",
    "    '''\n",
    "\n",
    "    def __init__(self, gamma_indct):\n",
    "        '''\n",
    "        :param gamma_indct: The parameter to specify the gamma indicator\n",
    "        '''\n",
    "        self.gamma_indct = gamma_indct\n",
    "\n",
    "    def robust_pow(self, num_base, num_pow):\n",
    "        # numpy does not permit negative numbers to fractional power\n",
    "        # use this to perform the power algorithmic\n",
    "\n",
    "        return np.sign(num_base) * (np.abs(num_base)) ** (num_pow)\n",
    "\n",
    "    def focal_binary_object(self, pred, dtrain):\n",
    "        gamma_indct = self.gamma_indct\n",
    "        # retrieve data from dtrain matrix\n",
    "        label = dtrain.get_label()\n",
    "        # compute the prediction with sigmoid\n",
    "        sigmoid_pred = 1.0 / (1.0 + np.exp(-pred))\n",
    "        # gradient\n",
    "        # complex gradient with different parts\n",
    "        g1 = sigmoid_pred * (1 - sigmoid_pred)\n",
    "        g2 = label + ((-1) ** label) * sigmoid_pred\n",
    "        g3 = sigmoid_pred + label - 1\n",
    "        g4 = 1 - label - ((-1) ** label) * sigmoid_pred\n",
    "        g5 = label + ((-1) ** label) * sigmoid_pred\n",
    "        # combine the gradient\n",
    "        grad = gamma_indct * g3 * self.robust_pow(g2, gamma_indct) * np.log(g4 + 1e-9) + \\\n",
    "               ((-1) ** label) * self.robust_pow(g5, (gamma_indct + 1))\n",
    "        # combine the gradient parts to get hessian components\n",
    "        hess_1 = self.robust_pow(g2, gamma_indct) + \\\n",
    "                 gamma_indct * ((-1) ** label) * g3 * self.robust_pow(g2, (gamma_indct - 1))\n",
    "        hess_2 = ((-1) ** label) * g3 * self.robust_pow(g2, gamma_indct) / g4\n",
    "        # get the final 2nd order derivative\n",
    "        hess = ((hess_1 * np.log(g4 + 1e-9) - hess_2) * gamma_indct +\n",
    "                (gamma_indct + 1) * self.robust_pow(g5, gamma_indct)) * g1\n",
    "\n",
    "        return grad, hess"
   ],
   "outputs": [],
   "execution_count": 363
  },
  {
   "metadata": {
    "ExecuteTime": {
     "end_time": "2024-12-18T14:40:02.801302Z",
     "start_time": "2024-12-18T14:40:02.795267Z"
    }
   },
   "cell_type": "code",
   "source": [
    "class Weight_Binary_Cross_Entropy:\n",
    "    '''\n",
    "    The class of binary cross entropy loss, allows the users to change the weight parameter\n",
    "    '''\n",
    "\n",
    "    def __init__(self, imbalance_alpha):\n",
    "        '''\n",
    "        :param imbalance_alpha: the imbalanced \\alpha value for the minority class (label as '1')\n",
    "        '''\n",
    "        self.imbalance_alpha = imbalance_alpha\n",
    "\n",
    "    def weighted_binary_cross_entropy(self, pred, dtrain):\n",
    "        # assign the value of imbalanced alpha\n",
    "        imbalance_alpha = self.imbalance_alpha\n",
    "        # retrieve data from dtrain matrix\n",
    "        label = dtrain.get_label()\n",
    "        # compute the prediction with sigmoid\n",
    "        sigmoid_pred = 1.0 / (1.0 + np.exp(-pred))\n",
    "        # gradient\n",
    "        grad = -(imbalance_alpha ** label) * (label - sigmoid_pred)\n",
    "        hess = (imbalance_alpha ** label) * sigmoid_pred * (1.0 - sigmoid_pred)\n",
    "\n",
    "        return grad, hess"
   ],
   "outputs": [],
   "execution_count": 439
  },
  {
   "metadata": {
    "ExecuteTime": {
     "end_time": "2024-12-18T12:34:43.786368Z",
     "start_time": "2024-12-18T12:34:43.782953Z"
    }
   },
   "cell_type": "code",
   "source": "logger.info('Logging started...')",
   "outputs": [],
   "execution_count": 56
  },
  {
   "metadata": {},
   "cell_type": "code",
   "source": [
    "# train_data_clean['response'] = np.where((train_data_clean['purchase'] == 1) &\n",
    "#                                         (train_data_clean['Promotion'] == 1), 1, 0)"
   ],
   "outputs": [],
   "execution_count": null
  },
  {
   "metadata": {},
   "cell_type": "code",
   "source": "# train_data_clean['response'].value_counts()",
   "outputs": [],
   "execution_count": null
  },
  {
   "metadata": {
    "ExecuteTime": {
     "end_time": "2024-12-18T14:22:41.902179Z",
     "start_time": "2024-12-18T14:22:41.895879Z"
    }
   },
   "cell_type": "code",
   "source": [
    "def weighted_binary_cross_entropy(pred,dtrain,imbalance_alpha=5):\n",
    "    logger.info('weighted_binary_cross_entropy started...')\n",
    "    # retrieve data from dtrain matrix\n",
    "    label = dtrain.get_label()\n",
    "    # compute the prediction with sigmoid\n",
    "    sigmoid_pred = 1.0 / (1.0 + np.exp(-pred))\n",
    "    # gradient\n",
    "    grad = -(imbalance_alpha**label)*(label - sigmoid_pred)\n",
    "    hess = (imbalance_alpha**label)*sigmoid_pred*(1.0 - sigmoid_pred)\n",
    "    \n",
    "    return grad, hess\n",
    "\n",
    "\n",
    "def focal_binary_object(pred,dtrain,gamma_indct=1.4):\n",
    "    logger.info('focal_binary_object...')\n",
    "    # retrieve data from dtrain matrix\n",
    "    label = dtrain.get_label()\n",
    "    # compute the prediction with sigmoid\n",
    "    sigmoid_pred = 1.0 / (1.0 + np.exp(-pred))\n",
    "    # gradient\n",
    "    # complex gradient with different parts\n",
    "    grad_first_part = (label+((-1)**label)*sigmoid_pred)**gamma_indct\n",
    "    grad_second_part = label - sigmoid_pred\n",
    "    grad_third_part = gamma_indct*(1-label-sigmoid_pred)\n",
    "    grad_log_part = np.log(1-label-((-1)**label)*sigmoid_pred + + 1e-7)       # add a small number to avoid numerical instability\n",
    "    # combine the gradient\n",
    "    grad = -grad_first_part*(grad_second_part+grad_third_part*grad_log_part)\n",
    "    # combine the gradient parts to get hessian\n",
    "    hess_first_term = gamma_indct*(label+((-1)**label)*sigmoid_pred)**(gamma_indct-1)*sigmoid_pred*(1.0 - sigmoid_pred)*(grad_second_part+grad_third_part*grad_log_part)\n",
    "    hess_second_term = (-sigmoid_pred*(1.0 - sigmoid_pred)-gamma_indct*sigmoid_pred*(1.0 - sigmoid_pred)*grad_log_part-((1/(1-label-((-1)**label)*sigmoid_pred))*sigmoid_pred*(1.0 - sigmoid_pred)))*grad_first_part\n",
    "    # get the final 2nd order derivative\n",
    "    hess = -(hess_first_term+hess_second_term)\n",
    "    \n",
    "    return grad, hess\n",
    "\n"
   ],
   "outputs": [],
   "execution_count": 362
  },
  {
   "metadata": {
    "ExecuteTime": {
     "end_time": "2024-12-18T14:03:03.066837Z",
     "start_time": "2024-12-18T14:03:03.059789Z"
    }
   },
   "cell_type": "code",
   "source": [
    "from typing import Dict, List, Tuple\n",
    "class FocalBinaryLoss2:\n",
    "    \"\"\"\n",
    "    The class calculates focal loss for multi-label binary classification that contains imbalanced data.\n",
    "\n",
    "    This class was inspired by this [kaggle blob](https://www.kaggle.com/code/thedrcat/focal-multilabel-loss-in-pytorch-explained)\n",
    "    I changed the coding from a pytorch framework, to use numpy instead to use with XGBOOST\n",
    "\n",
    "    The gamma parameter is used to reduce the importance of majority classes,\n",
    "    forcing the model to focus more on minority classes.\n",
    "\n",
    "    A model trained with focal loss focuses relatively more on minority class patterns. As a result, it performs better.\n",
    "\n",
    "    Args:\n",
    "        gamma → float: down weighing of majority classes\n",
    "\n",
    "    Return:\n",
    "        focal_loss → float - average focal loss\n",
    "    \"\"\"\n",
    "\n",
    "    def __init__(self, gamma=2):\n",
    "        self.gamma = gamma\n",
    "\n",
    "\n",
    "    def sigmoid(self, x):\n",
    "        \"\"\" Calculate sigmoid function \"\"\"\n",
    "        return 1 / (1 + np.exp(-x))\n",
    "\n",
    "\n",
    "    def binary_cross_entropy(self, pred, y):\n",
    "        \"\"\" Calculate binary cross entropy loss \"\"\"\n",
    "        return -(pred.log() * y + (1 - y) * (1 - pred).log()).mean()\n",
    "\n",
    "\n",
    "    def focal_binary_cross_entropy(self, predt: np.ndarray, dtrain: xgb.DMatrix) -> Tuple[str, float]:\n",
    "        \"\"\" Focal Multilabel Loss\n",
    "\n",
    "        The class calculates focal loss for multi-label binary classification that contains imbalanced data.\n",
    "        Function was inspired from a pytorch implementation,\n",
    "        see [ref here](https://www.kaggle.com/code/thedrcat/focal-multilabel-loss-in-pytorch-explained)\n",
    "\n",
    "        The gamma parameter is used to reduce the importance of majority classes,\n",
    "        forcing the model to focus more on minority classes.\n",
    "\n",
    "        A model trained with focal loss focuses relatively more on minority class patterns.\n",
    "        As a result, it performs better.\n",
    "\n",
    "        Args:\n",
    "            gamma → float: down weighing of majority classes\n",
    "            pred: pd.DataFrame: label predictions\n",
    "            targets: pd.DataFrame: actual label values\n",
    "\n",
    "        Return:\n",
    "            focal_loss → float - average focal loss\n",
    "        \"\"\"\n",
    "\n",
    "        logger.info('focal loss function entered')\n",
    "        # number of classes we try to predict\n",
    "        y = dtrain.get_label()\n",
    "        num_labels = 2\n",
    "\n",
    "        # Flatten the logits and targets so that we can compare two vectors\n",
    "        l = preds.reshape(-1)\n",
    "        t = y.reshape(-1)\n",
    "\n",
    "        # Sigmoid is required when calculating the loss from logits\n",
    "        # (meaning it's not probability predictions, but 1 and 0)\n",
    "        # We apply sigmoid to the logits to squeeze the values between 0 and 1.\n",
    "        p = self.sigmoid(l)\n",
    "\n",
    "        # We are following now the standard binary cross entropy with logits loss.\n",
    "        # For positive examples, we'll take the sigmoid, for negative examples, we'll take 1-sigmoid.\n",
    "        # Good predictions will be close to 1, bad predictions will be close to 0.\n",
    "        p = np.where(t >= 0.5, p, 1 - p)\n",
    "\n",
    "        # Clamping the input to avoid being to close to zero or one. This is probably for numeric stability.\n",
    "        clamp_p = np.clip(p, 1e-4, 1 - 1e-4)\n",
    "\n",
    "        # Now we apply the negative log - this is the BCE loss.\n",
    "        # This will convert good predictions to a loss that is close to 0, and bad predictions will go to infinity.\n",
    "        logp = - np.log(clamp_p)\n",
    "        # logp = - np.log(np.clip(p, 1e-4, 1-1e-4))\n",
    "\n",
    "        loss = logp * ((1 - p) ** self.gamma)\n",
    "        loss = num_labels * loss.mean()\n",
    "        print('Focal loss: {}'.format(loss))\n",
    "        logger.info('focal loss: {}'.format(loss))\n",
    "\n",
    "        return 'focal_loss', loss\n",
    "    \n",
    "    # from focalloss import FocalBinaryLoss2"
   ],
   "outputs": [],
   "execution_count": 314
  },
  {
   "metadata": {
    "ExecuteTime": {
     "end_time": "2024-12-18T14:03:04.599506Z",
     "start_time": "2024-12-18T14:03:04.593848Z"
    }
   },
   "cell_type": "code",
   "source": [
    "X = df_ml.drop('purchase', axis=1)\n",
    "y = df_ml['purchase'].copy(deep=True)\n",
    "X.shape, y.shape"
   ],
   "outputs": [
    {
     "data": {
      "text/plain": [
       "((42364, 7), (42364,))"
      ]
     },
     "execution_count": 315,
     "metadata": {},
     "output_type": "execute_result"
    }
   ],
   "execution_count": 315
  },
  {
   "metadata": {
    "ExecuteTime": {
     "end_time": "2024-12-18T15:14:08.553146Z",
     "start_time": "2024-12-18T15:14:07.123211Z"
    }
   },
   "cell_type": "code",
   "source": [
    "# split dataset into train and test datasets\n",
    "X_train_val, X_test, y_train_val, y_test = train_test_split(\n",
    "    X,\n",
    "    y,\n",
    "    stratify=y,\n",
    "    test_size=0.20, \n",
    "    random_state=random_state\n",
    ")\n",
    "# Split again train into a train and validation dataset\n",
    "X_train, X_validation, y_train, y_validation = train_test_split(\n",
    "    X_train_val,\n",
    "    y_train_val,\n",
    "    stratify=y_train_val,\n",
    "    test_size=0.20, \n",
    "    random_state=random_state\n",
    ")\n",
    "\n",
    "# resample the minority class\n",
    "# resample = RandomOverSampler(sampling_strategy='minority', random_state=random_state)\n",
    "# smote = SMOTE(k_neighbors=5, random_state=random_state, sampling_strategy='minority')\n",
    "smenn = SMOTEENN( random_state=random_state)\n",
    "X_resampled, y_resampled = smenn.fit_resample(X_train, y_train)\n",
    "\n",
    "# Show the results of the split\n",
    "print(\"Training dataset has {} samples.\".format(X_train.shape[0]))\n",
    "print(\"Validation dataset has {} samples.\".format(X_validation.shape[0]))\n",
    "print(\"Test dataset has {} samples.\".format(X_test.shape[0]))\n",
    "print(\"Resampled Training dataset has {} samples.\".format(X_resampled.shape[0]))\n",
    "print(\"Resampled Training label dataset has {} samples.\".format(y_resampled.shape[0]))"
   ],
   "outputs": [
    {
     "name": "stdout",
     "output_type": "stream",
     "text": [
      "Training dataset has 27112 samples.\n",
      "Validation dataset has 6779 samples.\n",
      "Test dataset has 8473 samples.\n",
      "Resampled Training dataset has 49924 samples.\n",
      "Resampled Training label dataset has 49924 samples.\n"
     ]
    }
   ],
   "execution_count": 540
  },
  {
   "metadata": {
    "ExecuteTime": {
     "end_time": "2024-12-18T15:14:09.370828Z",
     "start_time": "2024-12-18T15:14:09.359103Z"
    }
   },
   "cell_type": "code",
   "source": [
    "from collections import Counter\n",
    "print('Original dataset shape %s' % Counter(y_train))\n",
    "print('Resampled dataset shape %s' % Counter(y_resampled))"
   ],
   "outputs": [
    {
     "name": "stdout",
     "output_type": "stream",
     "text": [
      "Original dataset shape Counter({0: 26650, 1: 462})\n",
      "Resampled dataset shape Counter({1: 26065, 0: 23859})\n"
     ]
    }
   ],
   "execution_count": 541
  },
  {
   "metadata": {
    "ExecuteTime": {
     "end_time": "2024-12-19T21:36:55.037639Z",
     "start_time": "2024-12-19T21:36:55.020388Z"
    }
   },
   "cell_type": "code",
   "source": [
    "# scaler = StandardScaler()\n",
    "# X_resampled['V2'] = scaler.fit_transform(X_resampled[['V2']])\n",
    "# X_validation['V2'] = scaler.fit_transform(X_validation[['V2']])\n",
    "# X_train['V2'] = scaler.fit_transform(X_train[['V2']])\n",
    "\n",
    "# dtrain = xgb.DMatrix(X_train, label=y_train, enable_categorical=True)\n",
    "dtrain = xgb.DMatrix(X_resampled, label=y_resampled, enable_categorical=True)\n",
    "dval = xgb.DMatrix(X_validation, label=y_validation, enable_categorical=True)\n",
    "eval_set = [(X_resampled, y_resampled), (X_validation, y_validation)]\n",
    "# eval_set = [(X_train, y_train), (X_train, y_train)]"
   ],
   "outputs": [],
   "execution_count": 708
  },
  {
   "metadata": {
    "ExecuteTime": {
     "end_time": "2024-12-19T21:34:14.988760Z",
     "start_time": "2024-12-19T21:34:14.985146Z"
    }
   },
   "cell_type": "code",
   "source": [
    "focal_loss = FocalBinaryLoss2(gamma=10)\n",
    "fl = make_scorer(focal_loss.focal_binary_cross_entropy)"
   ],
   "outputs": [],
   "execution_count": 689
  },
  {
   "metadata": {
    "ExecuteTime": {
     "end_time": "2024-12-19T21:34:15.697723Z",
     "start_time": "2024-12-19T21:34:15.694886Z"
    }
   },
   "cell_type": "code",
   "source": "# rmtree(cachedir)",
   "outputs": [],
   "execution_count": 690
  },
  {
   "metadata": {
    "ExecuteTime": {
     "end_time": "2024-12-19T21:34:16.276609Z",
     "start_time": "2024-12-19T21:34:16.264413Z"
    }
   },
   "cell_type": "code",
   "source": [
    "scale_pos_weight = len(df_ml.query('purchase == 0')) / len(df_ml.query('purchase == 1'))\n",
    "scale_pos_weight"
   ],
   "outputs": [
    {
     "data": {
      "text/plain": [
       "57.75728155339806"
      ]
     },
     "execution_count": 691,
     "metadata": {},
     "output_type": "execute_result"
    }
   ],
   "execution_count": 691
  },
  {
   "metadata": {
    "ExecuteTime": {
     "end_time": "2024-12-19T21:34:16.742946Z",
     "start_time": "2024-12-19T21:34:16.738866Z"
    }
   },
   "cell_type": "code",
   "source": [
    "# xgb.set_config(verbosity=0)\n",
    "\n",
    "# cache transformers, so they are only executed once, especially during gridsearch\n",
    "# cachedir = 'cache'\n",
    "# Set class weights\n",
    "class_weights = {0: 1, 1: 10}\n",
    "params = {\n",
    "    'objective': 'binary:logistic',\n",
    "    'eval_metric': 'aucpr',\n",
    "    # 'class_weight': class_weights,\n",
    "    # 'custom_metric': fl,\n",
    "    # 'disable_default_eval_metric': 1,\n",
    "    'random_state': random_state,\n",
    "    'scale_pos_weight': scale_pos_weight,\n",
    "    'max_delta_step': 1,\n",
    "    'booster': 'gbtree',\n",
    "    # 'silent': True,\n",
    "    # \"verbosity\": 0,\n",
    "    \"max_depth\": 6,\n",
    "    # \"nr_estimators\": 100,\n",
    "    # \"silent\": 1,\n",
    "    # 'enable_categorical': True, \n",
    "}\n",
    "\n",
    "# # preprocessor \n",
    "# categorical_cols = ['V1', 'V4', 'V5', 'V6', 'V7']\n",
    "# preprocessor = ColumnTransformer(transformers=[\n",
    "#     # ('one_hot', OneHotEncoder(dtype='int', sparse_output=False), categorical_cols),    \n",
    "#     ('scaler', StandardScaler(), ['V2']),\n",
    "# ],\n",
    "#     verbose_feature_names_out=False,\n",
    "#     remainder='passthrough',\n",
    "#     verbose=False,\n",
    "#     sparse_threshold=0,\n",
    "#     force_int_remainder_cols=False\n",
    "# ).set_output(transform='pandas')\n",
    "# \n",
    "# model_base = Pipeline([\n",
    "#     # ('preprocessor', preprocessor),\n",
    "#     ('clf', xgb.XGBClassifier(**params, verbose_eval=10, obj=weighted_binary_cross_entropy)),    \n",
    "# ],\n",
    "#     # memory=cachedir,\n",
    "#     verbose=False,\n",
    "# )"
   ],
   "outputs": [],
   "execution_count": 692
  },
  {
   "metadata": {
    "ExecuteTime": {
     "end_time": "2024-12-19T21:34:17.802012Z",
     "start_time": "2024-12-19T21:34:17.799314Z"
    }
   },
   "cell_type": "code",
   "source": [
    "# model_base = xgb.XGBClassifier(**params, verbose_eval=10, obj=weighted_binary_cross_entropy)\n",
    "# model_base.fit(X_train, y_train, \n",
    "#                eval_set=eval_set,\n",
    "#                verbose=True)\n",
    "# rmtree(cachedir)\n",
    "\n",
    "# preds = model_base.predict(X_validation)\n",
    "# print('AUC: {}'.format(roc_auc_score(y_validation, preds)))\n",
    "# # pred_labels = np.rint(preds)\n",
    "# accuracy = accuracy_score(y_validation, preds)\n",
    "# print('Accuracy: {}'.format(accuracy))"
   ],
   "outputs": [],
   "execution_count": 693
  },
  {
   "metadata": {
    "ExecuteTime": {
     "end_time": "2024-12-19T21:34:18.397885Z",
     "start_time": "2024-12-19T21:34:18.394784Z"
    }
   },
   "cell_type": "code",
   "source": [
    "focal_loss_obj = Focal_Binary_Loss(gamma_indct=12)\n",
    "weighted_loss_obj = Weight_Binary_Cross_Entropy(imbalance_alpha=20)"
   ],
   "outputs": [],
   "execution_count": 694
  },
  {
   "metadata": {
    "ExecuteTime": {
     "end_time": "2024-12-19T21:34:20.450386Z",
     "start_time": "2024-12-19T21:34:18.973092Z"
    }
   },
   "cell_type": "code",
   "source": [
    "# # setup parameters for xgboost\n",
    "# param = {\n",
    "#     'objective': 'binary:logistic',\n",
    "#     'eval_metric': 'aucpr',\n",
    "#     'random_state': random_state,\n",
    "#     'booster': 'gbtree',\n",
    "#     'silent': True,\n",
    "#     \"verbosity\": 0,\n",
    "# }\n",
    "evals = [(dtrain, 'train'), (dval, 'test')]\n",
    "\n",
    "def evalerror(preds, dtrain):\n",
    "    labels = dtrain.get_label()\n",
    "    # return a pair metric_name, result\n",
    "    # since preds are margin(before logistic transformation, cutoff at 0)\n",
    "    \n",
    "    return 'error', float(sum(labels != (preds > 0.0))) / len(labels)\n",
    "\n",
    "\n",
    "\n",
    "bst = xgb.train(params=params,\n",
    "                dtrain=dtrain,\n",
    "                num_boost_round=1000,\n",
    "                evals=evals,\n",
    "                # obj=weighted_binary_cross_entropy,\n",
    "                obj=weighted_loss_obj.weighted_binary_cross_entropy,\n",
    "                # obj=focal_binary_object,\n",
    "                # obj=focal_loss_obj.focal_binary_object,\n",
    "                # custom_metric = evalerror,\n",
    "                verbose_eval=30,\n",
    "                early_stopping_rounds=100,\n",
    "                )\n",
    "\n",
    "# get prediction\n",
    "preds = bst.predict(dval)\n",
    "print('AUC: {}'.format(roc_auc_score(y_validation, preds)))\n",
    "pred_labels = np.rint(preds)\n",
    "accuracy = accuracy_score(y_validation, pred_labels)\n",
    "print('Accuracy: {}'.format(accuracy))"
   ],
   "outputs": [
    {
     "name": "stdout",
     "output_type": "stream",
     "text": [
      "[0]\ttrain-aucpr:0.62192\ttest-aucpr:0.02123\n",
      "[30]\ttrain-aucpr:0.99518\ttest-aucpr:0.03257\n",
      "[60]\ttrain-aucpr:0.99845\ttest-aucpr:0.02916\n",
      "[90]\ttrain-aucpr:0.99937\ttest-aucpr:0.02714\n",
      "[120]\ttrain-aucpr:0.99974\ttest-aucpr:0.02642\n",
      "[133]\ttrain-aucpr:0.99981\ttest-aucpr:0.02611\n",
      "AUC: 0.6175609374184456\n",
      "Accuracy: 0.8850862959138516\n"
     ]
    }
   ],
   "execution_count": 695
  },
  {
   "metadata": {
    "ExecuteTime": {
     "end_time": "2024-12-19T21:34:20.563561Z",
     "start_time": "2024-12-19T21:34:20.536340Z"
    }
   },
   "cell_type": "code",
   "source": "print(classification_report(y_validation, pred_labels, zero_division=0, output_dict=False))",
   "outputs": [
    {
     "name": "stdout",
     "output_type": "stream",
     "text": [
      "              precision    recall  f1-score   support\n",
      "\n",
      "           0       0.98      0.90      0.94      6664\n",
      "           1       0.03      0.17      0.05       115\n",
      "\n",
      "    accuracy                           0.89      6779\n",
      "   macro avg       0.51      0.53      0.49      6779\n",
      "weighted avg       0.97      0.89      0.92      6779\n",
      "\n"
     ]
    }
   ],
   "execution_count": 696
  },
  {
   "metadata": {
    "ExecuteTime": {
     "end_time": "2024-12-19T21:34:23.187340Z",
     "start_time": "2024-12-19T21:34:23.181969Z"
    }
   },
   "cell_type": "code",
   "source": [
    "# print confusion metrix\n",
    "print('\\nConfusion matrix : \\n{}'.format(confusion_matrix(y_validation, pred_labels)))"
   ],
   "outputs": [
    {
     "name": "stdout",
     "output_type": "stream",
     "text": [
      "\n",
      "Confusion matrix : \n",
      "[[5981  683]\n",
      " [  96   19]]\n"
     ]
    }
   ],
   "execution_count": 697
  },
  {
   "metadata": {
    "ExecuteTime": {
     "end_time": "2024-12-19T21:34:28.227145Z",
     "start_time": "2024-12-19T21:34:28.094758Z"
    }
   },
   "cell_type": "code",
   "source": [
    "from sklearn.metrics import confusion_matrix, ConfusionMatrixDisplay\n",
    "cm = confusion_matrix(y_validation, pred_labels)\n",
    "disp = ConfusionMatrixDisplay(confusion_matrix=cm,\n",
    "                              display_labels=[0, 1])\n",
    "disp.plot()\n",
    "plt.show()"
   ],
   "outputs": [
    {
     "data": {
      "text/plain": [
       "<Figure size 800x400 with 2 Axes>"
      ],
      "image/png": "[encoded data removed]"
     },
     "metadata": {},
     "output_type": "display_data"
    }
   ],
   "execution_count": 698
  },
  {
   "metadata": {
    "ExecuteTime": {
     "end_time": "2024-12-19T21:34:30.550150Z",
     "start_time": "2024-12-19T21:34:30.547857Z"
    }
   },
   "cell_type": "code",
   "source": "",
   "outputs": [],
   "execution_count": null
  },
  {
   "metadata": {
    "ExecuteTime": {
     "end_time": "2024-12-19T21:34:31.317899Z",
     "start_time": "2024-12-19T21:34:31.315540Z"
    }
   },
   "cell_type": "code",
   "source": "",
   "outputs": [],
   "execution_count": null
  },
  {
   "metadata": {},
   "cell_type": "markdown",
   "source": [
    "## Cross validation with Optuna\n",
    "\n",
    "auc = study = xgboost-starbucks\n",
    "aucpr = study - xgboost_starbucks-aucpr\n",
    "error - study - xgboost-starbucks-error\n",
    "\n",
    "try error, aucpr, and also directly irr ??"
   ]
  },
  {
   "metadata": {
    "ExecuteTime": {
     "end_time": "2024-12-18T15:41:17.122219Z",
     "start_time": "2024-12-18T15:41:17.033743Z"
    }
   },
   "cell_type": "code",
   "source": "optuna.delete_study(study_name=\"xgboost-starbucks\", storage=storage_name)",
   "outputs": [],
   "execution_count": 561
  },
  {
   "metadata": {
    "ExecuteTime": {
     "end_time": "2024-12-19T21:37:55.623103Z",
     "start_time": "2024-12-19T21:37:55.620357Z"
    }
   },
   "cell_type": "code",
   "source": [
    "# Unique identifier of the study\n",
    "study_name = \"xgboost-starbucks\"\n",
    "\n",
    "# Propagate logs to the root logger\n",
    "optuna.logging.enable_propagation() \n",
    "\n",
    "# Stop showing logs in sys.stderr\n",
    "optuna.logging.disable_default_handler()\n",
    "\n",
    "storage_name = 'sqlite:///starbucks.db'"
   ],
   "outputs": [],
   "execution_count": 711
  },
  {
   "metadata": {
    "ExecuteTime": {
     "end_time": "2024-12-19T21:37:56.458216Z",
     "start_time": "2024-12-19T21:37:56.449417Z"
    }
   },
   "cell_type": "code",
   "source": [
    "def objective(trial, dtrain, dval, features, labels, model, eval_score, n_splits=3, random_state=random_state):\n",
    "    \"\"\" Grid search using Bayes Optimization with OPTUNA\n",
    "\n",
    "    Args:\n",
    "        trial\n",
    "        features: pd.DataFrame: pandas dataframe containing features (X_train)\n",
    "        labels: pd.DataFrame: pandas dataframe containing true labels (y_train)\n",
    "        model: estimator, creating with sci-kit learn Pipeline\n",
    "        eval_score: scorer callable object created with sci-kit learn make_scorer\n",
    "        n_splits: int, number of splits for cross-validation\n",
    "        random_state: int, random seed for splitting\n",
    "\n",
    "    Return:\n",
    "        objective_score: score of a trial\n",
    "    \"\"\"\n",
    "\n",
    "    params = {\n",
    "        'verbosity': 0,\n",
    "        'objective': 'binary:logistic',\n",
    "        'eval_metric': 'aucpr',\n",
    "        'random_state': random_state,\n",
    "        'booster': 'gbtree',   \n",
    "        'grow_policy': 'lossguide',\n",
    "        'scale_pos_weight': trial.suggest_int('scale_pos_weight', low=1, high=100, step=1),\n",
    "        'max_delta_step': trial.suggest_float('max_delta_step', low=0, high=100),\n",
    "        'colsample_bytree': trial.suggest_float('colsample_bytree', low=0.5, high=1),\n",
    "        'n_estimators': trial.suggest_categorical('n_estimators', [100, 150, 200]),\n",
    "        'min_child_weight': trial.suggest_float('min_child_weight', low=1, high=100),\n",
    "        'min_data_in_leaf': trial.suggest_float('min_data_in_leaf', low=1, high=100),\n",
    "        \"lambda\": trial.suggest_float(\"lambda\", 1e-4, 100),\n",
    "        \"alpha\": trial.suggest_float('reg_alpha', low=0.0001, high=100),\n",
    "        \"max_depth\": trial.suggest_int(\"max_depth\", 1, 9),\n",
    "        \"eta\": trial.suggest_float(\"eta\", 1e-4, 100),\n",
    "        \"gamma\": trial.suggest_float(\"gamma\", 1e-4, 100.0),\n",
    "        'learning_rate': trial.suggest_float('learning_rate', low=0.0001, high=10, log=True),\n",
    "        # 'min_samples_split': 2\n",
    "        # \"grow_policy\": trial.suggest_categorical(\"grow_policy\", [\"depthwise\", \"lossguide\"])\n",
    "    }\n",
    "\n",
    "    # evals = [(dtrain, 'train'), (dvalid, 'test')]\n",
    "    # model = xgb.train(params=param,\n",
    "    #                 dtrain=dtrain,\n",
    "    #                 num_boost_round=200,\n",
    "    #                 evals=evals,\n",
    "    #                 obj=weighted_binary_cross_entropy,\n",
    "    #                 verbose_eval=0)\n",
    "    \n",
    "    # pruning_callback = optuna.integration.XGBoostPruningCallback(trial, \"valid-auc\")\n",
    "    # scorer = make_scorer(f1_score, average='micro', zero_division=0)\n",
    "    # clf = XGBClassifier(**params)\n",
    "    \n",
    "    cv = RepeatedStratifiedKFold(n_splits=6, n_repeats=n_splits, random_state=random_state)\n",
    "    xgb_cv_results = xgb.cv(\n",
    "        params=params, \n",
    "        dtrain=dtrain, \n",
    "        stratified=True, \n",
    "        folds=cv,\n",
    "        num_boost_round=4000, \n",
    "        early_stopping_rounds=100,\n",
    "        # custom_metric=make_scorer(f1_score, average='macro', zero_division=0),\n",
    "        # disable_default_eval_metric=True,\n",
    "        seed=random_state,\n",
    "        # callbacks=[pruning_callback],\n",
    "        verbose_eval=False,\n",
    "        shuffle=True,\n",
    "        obj=weighted_loss_obj.weighted_binary_cross_entropy,\n",
    "        # custom_metric = evalerror,\n",
    "    )\n",
    "    \n",
    "    # Set n_estimators as a trial attribute; Accessible via study.trials_dataframe().\n",
    "    trial.set_user_attr(\"n_estimators\", len(xgb_cv_results))\n",
    "    \n",
    "    # Extract the best score.\n",
    "    best_score = xgb_cv_results[\"test-aucpr-mean\"].values[-1]\n",
    "    \n",
    "    # evallist = [(dtrain, 'train'), (dval, 'validation')]\n",
    "    # bst = xgb.train(param, \n",
    "    #                 dtrain, \n",
    "    #                 evals=evallist,\n",
    "    #                 obj=focal_binary_object,\n",
    "    #                 num_boost_round=500,\n",
    "    #                 early_stopping_rounds=100,\n",
    "    #                 # callbacks=[pruning_callback],\n",
    "    #                 verbose_eval=None)\n",
    "    \n",
    "    # Set n_estimators as a trial attribute; Accessible via study.trials_dataframe().\n",
    "    # trial.set_user_attr(\"n_estimators\", len(xgb_cv_results))\n",
    "    \n",
    "    # preds = bst.predict(dvalid)\n",
    "    # auc = roc_auc_score(y_validation, preds)\n",
    "    \n",
    "    # score = xgb_cv_results[\"test-aucpr-mean\"].values[-1]\n",
    "    \n",
    "    \n",
    "    \n",
    "    # objective_score = cross_val_score(estimator=model,\n",
    "    #                               X=features,\n",
    "    #                               y=labels,\n",
    "    #                               scoring=scorer,\n",
    "    #                               cv=StratifiedKFold(n_splits=n_splits, shuffle=True, random_state=random_state),\n",
    "    #                               ).mean()\n",
    "    \n",
    "    \n",
    "    # model.set_params(**params) \n",
    "    # \n",
    "    # objective_score = cross_val_score(estimator=model,\n",
    "    #                                   X=features,\n",
    "    #                                   y=labels,\n",
    "    #                                   scoring=eval_score,\n",
    "    #                                   cv=StratifiedKFold(n_splits=n_splits, shuffle=True, random_state=random_state)).mean()\n",
    "    \n",
    "    return best_score"
   ],
   "outputs": [],
   "execution_count": 712
  },
  {
   "metadata": {
    "ExecuteTime": {
     "end_time": "2024-12-20T03:25:10.837205Z",
     "start_time": "2024-12-19T21:37:57.991536Z"
    }
   },
   "cell_type": "code",
   "source": [
    "# Continue grid searching on existing study if it exists (same db and name)\n",
    "study = optuna.create_study(sampler=TPESampler(), \n",
    "                            direction=\"maximize\", \n",
    "                            study_name=study_name,\n",
    "                            storage=storage_name,\n",
    "                            load_if_exists=True,\n",
    "                            )\n",
    "\n",
    "logger.info(\"START OPTUNA OPTIMIZATION...\")\n",
    "study.optimize(lambda trial: objective(trial, \n",
    "                                       features=X_resampled,\n",
    "                                       labels=y_resampled,\n",
    "                                       model=bst,\n",
    "                                       eval_score='aucpr',\n",
    "                                       n_splits=3,\n",
    "                                       random_state=random_state,\n",
    "                                       dtrain=dtrain,\n",
    "                                       dval=dval), \n",
    "               n_trials=200, \n",
    "               gc_after_trial=True) \n",
    "\n",
    "\n",
    "                        "
   ],
   "outputs": [
    {
     "name": "stderr",
     "output_type": "stream",
     "text": [
      "/var/folders/4p/r9m3gynn3wj6h4yh4_lwz5fw0000gn/T/ipykernel_701/1085995199.py:18: RuntimeWarning: overflow encountered in exp\n",
      "  sigmoid_pred = 1.0 / (1.0 + np.exp(-pred))\n",
      "/var/folders/4p/r9m3gynn3wj6h4yh4_lwz5fw0000gn/T/ipykernel_701/1085995199.py:18: RuntimeWarning: overflow encountered in exp\n",
      "  sigmoid_pred = 1.0 / (1.0 + np.exp(-pred))\n",
      "/var/folders/4p/r9m3gynn3wj6h4yh4_lwz5fw0000gn/T/ipykernel_701/1085995199.py:18: RuntimeWarning: overflow encountered in exp\n",
      "  sigmoid_pred = 1.0 / (1.0 + np.exp(-pred))\n",
      "/var/folders/4p/r9m3gynn3wj6h4yh4_lwz5fw0000gn/T/ipykernel_701/1085995199.py:18: RuntimeWarning: overflow encountered in exp\n",
      "  sigmoid_pred = 1.0 / (1.0 + np.exp(-pred))\n",
      "/var/folders/4p/r9m3gynn3wj6h4yh4_lwz5fw0000gn/T/ipykernel_701/1085995199.py:18: RuntimeWarning: overflow encountered in exp\n",
      "  sigmoid_pred = 1.0 / (1.0 + np.exp(-pred))\n",
      "/var/folders/4p/r9m3gynn3wj6h4yh4_lwz5fw0000gn/T/ipykernel_701/1085995199.py:18: RuntimeWarning: overflow encountered in exp\n",
      "  sigmoid_pred = 1.0 / (1.0 + np.exp(-pred))\n",
      "/var/folders/4p/r9m3gynn3wj6h4yh4_lwz5fw0000gn/T/ipykernel_701/1085995199.py:18: RuntimeWarning: overflow encountered in exp\n",
      "  sigmoid_pred = 1.0 / (1.0 + np.exp(-pred))\n",
      "/var/folders/4p/r9m3gynn3wj6h4yh4_lwz5fw0000gn/T/ipykernel_701/1085995199.py:18: RuntimeWarning: overflow encountered in exp\n",
      "  sigmoid_pred = 1.0 / (1.0 + np.exp(-pred))\n",
      "/var/folders/4p/r9m3gynn3wj6h4yh4_lwz5fw0000gn/T/ipykernel_701/1085995199.py:18: RuntimeWarning: overflow encountered in exp\n",
      "  sigmoid_pred = 1.0 / (1.0 + np.exp(-pred))\n",
      "/var/folders/4p/r9m3gynn3wj6h4yh4_lwz5fw0000gn/T/ipykernel_701/1085995199.py:18: RuntimeWarning: overflow encountered in exp\n",
      "  sigmoid_pred = 1.0 / (1.0 + np.exp(-pred))\n",
      "/var/folders/4p/r9m3gynn3wj6h4yh4_lwz5fw0000gn/T/ipykernel_701/1085995199.py:18: RuntimeWarning: overflow encountered in exp\n",
      "  sigmoid_pred = 1.0 / (1.0 + np.exp(-pred))\n",
      "/var/folders/4p/r9m3gynn3wj6h4yh4_lwz5fw0000gn/T/ipykernel_701/1085995199.py:18: RuntimeWarning: overflow encountered in exp\n",
      "  sigmoid_pred = 1.0 / (1.0 + np.exp(-pred))\n",
      "/var/folders/4p/r9m3gynn3wj6h4yh4_lwz5fw0000gn/T/ipykernel_701/1085995199.py:18: RuntimeWarning: overflow encountered in exp\n",
      "  sigmoid_pred = 1.0 / (1.0 + np.exp(-pred))\n",
      "/var/folders/4p/r9m3gynn3wj6h4yh4_lwz5fw0000gn/T/ipykernel_701/1085995199.py:18: RuntimeWarning: overflow encountered in exp\n",
      "  sigmoid_pred = 1.0 / (1.0 + np.exp(-pred))\n",
      "/var/folders/4p/r9m3gynn3wj6h4yh4_lwz5fw0000gn/T/ipykernel_701/1085995199.py:18: RuntimeWarning: overflow encountered in exp\n",
      "  sigmoid_pred = 1.0 / (1.0 + np.exp(-pred))\n",
      "/var/folders/4p/r9m3gynn3wj6h4yh4_lwz5fw0000gn/T/ipykernel_701/1085995199.py:18: RuntimeWarning: overflow encountered in exp\n",
      "  sigmoid_pred = 1.0 / (1.0 + np.exp(-pred))\n",
      "/var/folders/4p/r9m3gynn3wj6h4yh4_lwz5fw0000gn/T/ipykernel_701/1085995199.py:18: RuntimeWarning: overflow encountered in exp\n",
      "  sigmoid_pred = 1.0 / (1.0 + np.exp(-pred))\n",
      "/var/folders/4p/r9m3gynn3wj6h4yh4_lwz5fw0000gn/T/ipykernel_701/1085995199.py:18: RuntimeWarning: overflow encountered in exp\n",
      "  sigmoid_pred = 1.0 / (1.0 + np.exp(-pred))\n",
      "/var/folders/4p/r9m3gynn3wj6h4yh4_lwz5fw0000gn/T/ipykernel_701/1085995199.py:18: RuntimeWarning: overflow encountered in exp\n",
      "  sigmoid_pred = 1.0 / (1.0 + np.exp(-pred))\n",
      "/var/folders/4p/r9m3gynn3wj6h4yh4_lwz5fw0000gn/T/ipykernel_701/1085995199.py:18: RuntimeWarning: overflow encountered in exp\n",
      "  sigmoid_pred = 1.0 / (1.0 + np.exp(-pred))\n"
     ]
    }
   ],
   "execution_count": 713
  },
  {
   "metadata": {
    "ExecuteTime": {
     "end_time": "2024-12-20T03:25:10.919955Z",
     "start_time": "2024-12-20T03:25:10.863079Z"
    }
   },
   "cell_type": "code",
   "source": [
    "print(\"Number of finished trials: \", len(study.trials))\n",
    "print(\"Best trial:\")\n",
    "trial = study.best_trial\n",
    "\n",
    "print(\"  Value: {}\".format(trial.value))\n",
    "print(\"  Params: \")\n",
    "for key, value in trial.params.items():\n",
    "    print(\"    {}: {}\".format(key, value))"
   ],
   "outputs": [
    {
     "name": "stdout",
     "output_type": "stream",
     "text": [
      "Number of finished trials:  204\n",
      "Best trial:\n",
      "  Value: 0.9970418401227472\n",
      "  Params: \n",
      "    scale_pos_weight: 51\n",
      "    max_delta_step: 51.94215262537095\n",
      "    colsample_bytree: 0.6569973414522978\n",
      "    n_estimators: 150\n",
      "    min_child_weight: 57.85538542038686\n",
      "    min_data_in_leaf: 34.34882914851408\n",
      "    lambda: 20.337463458599757\n",
      "    reg_alpha: 0.3065270610760127\n",
      "    max_depth: 7\n",
      "    eta: 68.60427617671829\n",
      "    gamma: 0.1695360536917654\n",
      "    learning_rate: 0.015528595273014414\n"
     ]
    }
   ],
   "execution_count": 714
  },
  {
   "metadata": {
    "ExecuteTime": {
     "end_time": "2024-12-20T11:53:05.307244Z",
     "start_time": "2024-12-20T11:53:05.295075Z"
    }
   },
   "cell_type": "code",
   "source": [
    "best_params = study.best_params\n",
    "best_params"
   ],
   "outputs": [
    {
     "data": {
      "text/plain": [
       "{'scale_pos_weight': 51,\n",
       " 'max_delta_step': 51.94215262537095,\n",
       " 'colsample_bytree': 0.6569973414522978,\n",
       " 'n_estimators': 150,\n",
       " 'min_child_weight': 57.85538542038686,\n",
       " 'min_data_in_leaf': 34.34882914851408,\n",
       " 'lambda': 20.337463458599757,\n",
       " 'reg_alpha': 0.3065270610760127,\n",
       " 'max_depth': 7,\n",
       " 'eta': 68.60427617671829,\n",
       " 'gamma': 0.1695360536917654,\n",
       " 'learning_rate': 0.015528595273014414}"
      ]
     },
     "execution_count": 715,
     "metadata": {},
     "output_type": "execute_result"
    }
   ],
   "execution_count": 715
  },
  {
   "metadata": {
    "ExecuteTime": {
     "end_time": "2024-12-20T11:53:08.789637Z",
     "start_time": "2024-12-20T11:53:08.786200Z"
    }
   },
   "cell_type": "code",
   "source": "print(\"  Number of estimators: {}\".format(trial.user_attrs[\"n_estimators\"]))",
   "outputs": [
    {
     "name": "stdout",
     "output_type": "stream",
     "text": [
      "  Number of estimators: 4000\n"
     ]
    }
   ],
   "execution_count": 716
  },
  {
   "metadata": {
    "ExecuteTime": {
     "end_time": "2024-12-20T11:53:15.408503Z",
     "start_time": "2024-12-20T11:53:15.374962Z"
    }
   },
   "cell_type": "code",
   "source": [
    "# load study results into a dataframe\n",
    "optuna_study = study.trials_dataframe()\n",
    "optuna_study.head()"
   ],
   "outputs": [
    {
     "data": {
      "text/plain": [
       "   number     value             datetime_start          datetime_complete  \\\n",
       "0       0  0.907900 2024-12-19 21:35:01.353847 2024-12-19 21:35:18.887913   \n",
       "1       1  0.660914 2024-12-19 21:35:19.286251 2024-12-19 21:35:29.333628   \n",
       "2       2  0.988735 2024-12-19 21:35:29.712723 2024-12-19 21:35:49.611053   \n",
       "3       3       NaN 2024-12-19 21:35:49.997662 2024-12-19 21:36:13.854898   \n",
       "4       4  0.843788 2024-12-19 21:37:58.040348 2024-12-19 21:38:12.460760   \n",
       "\n",
       "                duration  params_colsample_bytree  params_eta  params_gamma  \\\n",
       "0 0 days 00:00:17.534066                 0.839586   23.399710     90.569982   \n",
       "1 0 days 00:00:10.047377                 0.647120   92.243163      6.252370   \n",
       "2 0 days 00:00:19.898330                 0.589907    9.522813     88.138276   \n",
       "3 0 days 00:00:23.857236                 0.890855   19.658906     16.872763   \n",
       "4 0 days 00:00:14.420412                 0.602210   33.352594     88.107000   \n",
       "\n",
       "   params_lambda  params_learning_rate  params_max_delta_step  \\\n",
       "0      25.684064              2.090487              15.507901   \n",
       "1      34.416204              9.632679              93.203853   \n",
       "2      51.180045              0.425831              43.925113   \n",
       "3      74.289030              0.181362              37.568157   \n",
       "4      51.140299              0.001602              26.260268   \n",
       "\n",
       "   params_max_depth  params_min_child_weight  params_min_data_in_leaf  \\\n",
       "0                 3                59.355271                52.236775   \n",
       "1                 1                34.442505                24.301412   \n",
       "2                 7                97.980261                 7.233621   \n",
       "3                 1                90.136922                85.374252   \n",
       "4                 1                34.130232                32.007591   \n",
       "\n",
       "   params_n_estimators  params_reg_alpha  params_scale_pos_weight  \\\n",
       "0                  100          0.903915                       45   \n",
       "1                  200         72.767522                       79   \n",
       "2                  200         90.175335                       17   \n",
       "3                  200         49.508419                       58   \n",
       "4                  150          1.590659                       33   \n",
       "\n",
       "   user_attrs_n_estimators     state  \n",
       "0                      2.0  COMPLETE  \n",
       "1                      1.0  COMPLETE  \n",
       "2                     25.0  COMPLETE  \n",
       "3                      NaN      FAIL  \n",
       "4                     19.0  COMPLETE  "
      ],
      "text/html": [
       "<div>\n",
       "<style scoped>\n",
       "    .dataframe tbody tr th:only-of-type {\n",
       "        vertical-align: middle;\n",
       "    }\n",
       "\n",
       "    .dataframe tbody tr th {\n",
       "        vertical-align: top;\n",
       "    }\n",
       "\n",
       "    .dataframe thead th {\n",
       "        text-align: right;\n",
       "    }\n",
       "</style>\n",
       "<table border=\"1\" class=\"dataframe\">\n",
       "  <thead>\n",
       "    <tr style=\"text-align: right;\">\n",
       "      <th></th>\n",
       "      <th>number</th>\n",
       "      <th>value</th>\n",
       "      <th>datetime_start</th>\n",
       "      <th>datetime_complete</th>\n",
       "      <th>duration</th>\n",
       "      <th>params_colsample_bytree</th>\n",
       "      <th>params_eta</th>\n",
       "      <th>params_gamma</th>\n",
       "      <th>params_lambda</th>\n",
       "      <th>params_learning_rate</th>\n",
       "      <th>params_max_delta_step</th>\n",
       "      <th>params_max_depth</th>\n",
       "      <th>params_min_child_weight</th>\n",
       "      <th>params_min_data_in_leaf</th>\n",
       "      <th>params_n_estimators</th>\n",
       "      <th>params_reg_alpha</th>\n",
       "      <th>params_scale_pos_weight</th>\n",
       "      <th>user_attrs_n_estimators</th>\n",
       "      <th>state</th>\n",
       "    </tr>\n",
       "  </thead>\n",
       "  <tbody>\n",
       "    <tr>\n",
       "      <th>0</th>\n",
       "      <td>0</td>\n",
       "      <td>0.907900</td>\n",
       "      <td>2024-12-19 21:35:01.353847</td>\n",
       "      <td>2024-12-19 21:35:18.887913</td>\n",
       "      <td>0 days 00:00:17.534066</td>\n",
       "      <td>0.839586</td>\n",
       "      <td>23.399710</td>\n",
       "      <td>90.569982</td>\n",
       "      <td>25.684064</td>\n",
       "      <td>2.090487</td>\n",
       "      <td>15.507901</td>\n",
       "      <td>3</td>\n",
       "      <td>59.355271</td>\n",
       "      <td>52.236775</td>\n",
       "      <td>100</td>\n",
       "      <td>0.903915</td>\n",
       "      <td>45</td>\n",
       "      <td>2.0</td>\n",
       "      <td>COMPLETE</td>\n",
       "    </tr>\n",
       "    <tr>\n",
       "      <th>1</th>\n",
       "      <td>1</td>\n",
       "      <td>0.660914</td>\n",
       "      <td>2024-12-19 21:35:19.286251</td>\n",
       "      <td>2024-12-19 21:35:29.333628</td>\n",
       "      <td>0 days 00:00:10.047377</td>\n",
       "      <td>0.647120</td>\n",
       "      <td>92.243163</td>\n",
       "      <td>6.252370</td>\n",
       "      <td>34.416204</td>\n",
       "      <td>9.632679</td>\n",
       "      <td>93.203853</td>\n",
       "      <td>1</td>\n",
       "      <td>34.442505</td>\n",
       "      <td>24.301412</td>\n",
       "      <td>200</td>\n",
       "      <td>72.767522</td>\n",
       "      <td>79</td>\n",
       "      <td>1.0</td>\n",
       "      <td>COMPLETE</td>\n",
       "    </tr>\n",
       "    <tr>\n",
       "      <th>2</th>\n",
       "      <td>2</td>\n",
       "      <td>0.988735</td>\n",
       "      <td>2024-12-19 21:35:29.712723</td>\n",
       "      <td>2024-12-19 21:35:49.611053</td>\n",
       "      <td>0 days 00:00:19.898330</td>\n",
       "      <td>0.589907</td>\n",
       "      <td>9.522813</td>\n",
       "      <td>88.138276</td>\n",
       "      <td>51.180045</td>\n",
       "      <td>0.425831</td>\n",
       "      <td>43.925113</td>\n",
       "      <td>7</td>\n",
       "      <td>97.980261</td>\n",
       "      <td>7.233621</td>\n",
       "      <td>200</td>\n",
       "      <td>90.175335</td>\n",
       "      <td>17</td>\n",
       "      <td>25.0</td>\n",
       "      <td>COMPLETE</td>\n",
       "    </tr>\n",
       "    <tr>\n",
       "      <th>3</th>\n",
       "      <td>3</td>\n",
       "      <td>NaN</td>\n",
       "      <td>2024-12-19 21:35:49.997662</td>\n",
       "      <td>2024-12-19 21:36:13.854898</td>\n",
       "      <td>0 days 00:00:23.857236</td>\n",
       "      <td>0.890855</td>\n",
       "      <td>19.658906</td>\n",
       "      <td>16.872763</td>\n",
       "      <td>74.289030</td>\n",
       "      <td>0.181362</td>\n",
       "      <td>37.568157</td>\n",
       "      <td>1</td>\n",
       "      <td>90.136922</td>\n",
       "      <td>85.374252</td>\n",
       "      <td>200</td>\n",
       "      <td>49.508419</td>\n",
       "      <td>58</td>\n",
       "      <td>NaN</td>\n",
       "      <td>FAIL</td>\n",
       "    </tr>\n",
       "    <tr>\n",
       "      <th>4</th>\n",
       "      <td>4</td>\n",
       "      <td>0.843788</td>\n",
       "      <td>2024-12-19 21:37:58.040348</td>\n",
       "      <td>2024-12-19 21:38:12.460760</td>\n",
       "      <td>0 days 00:00:14.420412</td>\n",
       "      <td>0.602210</td>\n",
       "      <td>33.352594</td>\n",
       "      <td>88.107000</td>\n",
       "      <td>51.140299</td>\n",
       "      <td>0.001602</td>\n",
       "      <td>26.260268</td>\n",
       "      <td>1</td>\n",
       "      <td>34.130232</td>\n",
       "      <td>32.007591</td>\n",
       "      <td>150</td>\n",
       "      <td>1.590659</td>\n",
       "      <td>33</td>\n",
       "      <td>19.0</td>\n",
       "      <td>COMPLETE</td>\n",
       "    </tr>\n",
       "  </tbody>\n",
       "</table>\n",
       "</div>"
      ]
     },
     "execution_count": 717,
     "metadata": {},
     "output_type": "execute_result"
    }
   ],
   "execution_count": 717
  },
  {
   "metadata": {
    "ExecuteTime": {
     "end_time": "2024-12-20T11:53:21.421233Z",
     "start_time": "2024-12-20T11:53:17.943993Z"
    }
   },
   "cell_type": "code",
   "source": [
    "# plot performance of learning rate and gamma\n",
    "fig, ax = plt.subplots(6, sharey=True, figsize=(20,26))\n",
    "sns.lineplot(data=optuna_study, x='params_gamma', y='value', label='gamma', ax=ax[0])\n",
    "sns.lineplot(data=optuna_study, x='params_learning_rate', y='value', label='learning rate', ax=ax[1])\n",
    "sns.lineplot(data=optuna_study, x='params_reg_alpha', y='value', label='reg_alpha', ax=ax[2])\n",
    "sns.lineplot(data=optuna_study, x='params_max_depth', y='value', label='max_depth', ax=ax[3])\n",
    "sns.lineplot(data=optuna_study, x='params_max_delta_step', y='value', label='lmax_delta_step', ax=ax[4])\n",
    "sns.lineplot(data=optuna_study, x='params_min_child_weight', y='value', label='min_child_weight', ax=ax[5])\n",
    "plt.suptitle('Optuna hyperparameter learning', y=1.05)\n",
    "plt.tight_layout()\n",
    "plt.show()"
   ],
   "outputs": [
    {
     "data": {
      "text/plain": [
       "<Figure size 2000x2600 with 6 Axes>"
      ],
      "image/png": "[encoded data removed]"
     },
     "metadata": {},
     "output_type": "display_data"
    }
   ],
   "execution_count": 718
  },
  {
   "metadata": {
    "ExecuteTime": {
     "end_time": "2024-12-20T11:53:49.578641Z",
     "start_time": "2024-12-20T11:53:49.573707Z"
    }
   },
   "cell_type": "code",
   "source": [
    "params.update(best_params)\n",
    "params"
   ],
   "outputs": [
    {
     "data": {
      "text/plain": [
       "{'objective': 'binary:logistic',\n",
       " 'eval_metric': 'aucpr',\n",
       " 'random_state': 88,\n",
       " 'scale_pos_weight': 51,\n",
       " 'max_delta_step': 51.94215262537095,\n",
       " 'booster': 'gbtree',\n",
       " 'max_depth': 7,\n",
       " 'colsample_bytree': 0.6569973414522978,\n",
       " 'n_estimators': 150,\n",
       " 'min_child_weight': 57.85538542038686,\n",
       " 'min_data_in_leaf': 34.34882914851408,\n",
       " 'lambda': 20.337463458599757,\n",
       " 'reg_alpha': 0.3065270610760127,\n",
       " 'eta': 68.60427617671829,\n",
       " 'gamma': 0.1695360536917654,\n",
       " 'learning_rate': 0.015528595273014414}"
      ]
     },
     "execution_count": 719,
     "metadata": {},
     "output_type": "execute_result"
    }
   ],
   "execution_count": 719
  },
  {
   "metadata": {
    "ExecuteTime": {
     "end_time": "2024-12-20T11:54:27.552628Z",
     "start_time": "2024-12-20T11:54:26.430726Z"
    }
   },
   "cell_type": "code",
   "source": [
    "\n",
    "\n",
    "\n",
    "bst = xgb.train(params=params,\n",
    "                dtrain=dtrain,\n",
    "                num_boost_round=1000,\n",
    "                evals=evals,\n",
    "                # obj=weighted_binary_cross_entropy,\n",
    "                obj=weighted_loss_obj.weighted_binary_cross_entropy,\n",
    "                # obj=focal_binary_object,\n",
    "                # obj=focal_loss_obj.focal_binary_object,\n",
    "                # custom_metric = evalerror,\n",
    "                verbose_eval=30,\n",
    "                early_stopping_rounds=50,\n",
    "                )\n",
    "\n",
    "# get prediction\n",
    "preds = bst.predict(dval)\n",
    "print('AUC: {}'.format(roc_auc_score(y_validation, preds)))\n",
    "pred_labels = np.rint(preds)\n",
    "accuracy = accuracy_score(y_validation, pred_labels)\n",
    "print('Accuracy: {}'.format(accuracy))"
   ],
   "outputs": [
    {
     "name": "stdout",
     "output_type": "stream",
     "text": [
      "[0]\ttrain-aucpr:0.88647\ttest-aucpr:0.01609\n",
      "[30]\ttrain-aucpr:0.98343\ttest-aucpr:0.02900\n",
      "[60]\ttrain-aucpr:0.98554\ttest-aucpr:0.02947\n",
      "AUC: 0.662494780520904\n",
      "Accuracy: 0.33264493288095587\n"
     ]
    }
   ],
   "execution_count": 720
  },
  {
   "metadata": {},
   "cell_type": "code",
   "outputs": [],
   "execution_count": null,
   "source": ""
  },
  {
   "metadata": {
    "ExecuteTime": {
     "end_time": "2024-12-20T11:54:33.407206Z",
     "start_time": "2024-12-20T11:54:33.385489Z"
    }
   },
   "cell_type": "code",
   "source": "print(classification_report(y_validation, pred_labels, zero_division=0, output_dict=False))",
   "outputs": [
    {
     "name": "stdout",
     "output_type": "stream",
     "text": [
      "              precision    recall  f1-score   support\n",
      "\n",
      "           0       0.99      0.32      0.49      6664\n",
      "           1       0.02      0.86      0.04       115\n",
      "\n",
      "    accuracy                           0.33      6779\n",
      "   macro avg       0.51      0.59      0.26      6779\n",
      "weighted avg       0.98      0.33      0.48      6779\n",
      "\n"
     ]
    }
   ],
   "execution_count": 721
  },
  {
   "metadata": {
    "ExecuteTime": {
     "end_time": "2024-12-20T11:54:38.151702Z",
     "start_time": "2024-12-20T11:54:38.145576Z"
    }
   },
   "cell_type": "code",
   "source": [
    "# print confusion metrix\n",
    "print('\\nConfusion matrix : \\n{}'.format(confusion_matrix(y_validation, pred_labels)))"
   ],
   "outputs": [
    {
     "name": "stdout",
     "output_type": "stream",
     "text": [
      "\n",
      "Confusion matrix : \n",
      "[[2156 4508]\n",
      " [  16   99]]\n"
     ]
    }
   ],
   "execution_count": 722
  },
  {
   "metadata": {
    "ExecuteTime": {
     "end_time": "2024-12-20T11:54:56.353263Z",
     "start_time": "2024-12-20T11:54:56.197459Z"
    }
   },
   "cell_type": "code",
   "source": [
    "\n",
    "cm = confusion_matrix(y_validation, pred_labels)\n",
    "disp = ConfusionMatrixDisplay(confusion_matrix=cm,\n",
    "                              display_labels=[0, 1])\n",
    "disp.plot()\n",
    "plt.show()"
   ],
   "outputs": [
    {
     "data": {
      "text/plain": [
       "<Figure size 800x400 with 2 Axes>"
      ],
      "image/png": "[encoded data removed]"
     },
     "metadata": {},
     "output_type": "display_data"
    }
   ],
   "execution_count": 723
  },
  {
   "metadata": {
    "ExecuteTime": {
     "end_time": "2024-12-20T11:54:59.123622Z",
     "start_time": "2024-12-20T11:54:58.923654Z"
    }
   },
   "cell_type": "code",
   "source": [
    "xgb.plot_importance(bst)\n",
    "plt.show()"
   ],
   "outputs": [
    {
     "data": {
      "text/plain": [
       "<Figure size 800x400 with 1 Axes>"
      ],
      "image/png": "[encoded data removed]"
     },
     "metadata": {},
     "output_type": "display_data"
    }
   ],
   "execution_count": 724
  },
  {
   "metadata": {},
   "cell_type": "markdown",
   "source": "## Evaluation"
  },
  {
   "cell_type": "code",
   "metadata": {
    "ExecuteTime": {
     "end_time": "2024-12-20T11:55:05.185301Z",
     "start_time": "2024-12-20T11:55:05.180786Z"
    }
   },
   "source": [
    "def promotion_strategy(df):\n",
    "    '''\n",
    "    INPUT \n",
    "    df - a dataframe with *only* the columns V1 - V7 (same as train_data)\n",
    "\n",
    "    OUTPUT\n",
    "    promotion_df - np.array with the values\n",
    "                   'Yes' or 'No' related to whether or not an \n",
    "                   individual should receive a promotion \n",
    "                   should be the length of df.shape[0]\n",
    "                \n",
    "    Ex:\n",
    "    INPUT: df\n",
    "    \n",
    "    V1\tV2\t  V3\tV4\tV5\tV6\tV7\n",
    "    2\t30\t-1.1\t1\t1\t3\t2\n",
    "    3\t32\t-0.6\t2\t3\t2\t2\n",
    "    2\t30\t0.13\t1\t1\t4\t2\n",
    "    \n",
    "    OUTPUT: promotion\n",
    "    \n",
    "    array(['Yes', 'Yes', 'No'])\n",
    "    indicating the first two users would recieve the promotion and \n",
    "    the last should not.\n",
    "    '''\n",
    "    \n",
    "    df[cat_cols] = df.loc[:,cat_cols].astype(\"category\")\n",
    "    dtest = xgb.DMatrix(df, enable_categorical=True)\n",
    "    preds = bst.predict(dtest)\n",
    "    # print('preds', preds)\n",
    "    promotion = np.where(preds > 0.5, \"Yes\", \"No\")\n",
    "    print('promo', promotion)\n",
    "    \n",
    "    return promotion"
   ],
   "outputs": [],
   "execution_count": 725
  },
  {
   "cell_type": "code",
   "metadata": {
    "ExecuteTime": {
     "end_time": "2024-12-20T11:55:06.590834Z",
     "start_time": "2024-12-20T11:55:06.466520Z"
    }
   },
   "source": [
    "# This will test your results, and provide you back some information \n",
    "# on how well your promotion_strategy will work in practice\n",
    "\n",
    "test_results(promotion_strategy)"
   ],
   "outputs": [
    {
     "name": "stdout",
     "output_type": "stream",
     "text": [
      "promo ['No' 'Yes' 'Yes' ... 'Yes' 'No' 'No']\n",
      "Nice job!  See how well your strategy worked on our test data below!\n",
      "\n",
      "Your irr with this strategy is 0.0138.\n",
      "\n",
      "Your nir with this strategy is -171.55.\n",
      "We came up with a model with an irr of 0.0188 and an nir of 189.45 on the test set.\n",
      "\n",
      " How did you do?\n"
     ]
    },
    {
     "name": "stderr",
     "output_type": "stream",
     "text": [
      "/var/folders/4p/r9m3gynn3wj6h4yh4_lwz5fw0000gn/T/ipykernel_701/2204220574.py:27: SettingWithCopyWarning: \n",
      "A value is trying to be set on a copy of a slice from a DataFrame.\n",
      "Try using .loc[row_indexer,col_indexer] = value instead\n",
      "\n",
      "See the caveats in the documentation: https://pandas.pydata.org/pandas-docs/stable/user_guide/indexing.html#returning-a-view-versus-a-copy\n",
      "  df[cat_cols] = df.loc[:,cat_cols].astype(\"category\")\n"
     ]
    },
    {
     "data": {
      "text/plain": [
       "(0.013803368609481868, -171.54999999999973)"
      ]
     },
     "execution_count": 726,
     "metadata": {},
     "output_type": "execute_result"
    }
   ],
   "execution_count": 726
  },
  {
   "metadata": {
    "ExecuteTime": {
     "end_time": "2024-12-18T20:43:10.015215Z",
     "start_time": "2024-12-18T20:43:10.012957Z"
    }
   },
   "cell_type": "code",
   "source": "",
   "outputs": [],
   "execution_count": null
  },
  {
   "metadata": {},
   "cell_type": "markdown",
   "source": [
    "https://github.com/handongfeng/Xgboost-With-Imbalance-And-Focal-Loss/blob/master/Xgboost_sklearn.py\n",
    "\n",
    "https://github.com/datacamp/Machine-Learning-With-XGboost-live-training/blob/master/notebooks/Machine-Learning-with-XGBoost-solution.ipynb\n",
    "    \n",
    "[dynamic bin size](https://medium.com/@maxmarkovvision/optimal-number-of-bins-for-histograms-3d7c48086fde)"
   ]
  },
  {
   "metadata": {},
   "cell_type": "code",
   "source": "",
   "outputs": [],
   "execution_count": null
  }
 ],
 "metadata": {
  "kernelspec": {
   "display_name": "Python [conda env:abstarbucks] *",
   "language": "python",
   "name": "conda-env-abstarbucks-py"
  },
  "language_info": {
   "codemirror_mode": {
    "name": "ipython",
    "version": 3
   },
   "file_extension": ".py",
   "mimetype": "text/x-python",
   "name": "python",
   "nbconvert_exporter": "python",
   "pygments_lexer": "ipython3",
   "version": "3.10.15"
  }
 },
 "nbformat": 4,
 "nbformat_minor": 4
}
