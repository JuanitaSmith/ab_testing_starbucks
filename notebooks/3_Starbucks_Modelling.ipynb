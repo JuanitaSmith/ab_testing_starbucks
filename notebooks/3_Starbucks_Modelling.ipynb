{
 "cells": [
  {
   "cell_type": "markdown",
   "metadata": {},
   "source": [
    "## Portfolio Exercise: Starbucks\n",
    "<br>\n",
    "\n",
    "<img src=\"https://opj.ca/wp-content/uploads/2018/02/New-Starbucks-Logo-1200x969.jpg\" width=\"200\" height=\"200\">\n",
    "<br>\n",
    "<br>\n",
    " \n",
    "#### Background Information\n",
    "\n",
    "The dataset you will be provided in this portfolio exercise was originally used as a take-home assignment provided by Starbucks for their job candidates. The data for this exercise consists of about 120,000 data points split in a 2:1 ratio among training and test files. In the experiment simulated by the data, an advertising promotion was tested to see if it would bring more customers to purchase a specific product priced at $10. Since it costs the company 0.15 to send out each promotion, it would be best to limit that promotion only to those that are most receptive to the promotion. Each data point includes one column indicating whether or not an individual was sent a promotion for the product, and one column indicating whether or not that individual eventually purchased that product. Each individual also has seven additional features associated with them, which are provided abstractly as V1-V7.\n",
    "\n",
    "#### Optimization Strategy\n",
    "\n",
    "Your task is to use the training data to understand what patterns in V1-V7 to indicate that a promotion should be provided to a user. Specifically, your goal is to maximize the following metrics:\n",
    "\n",
    "* **Incremental Response Rate (IRR)** \n",
    "\n",
    "IRR depicts how many more customers purchased the product with the promotion, as compared to if they didn't receive the promotion. Mathematically, it's the ratio of the number of purchasers in the promotion group to the total number of customers in the purchasers group (_treatment_) minus the ratio of the number of purchasers in the non-promotional group to the total number of customers in the non-promotional group (_control_).\n",
    "\n",
    "$$ IRR = \\frac{purch_{treat}}{cust_{treat}} - \\frac{purch_{ctrl}}{cust_{ctrl}} $$\n",
    "\n",
    "\n",
    "* **Net Incremental Revenue (NIR)**\n",
    "\n",
    "NIR depicts how much is made (or lost) by sending out the promotion. Mathematically, this is 10 times the total number of purchasers that received the promotion minus 0.15 times the number of promotions sent out, minus 10 times the number of purchasers who were not given the promotion.\n",
    "\n",
    "$$ NIR = (10\\cdot purch_{treat} - 0.15 \\cdot cust_{treat}) - 10 \\cdot purch_{ctrl}$$\n",
    "\n",
    "For a full description of what Starbucks provides to candidates see the [instructions available here](https://drive.google.com/open?id=18klca9Sef1Rs6q8DW4l7o349r8B70qXM).\n",
    "\n",
    "Below you can find the training data provided.  Explore the data and different optimization strategies.\n",
    "\n",
    "#### How To Test Your Strategy?\n",
    "\n",
    "When you feel like you have an optimization strategy, complete the `promotion_strategy` function to pass to the `test_results` function.  \n",
    "From past data, we know there are four possible outomes:\n",
    "\n",
    "Table of actual promotion vs. predicted promotion customers:  \n",
    "\n",
    "<table>\n",
    "<tr><th></th><th colspan = '2'>Actual</th></tr>\n",
    "<tr><th>Predicted</th><th>Yes</th><th>No</th></tr>\n",
    "<tr><th>Yes</th><td>I</td><td>II</td></tr>\n",
    "<tr><th>No</th><td>III</td><td>IV</td></tr>\n",
    "</table>\n",
    "\n",
    "The metrics are only being compared for the individuals we predict should obtain the promotion – that is, quadrants I and II.  Since the first set of individuals that receive the promotion (in the training set) receive it randomly, we can expect that quadrants I and II will have approximately equivalent participants.  \n",
    "\n",
    "Comparing quadrant I to II then gives an idea of how well your promotion strategy will work in the future. \n",
    "\n",
    "Get started by reading in the data below.  See how each variable or combination of variables along with a promotion influences the chance of purchasing.  When you feel like you have a strategy for who should receive a promotion, test your strategy against the test dataset used in the final `test_results` function.\n",
    "\n",
    "\n",
    "##### Questions:\n",
    "1)\tAnalyze the results of the experiment and identify the effect of the Treatment on product purchase and Net Incremental Revenue\n",
    "2)\tBuild a model to select the best customers to target that maximizes the Incremental Response Rate and Net Incremental Revenue. \n",
    "##### Deliverables\n",
    "3)\tScore the ‘Test.csv’ using the model and select the best customers and share the customer ID’s as  csv file \n",
    "4)\tExplain briefly the approach used in a separate document and also share the code that can be executed to reproduce results.\n"
   ]
  },
  {
   "metadata": {},
   "cell_type": "markdown",
   "source": [
    "# Notebook 3: Modeling of promotion strategy\n",
    "### Target Marketing: Identify the best customers we should send promotions to. <br>\n",
    "\n",
    "This notebook learns the patterns of those individuals who purchased the product after receiving a promotion, using only the treatment dataset. <br>\n",
    "\n",
    "There are no strong linear relations between independent and dependent features; therefore, a tree-based algorithm was selected.\n",
    "XGBOOST was selected for this solution due to its extendability to custom metrics and objective functions, and extensive hyperparameters to control overfitting. <br>\n",
    "\n",
    "XGBOOST algorithm was extended to use a custom metric 'IRR' to maximize individuals who purchased the product after receiving a promotion. My thinking is, the more people who purchase the product, the more revenue we will make. A custom objective function was used to calculate weighted class loss to handle imbalance between classes.\n"
   ]
  },
  {
   "metadata": {},
   "cell_type": "markdown",
   "source": [
    "## Table of contents\n",
    "\n",
    "- [Data gathering](#data)\n",
    "- [Feature Engineering](#feature)\n",
    "- [Preprocessing](#preprocessing)\n",
    "- [Setting a baseline](#baseline)\n",
    "- [Hyperparameter tuning](#hyper)\n",
    "- [Evaluation]((#eval)"
   ]
  },
  {
   "metadata": {
    "ExecuteTime": {
     "end_time": "2025-01-25T13:31:53.689908Z",
     "start_time": "2025-01-25T13:31:52.515145Z"
    }
   },
   "cell_type": "code",
   "source": [
    "import logging\n",
    "import warnings\n",
    "from collections import Counter\n",
    "from typing import Tuple\n",
    "\n",
    "import matplotlib.pyplot as plt\n",
    "import numpy as np\n",
    "import optuna.logging\n",
    "import optuna.visualization as vis\n",
    "import pandas as pd\n",
    "import xgboost as xgb\n",
    "from imblearn.combine import SMOTEENN\n",
    "from optuna.samplers import TPESampler\n",
    "from sklearn.metrics import (accuracy_score, roc_auc_score, confusion_matrix, classification_report)\n",
    "from sklearn.model_selection import train_test_split\n",
    "import graphviz\n",
    "from sklearn.metrics import confusion_matrix, ConfusionMatrixDisplay\n",
    "\n",
    "from src import Seafoam, config, feature_engineering_training, feature_engineering_testing, WeightedImbalanceLoss\n",
    "from test_results import test_results\n",
    "\n",
    "%matplotlib inline\n",
    "\n",
    "# font standardization\n",
    "seafoam = Seafoam()\n",
    "\n",
    "#suppress warnings\n",
    "warnings.filterwarnings('ignore')"
   ],
   "outputs": [],
   "execution_count": 1
  },
  {
   "metadata": {
    "ExecuteTime": {
     "end_time": "2025-01-25T13:31:54.305566Z",
     "start_time": "2025-01-25T13:31:54.302213Z"
    }
   },
   "cell_type": "code",
   "source": "THRESHOLD = 0.55",
   "outputs": [],
   "execution_count": 2
  },
  {
   "metadata": {
    "ExecuteTime": {
     "end_time": "2025-01-25T13:31:55.025989Z",
     "start_time": "2025-01-25T13:31:55.019252Z"
    }
   },
   "cell_type": "code",
   "source": [
    "def irr_score(predt: np.ndarray, dtrain: xgb.DMatrix) -> Tuple[str, float]:\n",
    "    \"\"\" \n",
    "    Define a custom metric to calculate irr score \n",
    "    \n",
    "    Since a custom objective is also supplied, the predt is untransformed leaf weight which needs transformation\n",
    "    Custom metric receives raw input only when custom objective is also being used\n",
    "    \n",
    "    The calculation is based on this concept\n",
    "    irr = tp / (tp + fp) - fn / (fn + tn)\n",
    "    \n",
    "    Args:\n",
    "        predt (np.ndarray): untransformed leaf weight\n",
    "        dtrain (xgb.DMatrix): training data\n",
    "    Returns:\n",
    "        irr (float): irr score\n",
    "    \"\"\"\n",
    "    \n",
    "    # Get actual label values\n",
    "    y_true = dtrain.get_label()\n",
    "    # print('irr pred unconverted {}'.format(predt[:10]))\n",
    "    # Convert predictions to probabilities using sigmoid\n",
    "    predt = 1.0 / (1.0 + np.exp(-predt))\n",
    "    # \n",
    "    # round values to 0 or 1\n",
    "    # print('irr pred converted sigmoid {}'.format(predt[:10]))\n",
    "    \n",
    "    # convert probabilities to outputs 1 or 0, using a defined threshold\n",
    "    predt = np.where(predt > THRESHOLD, 1, 0)\n",
    "    # print('irr pred converted {}'.format(predt[:10]))\n",
    "    \n",
    "    tn, fp, fn, tp = confusion_matrix(y_true, predt).ravel()\n",
    "    \n",
    "    if (tp + fp) != 0:\n",
    "        ratio_promotion = tp / (tp + fp)\n",
    "    else:\n",
    "        ratio_promotion = 0\n",
    "        \n",
    "    if (fn + tn) != 0:\n",
    "        ratio_nopromotion = fn / (fn + tn)\n",
    "    else:\n",
    "        ratio_nopromotion = 0\n",
    "        \n",
    "    irr = ratio_promotion - ratio_nopromotion\n",
    "    \n",
    "    return 'irr_score', irr\n",
    "\n",
    "\n",
    "def promotion_strategy(df, model):\n",
    "    '''\n",
    "    INPUT \n",
    "    df - a dataframe with *only* the columns V1 - V7 (same as train_data)\n",
    "\n",
    "    OUTPUT\n",
    "    promotion_df - np.array with the values\n",
    "                   'Yes' or 'No' related to whether or not an \n",
    "                   individual should receive a promotion \n",
    "                   should be the length of df.shape[0]\n",
    "                \n",
    "    Ex:\n",
    "    INPUT: df\n",
    "    \n",
    "    V1\tV2\t  V3\tV4\tV5\tV6\tV7\n",
    "    2\t30\t-1.1\t1\t1\t3\t2\n",
    "    3\t32\t-0.6\t2\t3\t2\t2\n",
    "    2\t30\t0.13\t1\t1\t4\t2\n",
    "    \n",
    "    OUTPUT: promotion\n",
    "    \n",
    "    array(['Yes', 'Yes', 'No'])\n",
    "    indicating the first two users would recieve the promotion and \n",
    "    the last should not.\n",
    "    '''\n",
    "    \n",
    "    df = feature_engineering_testing(df, onehot=True, drop_first=True)\n",
    "    dtest = xgb.DMatrix(df, enable_categorical=False)\n",
    "    preds_raw = model.predict(dtest, output_margin=True)\n",
    "    preds = 1 / (1 + np.exp(-preds_raw))\n",
    "    promotion = np.where(preds > THRESHOLD, \"Yes\", \"No\")\n",
    "    \n",
    "    return promotion"
   ],
   "outputs": [],
   "execution_count": 3
  },
  {
   "metadata": {
    "ExecuteTime": {
     "end_time": "2025-01-25T13:31:55.639257Z",
     "start_time": "2025-01-25T13:31:55.633814Z"
    }
   },
   "cell_type": "code",
   "source": [
    "# activate logging for optuna hyper parameter tuning\n",
    "logger = logging.getLogger(__name__)\n",
    "logging.basicConfig(filename=config.path_log_ml,\n",
    "                    format='%(asctime)s %(levelname)-8s %(message)s',\n",
    "                    filemode='w',\n",
    "                    level=logging.INFO,\n",
    "                    datefmt='%Y-%m-%d %H:%M:%S')"
   ],
   "outputs": [],
   "execution_count": 4
  },
  {
   "metadata": {
    "ExecuteTime": {
     "end_time": "2025-01-25T13:31:56.087269Z",
     "start_time": "2025-01-25T13:31:56.084297Z"
    }
   },
   "cell_type": "code",
   "source": "RANDOM_STATE=88",
   "outputs": [],
   "execution_count": 5
  },
  {
   "metadata": {},
   "cell_type": "markdown",
   "source": "## Data Gathering <a name=\"data\"></a>"
  },
  {
   "cell_type": "code",
   "metadata": {
    "ExecuteTime": {
     "end_time": "2025-01-25T13:31:56.819969Z",
     "start_time": "2025-01-25T13:31:56.730231Z"
    }
   },
   "source": [
    "# load in the training data\n",
    "train_data = pd.read_csv(config.path_train_data)\n",
    "train_data.head()"
   ],
   "outputs": [
    {
     "data": {
      "text/plain": [
       "   ID Promotion  purchase  V1         V2        V3  V4  V5  V6  V7\n",
       "0   1        No         0   2  30.443518 -1.165083   1   1   3   2\n",
       "1   3        No         0   3  32.159350 -0.645617   2   3   2   2\n",
       "2   4        No         0   2  30.431659  0.133583   1   1   4   2\n",
       "3   5        No         0   0  26.588914 -0.212728   2   1   4   2\n",
       "4   8       Yes         0   3  28.044331 -0.385883   1   1   2   2"
      ],
      "text/html": [
       "<div>\n",
       "<style scoped>\n",
       "    .dataframe tbody tr th:only-of-type {\n",
       "        vertical-align: middle;\n",
       "    }\n",
       "\n",
       "    .dataframe tbody tr th {\n",
       "        vertical-align: top;\n",
       "    }\n",
       "\n",
       "    .dataframe thead th {\n",
       "        text-align: right;\n",
       "    }\n",
       "</style>\n",
       "<table border=\"1\" class=\"dataframe\">\n",
       "  <thead>\n",
       "    <tr style=\"text-align: right;\">\n",
       "      <th></th>\n",
       "      <th>ID</th>\n",
       "      <th>Promotion</th>\n",
       "      <th>purchase</th>\n",
       "      <th>V1</th>\n",
       "      <th>V2</th>\n",
       "      <th>V3</th>\n",
       "      <th>V4</th>\n",
       "      <th>V5</th>\n",
       "      <th>V6</th>\n",
       "      <th>V7</th>\n",
       "    </tr>\n",
       "  </thead>\n",
       "  <tbody>\n",
       "    <tr>\n",
       "      <th>0</th>\n",
       "      <td>1</td>\n",
       "      <td>No</td>\n",
       "      <td>0</td>\n",
       "      <td>2</td>\n",
       "      <td>30.443518</td>\n",
       "      <td>-1.165083</td>\n",
       "      <td>1</td>\n",
       "      <td>1</td>\n",
       "      <td>3</td>\n",
       "      <td>2</td>\n",
       "    </tr>\n",
       "    <tr>\n",
       "      <th>1</th>\n",
       "      <td>3</td>\n",
       "      <td>No</td>\n",
       "      <td>0</td>\n",
       "      <td>3</td>\n",
       "      <td>32.159350</td>\n",
       "      <td>-0.645617</td>\n",
       "      <td>2</td>\n",
       "      <td>3</td>\n",
       "      <td>2</td>\n",
       "      <td>2</td>\n",
       "    </tr>\n",
       "    <tr>\n",
       "      <th>2</th>\n",
       "      <td>4</td>\n",
       "      <td>No</td>\n",
       "      <td>0</td>\n",
       "      <td>2</td>\n",
       "      <td>30.431659</td>\n",
       "      <td>0.133583</td>\n",
       "      <td>1</td>\n",
       "      <td>1</td>\n",
       "      <td>4</td>\n",
       "      <td>2</td>\n",
       "    </tr>\n",
       "    <tr>\n",
       "      <th>3</th>\n",
       "      <td>5</td>\n",
       "      <td>No</td>\n",
       "      <td>0</td>\n",
       "      <td>0</td>\n",
       "      <td>26.588914</td>\n",
       "      <td>-0.212728</td>\n",
       "      <td>2</td>\n",
       "      <td>1</td>\n",
       "      <td>4</td>\n",
       "      <td>2</td>\n",
       "    </tr>\n",
       "    <tr>\n",
       "      <th>4</th>\n",
       "      <td>8</td>\n",
       "      <td>Yes</td>\n",
       "      <td>0</td>\n",
       "      <td>3</td>\n",
       "      <td>28.044331</td>\n",
       "      <td>-0.385883</td>\n",
       "      <td>1</td>\n",
       "      <td>1</td>\n",
       "      <td>2</td>\n",
       "      <td>2</td>\n",
       "    </tr>\n",
       "  </tbody>\n",
       "</table>\n",
       "</div>"
      ]
     },
     "execution_count": 6,
     "metadata": {},
     "output_type": "execute_result"
    }
   ],
   "execution_count": 6
  },
  {
   "metadata": {
    "ExecuteTime": {
     "end_time": "2025-01-25T13:31:57.084707Z",
     "start_time": "2025-01-25T13:31:57.079764Z"
    }
   },
   "cell_type": "code",
   "source": "train_data.shape",
   "outputs": [
    {
     "data": {
      "text/plain": [
       "(84534, 10)"
      ]
     },
     "execution_count": 7,
     "metadata": {},
     "output_type": "execute_result"
    }
   ],
   "execution_count": 7
  },
  {
   "metadata": {},
   "cell_type": "markdown",
   "source": [
    "## Feature Engineering <a name=\"feature\"></a>\n",
    "Prepare data for modelling"
   ]
  },
  {
   "metadata": {
    "ExecuteTime": {
     "end_time": "2025-01-25T13:31:58.776312Z",
     "start_time": "2025-01-25T13:31:58.738251Z"
    }
   },
   "cell_type": "code",
   "source": [
    "df_ml = feature_engineering_training(train_data.copy(deep=True), onehot=True, drop_first=True)\n",
    "df_ml.info()"
   ],
   "outputs": [
    {
     "name": "stdout",
     "output_type": "stream",
     "text": [
      "<class 'pandas.core.frame.DataFrame'>\n",
      "Index: 42364 entries, 8 to 126181\n",
      "Data columns (total 6 columns):\n",
      " #   Column    Non-Null Count  Dtype  \n",
      "---  ------    --------------  -----  \n",
      " 0   purchase  42364 non-null  int64  \n",
      " 1   V3        42364 non-null  float64\n",
      " 2   V4_2      42364 non-null  int8   \n",
      " 3   V5_2      42364 non-null  int8   \n",
      " 4   V5_3      42364 non-null  int8   \n",
      " 5   V5_4      42364 non-null  int8   \n",
      "dtypes: float64(1), int64(1), int8(4)\n",
      "memory usage: 1.1 MB\n"
     ]
    }
   ],
   "execution_count": 8
  },
  {
   "metadata": {
    "ExecuteTime": {
     "end_time": "2025-01-25T13:31:59.329908Z",
     "start_time": "2025-01-25T13:31:59.327474Z"
    }
   },
   "cell_type": "code",
   "source": "",
   "outputs": [],
   "execution_count": null
  },
  {
   "metadata": {},
   "cell_type": "markdown",
   "source": "## Preprocessing <a name=\"preprocessing\"></a>"
  },
  {
   "metadata": {
    "ExecuteTime": {
     "end_time": "2025-01-25T13:32:00.336639Z",
     "start_time": "2025-01-25T13:32:00.333031Z"
    }
   },
   "cell_type": "code",
   "source": "logger.info('Logging started...')",
   "outputs": [],
   "execution_count": 9
  },
  {
   "metadata": {
    "ExecuteTime": {
     "end_time": "2025-01-25T13:32:00.856576Z",
     "start_time": "2025-01-25T13:32:00.850769Z"
    }
   },
   "cell_type": "code",
   "source": [
    "X = df_ml.drop(['purchase'], axis=1, errors='ignore')\n",
    "y = df_ml['purchase'].copy(deep=True)\n",
    "X.shape, y.shape"
   ],
   "outputs": [
    {
     "data": {
      "text/plain": [
       "((42364, 5), (42364,))"
      ]
     },
     "execution_count": 10,
     "metadata": {},
     "output_type": "execute_result"
    }
   ],
   "execution_count": 10
  },
  {
   "metadata": {
    "ExecuteTime": {
     "end_time": "2025-01-25T13:32:01.368953Z",
     "start_time": "2025-01-25T13:32:01.360587Z"
    }
   },
   "cell_type": "code",
   "source": "X.head()",
   "outputs": [
    {
     "data": {
      "text/plain": [
       "          V3  V4_2  V5_2  V5_3  V5_4\n",
       "ID                                  \n",
       "8  -0.385883     0     0     0     0\n",
       "15  0.393317     1     0     1     0\n",
       "17 -1.511395     1     0     0     0\n",
       "20  0.133583     1     0     1     0\n",
       "22 -0.905350     1     1     0     0"
      ],
      "text/html": [
       "<div>\n",
       "<style scoped>\n",
       "    .dataframe tbody tr th:only-of-type {\n",
       "        vertical-align: middle;\n",
       "    }\n",
       "\n",
       "    .dataframe tbody tr th {\n",
       "        vertical-align: top;\n",
       "    }\n",
       "\n",
       "    .dataframe thead th {\n",
       "        text-align: right;\n",
       "    }\n",
       "</style>\n",
       "<table border=\"1\" class=\"dataframe\">\n",
       "  <thead>\n",
       "    <tr style=\"text-align: right;\">\n",
       "      <th></th>\n",
       "      <th>V3</th>\n",
       "      <th>V4_2</th>\n",
       "      <th>V5_2</th>\n",
       "      <th>V5_3</th>\n",
       "      <th>V5_4</th>\n",
       "    </tr>\n",
       "    <tr>\n",
       "      <th>ID</th>\n",
       "      <th></th>\n",
       "      <th></th>\n",
       "      <th></th>\n",
       "      <th></th>\n",
       "      <th></th>\n",
       "    </tr>\n",
       "  </thead>\n",
       "  <tbody>\n",
       "    <tr>\n",
       "      <th>8</th>\n",
       "      <td>-0.385883</td>\n",
       "      <td>0</td>\n",
       "      <td>0</td>\n",
       "      <td>0</td>\n",
       "      <td>0</td>\n",
       "    </tr>\n",
       "    <tr>\n",
       "      <th>15</th>\n",
       "      <td>0.393317</td>\n",
       "      <td>1</td>\n",
       "      <td>0</td>\n",
       "      <td>1</td>\n",
       "      <td>0</td>\n",
       "    </tr>\n",
       "    <tr>\n",
       "      <th>17</th>\n",
       "      <td>-1.511395</td>\n",
       "      <td>1</td>\n",
       "      <td>0</td>\n",
       "      <td>0</td>\n",
       "      <td>0</td>\n",
       "    </tr>\n",
       "    <tr>\n",
       "      <th>20</th>\n",
       "      <td>0.133583</td>\n",
       "      <td>1</td>\n",
       "      <td>0</td>\n",
       "      <td>1</td>\n",
       "      <td>0</td>\n",
       "    </tr>\n",
       "    <tr>\n",
       "      <th>22</th>\n",
       "      <td>-0.905350</td>\n",
       "      <td>1</td>\n",
       "      <td>1</td>\n",
       "      <td>0</td>\n",
       "      <td>0</td>\n",
       "    </tr>\n",
       "  </tbody>\n",
       "</table>\n",
       "</div>"
      ]
     },
     "execution_count": 11,
     "metadata": {},
     "output_type": "execute_result"
    }
   ],
   "execution_count": 11
  },
  {
   "metadata": {
    "ExecuteTime": {
     "end_time": "2025-01-25T13:32:04.025189Z",
     "start_time": "2025-01-25T13:32:01.904104Z"
    }
   },
   "cell_type": "code",
   "source": [
    "# split dataset into train and test datasets\n",
    "X_train, X_validation, y_train, y_validation = train_test_split(\n",
    "    X,\n",
    "    y,\n",
    "    stratify=y,\n",
    "    test_size=0.20, \n",
    "    random_state=RANDOM_STATE\n",
    ")\n",
    "\n",
    "# resample the minority class\n",
    "# resample = RandomOverSampler(sampling_strategy='minority', random_state=RANDOM_STATE)\n",
    "# smote = SMOTE(k_neighbors=5, random_state=RANDOM_STATE, sampling_strategy='minority')\n",
    "smenn = SMOTEENN( random_state=RANDOM_STATE)\n",
    "X_resampled, y_resampled = smenn.fit_resample(X_train, y_train)\n",
    "\n",
    "# Show the results of the split\n",
    "print(\"Training dataset has {} samples.\".format(X_train.shape[0]))\n",
    "print(\"Validation dataset has {} samples.\".format(X_validation.shape[0]))\n",
    "# print(\"Test dataset has {} samples.\".format(X_test.shape[0]))\n",
    "print(\"Resampled Training dataset has {} samples.\".format(X_resampled.shape[0]))\n",
    "print(\"Resampled Training label dataset has {} samples.\".format(y_resampled.shape[0]))"
   ],
   "outputs": [
    {
     "name": "stdout",
     "output_type": "stream",
     "text": [
      "Training dataset has 33891 samples.\n",
      "Validation dataset has 8473 samples.\n",
      "Resampled Training dataset has 42459 samples.\n",
      "Resampled Training label dataset has 42459 samples.\n"
     ]
    }
   ],
   "execution_count": 12
  },
  {
   "metadata": {
    "ExecuteTime": {
     "end_time": "2025-01-25T13:32:04.123962Z",
     "start_time": "2025-01-25T13:32:04.112672Z"
    }
   },
   "cell_type": "code",
   "source": [
    "\n",
    "print('Original dataset shape %s' % Counter(y_train))\n",
    "print('Resampled dataset shape %s' % Counter(y_resampled))"
   ],
   "outputs": [
    {
     "name": "stdout",
     "output_type": "stream",
     "text": [
      "Original dataset shape Counter({0: 33314, 1: 577})\n",
      "Resampled dataset shape Counter({0: 32217, 1: 10242})\n"
     ]
    }
   ],
   "execution_count": 13
  },
  {
   "metadata": {
    "ExecuteTime": {
     "end_time": "2025-01-25T13:32:05.413171Z",
     "start_time": "2025-01-25T13:32:05.405378Z"
    }
   },
   "cell_type": "code",
   "source": "X_train.head()",
   "outputs": [
    {
     "data": {
      "text/plain": [
       "             V3  V4_2  V5_2  V5_3  V5_4\n",
       "ID                                     \n",
       "27495 -0.645617     1     0     1     0\n",
       "35002  1.345672     1     0     1     0\n",
       "85085  1.345672     1     0     1     0\n",
       "8181  -0.991928     1     0     1     0\n",
       "22557  0.393317     0     0     0     1"
      ],
      "text/html": [
       "<div>\n",
       "<style scoped>\n",
       "    .dataframe tbody tr th:only-of-type {\n",
       "        vertical-align: middle;\n",
       "    }\n",
       "\n",
       "    .dataframe tbody tr th {\n",
       "        vertical-align: top;\n",
       "    }\n",
       "\n",
       "    .dataframe thead th {\n",
       "        text-align: right;\n",
       "    }\n",
       "</style>\n",
       "<table border=\"1\" class=\"dataframe\">\n",
       "  <thead>\n",
       "    <tr style=\"text-align: right;\">\n",
       "      <th></th>\n",
       "      <th>V3</th>\n",
       "      <th>V4_2</th>\n",
       "      <th>V5_2</th>\n",
       "      <th>V5_3</th>\n",
       "      <th>V5_4</th>\n",
       "    </tr>\n",
       "    <tr>\n",
       "      <th>ID</th>\n",
       "      <th></th>\n",
       "      <th></th>\n",
       "      <th></th>\n",
       "      <th></th>\n",
       "      <th></th>\n",
       "    </tr>\n",
       "  </thead>\n",
       "  <tbody>\n",
       "    <tr>\n",
       "      <th>27495</th>\n",
       "      <td>-0.645617</td>\n",
       "      <td>1</td>\n",
       "      <td>0</td>\n",
       "      <td>1</td>\n",
       "      <td>0</td>\n",
       "    </tr>\n",
       "    <tr>\n",
       "      <th>35002</th>\n",
       "      <td>1.345672</td>\n",
       "      <td>1</td>\n",
       "      <td>0</td>\n",
       "      <td>1</td>\n",
       "      <td>0</td>\n",
       "    </tr>\n",
       "    <tr>\n",
       "      <th>85085</th>\n",
       "      <td>1.345672</td>\n",
       "      <td>1</td>\n",
       "      <td>0</td>\n",
       "      <td>1</td>\n",
       "      <td>0</td>\n",
       "    </tr>\n",
       "    <tr>\n",
       "      <th>8181</th>\n",
       "      <td>-0.991928</td>\n",
       "      <td>1</td>\n",
       "      <td>0</td>\n",
       "      <td>1</td>\n",
       "      <td>0</td>\n",
       "    </tr>\n",
       "    <tr>\n",
       "      <th>22557</th>\n",
       "      <td>0.393317</td>\n",
       "      <td>0</td>\n",
       "      <td>0</td>\n",
       "      <td>0</td>\n",
       "      <td>1</td>\n",
       "    </tr>\n",
       "  </tbody>\n",
       "</table>\n",
       "</div>"
      ]
     },
     "execution_count": 14,
     "metadata": {},
     "output_type": "execute_result"
    }
   ],
   "execution_count": 14
  },
  {
   "metadata": {},
   "cell_type": "markdown",
   "source": "## Setting a baseline <a name=\"baseline\"></a>"
  },
  {
   "metadata": {
    "ExecuteTime": {
     "end_time": "2025-01-25T13:32:06.566832Z",
     "start_time": "2025-01-25T13:32:06.484965Z"
    }
   },
   "cell_type": "code",
   "source": [
    "# build training and validation dmatrixes, using the unsampled data instead, use weighted loss to control imbalance\n",
    "dtrain = xgb.DMatrix(X_train, label=y_train, enable_categorical=False)\n",
    "# dtrain = xgb.DMatrix(X_resampled, label=y_resampled, enable_categorical=True)\n",
    "dval = xgb.DMatrix(X_validation, label=y_validation, enable_categorical=False)\n",
    "evals = [(dval, 'test')]"
   ],
   "outputs": [],
   "execution_count": 15
  },
  {
   "metadata": {},
   "cell_type": "code",
   "source": [
    "# Set feature weights, with V3, V4 and V5 features with higher weights\n",
    "# fw = np.ones(X.shape[1])\n",
    "# \n",
    "# # V3\n",
    "# fw[0] = 20\n",
    "# \n",
    "# # V4_2, V5\n",
    "# fw[6:11] = 10\n",
    "# \n",
    "# dtrain.set_info(feature_weights=fw)\n",
    "# dval.set_info(feature_weights=fw)\n",
    "# \n",
    "# # fw\n",
    "# print(fw)\n"
   ],
   "outputs": [],
   "execution_count": null
  },
  {
   "metadata": {},
   "cell_type": "code",
   "source": [
    "# fw =[1, 1, 10, 10, 10, 1, 1]\n",
    "# dtrain.set_info(feature_weights=fw)\n",
    "# dval.set_info(feature_weights=fw)"
   ],
   "outputs": [],
   "execution_count": null
  },
  {
   "metadata": {
    "ExecuteTime": {
     "end_time": "2025-01-25T13:32:14.564466Z",
     "start_time": "2025-01-25T13:32:14.558007Z"
    }
   },
   "cell_type": "code",
   "source": [
    "scale_pos_weight = len(y_train[y_train == 0]) / len(y_train[y_train == 1])\n",
    "scale_pos_weight"
   ],
   "outputs": [
    {
     "data": {
      "text/plain": [
       "57.73656845753899"
      ]
     },
     "execution_count": 16,
     "metadata": {},
     "output_type": "execute_result"
    }
   ],
   "execution_count": 16
  },
  {
   "metadata": {
    "ExecuteTime": {
     "end_time": "2025-01-25T13:32:15.409125Z",
     "start_time": "2025-01-25T13:32:15.406491Z"
    }
   },
   "cell_type": "code",
   "source": "",
   "outputs": [],
   "execution_count": null
  },
  {
   "metadata": {
    "ExecuteTime": {
     "end_time": "2025-01-25T13:32:15.991324Z",
     "start_time": "2025-01-25T13:32:15.988369Z"
    }
   },
   "cell_type": "code",
   "source": [
    "# when coding a custom objective function, do not specify a default objective as a base\n",
    "# output of model is raw prediction weights at leaf nodes, which needs to be transformed to probability with sigmoid\n",
    "initial_params = {\n",
    "    'random_state': RANDOM_STATE,\n",
    "    'scale_pos_weight': scale_pos_weight,\n",
    "    'max_delta_step': 1,\n",
    "    'booster': 'gbtree',\n",
    "    'max_depth': 2,\n",
    "    'grow_policy': 'lossguide',\n",
    "    \"disable_default_eval_metric\": True, \n",
    "    'tree_method': 'hist',\n",
    "}"
   ],
   "outputs": [],
   "execution_count": 17
  },
  {
   "metadata": {
    "ExecuteTime": {
     "end_time": "2025-01-25T13:32:16.772170Z",
     "start_time": "2025-01-25T13:32:16.769053Z"
    }
   },
   "cell_type": "code",
   "source": "weighted_loss_obj = WeightedImbalanceLoss(imbalance_alpha=60)",
   "outputs": [],
   "execution_count": 18
  },
  {
   "metadata": {
    "ExecuteTime": {
     "end_time": "2025-01-25T13:32:18.398375Z",
     "start_time": "2025-01-25T13:32:18.073809Z"
    }
   },
   "cell_type": "code",
   "source": [
    "# Use custom objective and metric, use validation dataset evaluate the results\n",
    "results = {}\n",
    "base_model = xgb.train(params=initial_params,\n",
    "                       dtrain=dtrain,\n",
    "                       num_boost_round=10,\n",
    "                       evals=evals,\n",
    "                       obj=weighted_loss_obj.weighted_binary_cross_entropy,\n",
    "                       custom_metric = irr_score,\n",
    "                       verbose_eval=5,\n",
    "                       evals_result=results,\n",
    "                       early_stopping_rounds=5,\n",
    "                       maximize=True,\n",
    "                       )\n",
    "\n",
    "# get prediction\n",
    "y_pred_raw = base_model.predict(dval, output_margin=True)\n",
    "# convert leaf raw weights to probabilities\n",
    "preds = 1 / (1 + np.exp(-y_pred_raw))\n",
    "print('AUC: {}'.format(roc_auc_score(y_validation, preds)))\n",
    "# convert to labels 1 or 0 based on threshold\n",
    "pred_labels = (preds > THRESHOLD).astype(int)\n",
    "accuracy = accuracy_score(y_validation, pred_labels)\n",
    "print('Accuracy: {}'.format(accuracy))"
   ],
   "outputs": [
    {
     "name": "stdout",
     "output_type": "stream",
     "text": [
      "[0]\ttest-irr_score:0.01393\n",
      "[5]\ttest-irr_score:0.01850\n",
      "[6]\ttest-irr_score:0.01850\n",
      "AUC: 0.6460221815343978\n",
      "Accuracy: 0.5786616310633778\n"
     ]
    }
   ],
   "execution_count": 19
  },
  {
   "metadata": {
    "ExecuteTime": {
     "end_time": "2025-01-25T13:32:19.898272Z",
     "start_time": "2025-01-25T13:32:19.877233Z"
    }
   },
   "cell_type": "code",
   "source": "print(classification_report(y_validation, pred_labels, zero_division=0, output_dict=False))",
   "outputs": [
    {
     "name": "stdout",
     "output_type": "stream",
     "text": [
      "              precision    recall  f1-score   support\n",
      "\n",
      "           0       0.99      0.58      0.73      8329\n",
      "           1       0.03      0.69      0.05       144\n",
      "\n",
      "    accuracy                           0.58      8473\n",
      "   macro avg       0.51      0.64      0.39      8473\n",
      "weighted avg       0.97      0.58      0.72      8473\n",
      "\n"
     ]
    }
   ],
   "execution_count": 20
  },
  {
   "metadata": {
    "ExecuteTime": {
     "end_time": "2025-01-25T13:32:20.686137Z",
     "start_time": "2025-01-25T13:32:20.679586Z"
    }
   },
   "cell_type": "code",
   "source": [
    "# print confusion metrix\n",
    "print('\\nConfusion matrix : \\n{}'.format(confusion_matrix(y_validation, pred_labels)))"
   ],
   "outputs": [
    {
     "name": "stdout",
     "output_type": "stream",
     "text": [
      "\n",
      "Confusion matrix : \n",
      "[[4803 3526]\n",
      " [  44  100]]\n"
     ]
    }
   ],
   "execution_count": 21
  },
  {
   "metadata": {
    "ExecuteTime": {
     "end_time": "2025-01-25T13:32:21.532582Z",
     "start_time": "2025-01-25T13:32:21.360334Z"
    }
   },
   "cell_type": "code",
   "source": [
    "\n",
    "cm = confusion_matrix(y_validation, pred_labels)\n",
    "disp = ConfusionMatrixDisplay(confusion_matrix=cm,\n",
    "                              display_labels=[0, 1])\n",
    "disp.plot()\n",
    "plt.show()"
   ],
   "outputs": [
    {
     "data": {
      "text/plain": [
       "<Figure size 800x400 with 2 Axes>"
      ],
      "image/png": "[encoded data removed]"
     },
     "metadata": {},
     "output_type": "display_data"
    }
   ],
   "execution_count": 22
  },
  {
   "metadata": {
    "ExecuteTime": {
     "end_time": "2025-01-25T13:32:22.179767Z",
     "start_time": "2025-01-25T13:32:21.987053Z"
    }
   },
   "cell_type": "code",
   "source": [
    "xgb.plot_importance(base_model, importance_type='gain')\n",
    "plt.show()\n"
   ],
   "outputs": [
    {
     "data": {
      "text/plain": [
       "<Figure size 800x400 with 1 Axes>"
      ],
      "image/png": "[encoded data removed]"
     },
     "metadata": {},
     "output_type": "display_data"
    }
   ],
   "execution_count": 23
  },
  {
   "metadata": {
    "ExecuteTime": {
     "end_time": "2025-01-25T13:32:24.020231Z",
     "start_time": "2025-01-25T13:32:23.060376Z"
    }
   },
   "cell_type": "code",
   "source": [
    "# Plot the first tree\n",
    "xgb.plot_tree(base_model, num_trees=0, rankdir='LR')\n",
    "plt.show()"
   ],
   "outputs": [
    {
     "data": {
      "text/plain": [
       "<Figure size 800x400 with 1 Axes>"
      ],
      "image/png": "[encoded data removed]"
     },
     "metadata": {},
     "output_type": "display_data"
    }
   ],
   "execution_count": 24
  },
  {
   "metadata": {},
   "cell_type": "markdown",
   "source": "## Hyperparameter tuning <a name=\"hyper\"></a>"
  },
  {
   "metadata": {
    "ExecuteTime": {
     "end_time": "2025-01-25T13:32:24.402003Z",
     "start_time": "2025-01-25T13:32:24.398031Z"
    }
   },
   "cell_type": "code",
   "source": [
    "storage_name = config.path_database_optuna\n",
    "print('Location of optuna database: {}'.format(storage_name))\n"
   ],
   "outputs": [
    {
     "name": "stdout",
     "output_type": "stream",
     "text": [
      "Location of optuna database: sqlite:////Users/juanitasmith/Documents/Udacity/projects/ab_testing_starbucks/data/clean/starbucks.db\n"
     ]
    }
   ],
   "execution_count": 25
  },
  {
   "metadata": {
    "ExecuteTime": {
     "end_time": "2025-01-25T13:32:54.187615Z",
     "start_time": "2025-01-25T13:32:25.107715Z"
    }
   },
   "cell_type": "code",
   "source": [
    "# print existing studies\n",
    "study_summaries = optuna.study.get_all_study_summaries(storage=storage_name)\n",
    "for x in study_summaries:\n",
    "    print(x.study_name)"
   ],
   "outputs": [
    {
     "name": "stdout",
     "output_type": "stream",
     "text": [
      "xgboost-starbucks-irr_with_v2-scaled_adjusted_parms25\n",
      "xgboost-starbucks-irr-1\n",
      "xgboost-starbucks-irr-2\n",
      "xgboost-starbucks-irr-3\n"
     ]
    }
   ],
   "execution_count": 26
  },
  {
   "metadata": {
    "ExecuteTime": {
     "end_time": "2025-01-25T13:32:54.196815Z",
     "start_time": "2025-01-25T13:32:54.193948Z"
    }
   },
   "cell_type": "code",
   "source": "# optuna.delete_study(study_name=\"xgboost-starbucks-irr_with_v2-scaled_adjusted_parms1\", storage=storage_name)",
   "outputs": [],
   "execution_count": 27
  },
  {
   "metadata": {
    "ExecuteTime": {
     "end_time": "2025-01-25T13:32:54.228065Z",
     "start_time": "2025-01-25T13:32:54.224671Z"
    }
   },
   "cell_type": "code",
   "source": [
    "# Unique identifier of the study\n",
    "study_name = \"xgboost-starbucks-irr-3\"\n",
    "\n",
    "# Propagate logs to the root logger\n",
    "optuna.logging.enable_propagation() \n",
    "\n",
    "# Stop showing logs in sys.stderr\n",
    "optuna.logging.disable_default_handler() "
   ],
   "outputs": [],
   "execution_count": 28
  },
  {
   "metadata": {
    "ExecuteTime": {
     "end_time": "2025-01-25T13:32:54.266019Z",
     "start_time": "2025-01-25T13:32:54.258712Z"
    }
   },
   "cell_type": "code",
   "source": [
    "def objective(trial, dtrain, dvalid, scoring, initial_params):\n",
    "    \"\"\" Grid search using Bayes Optimization with OPTUNA\n",
    "\n",
    "    Args:\n",
    "        trial\n",
    "        dtrain: (xgb.DMatrix) - training dataset\n",
    "        dvalid: (xgb.DMatrix) - validation dataset\n",
    "        scoring: (str) - scoring metric to use during parameter search\n",
    "        initial_params: (dict) - initial parameters as per baseline model\n",
    "\n",
    "    Return:\n",
    "        objective_score: score of a trial\n",
    "    \"\"\"\n",
    "\n",
    "    params = {\n",
    "        \"disable_default_eval_metric\": True,\n",
    "        # 'tree_method': trial.suggest_categorical('tree_method', ['exact', 'hist']),\n",
    "        'max_delta_step': trial.suggest_float('max_delta_step', low=10, high=100),\n",
    "        'colsample_bytree': trial.suggest_float('colsample_bytree', low=0.5, high=1),\n",
    "        \"subsample\": trial.suggest_float(\"subsample\", 0.5, 1),\n",
    "        'min_child_weight': trial.suggest_float('min_child_weight', low=40, high=100),\n",
    "        'min_data_in_leaf': trial.suggest_float('min_data_in_leaf', low=40, high=100),\n",
    "        \"lambda\": trial.suggest_float(\"lambda\", low=3, high=100), # reg_lambda L2 reg\n",
    "        \"alpha\": trial.suggest_float('alpha', low=3, high=100), # same as reg_alpha L1 reg\n",
    "        \"max_depth\": trial.suggest_int(\"max_depth\", 1, 4),\n",
    "        \"eta\": trial.suggest_float(\"eta\", 0.001, 0.2), # same as learning rate\n",
    "        \"gamma\": trial.suggest_float(\"gamma\", 0, 20), # minimum split loss\n",
    "        \"num_boost_rounds\": trial.suggest_int('num_boost_rounds', low=10, high=100, step=5),\n",
    "        \"grow_policy\": trial.suggest_categorical(\"grow_policy\", [\"depthwise\", \"lossguide\"])\n",
    "    }\n",
    "    \n",
    "    initial_params.update(params)\n",
    "        \n",
    "    # evaluate using the test datasets but avoid doing unnecessary trials\n",
    "    evals=[(dvalid, \"validation\")]\n",
    "    test_eval= 'validation-{}'.format(scoring)\n",
    "    pruning_callback = optuna.integration.XGBoostPruningCallback(trial, test_eval)\n",
    "    \n",
    "    results = {}\n",
    "    xgb.train(\n",
    "        params=initial_params,\n",
    "        dtrain=dtrain,\n",
    "        evals=evals,\n",
    "        obj=weighted_loss_obj.weighted_binary_cross_entropy,\n",
    "        custom_metric = irr_score,\n",
    "        verbose_eval=False,\n",
    "        early_stopping_rounds=5,\n",
    "        callbacks=[pruning_callback],\n",
    "        maximize=True,\n",
    "        evals_result=results,\n",
    "    )\n",
    "    \n",
    "    # Extract the best score\n",
    "    score = results['validation']['irr_score'][-1]\n",
    "    \n",
    "    return score"
   ],
   "outputs": [],
   "execution_count": 29
  },
  {
   "metadata": {
    "ExecuteTime": {
     "end_time": "2025-01-25T13:37:18.034365Z",
     "start_time": "2025-01-25T13:32:54.293451Z"
    }
   },
   "cell_type": "code",
   "source": [
    "study = optuna.create_study(sampler=TPESampler(), \n",
    "                            direction=\"maximize\", \n",
    "                            study_name=study_name,\n",
    "                            storage=storage_name,\n",
    "                            load_if_exists=True,\n",
    "                            )\n",
    "\n",
    "\n",
    "study.optimize(lambda trial: objective(trial, \n",
    "                                       scoring='irr_score',\n",
    "                                       initial_params=initial_params.copy(),\n",
    "                                       dtrain=dtrain,\n",
    "                                       dvalid=dval), \n",
    "               n_trials=200, \n",
    "               gc_after_trial=True) \n",
    "                        "
   ],
   "outputs": [],
   "execution_count": 30
  },
  {
   "metadata": {
    "jupyter": {
     "is_executing": true
    },
    "ExecuteTime": {
     "start_time": "2025-01-25T13:37:18.067308Z"
    }
   },
   "cell_type": "code",
   "source": "vis.plot_optimization_history(study)",
   "outputs": [],
   "execution_count": null
  },
  {
   "metadata": {},
   "cell_type": "code",
   "source": "vis.plot_param_importances(study)",
   "outputs": [],
   "execution_count": null
  },
  {
   "metadata": {},
   "cell_type": "code",
   "source": "vis.plot_slice(study)",
   "outputs": [],
   "execution_count": null
  },
  {
   "metadata": {},
   "cell_type": "code",
   "source": [
    "print(\"Number of finished trials: \", len(study.trials))\n",
    "print(\"Best trial:\")\n",
    "trial = study.best_trial\n",
    "print(\"  Value: {}\".format(trial.value))"
   ],
   "outputs": [],
   "execution_count": null
  },
  {
   "metadata": {},
   "cell_type": "code",
   "source": [
    "best_params = study.best_params\n",
    "best_params"
   ],
   "outputs": [],
   "execution_count": null
  },
  {
   "metadata": {},
   "cell_type": "code",
   "source": [
    "updated_params = initial_params.copy()\n",
    "updated_params.update(best_params)\n",
    "updated_params"
   ],
   "outputs": [],
   "execution_count": null
  },
  {
   "metadata": {},
   "cell_type": "code",
   "source": "",
   "outputs": [],
   "execution_count": null
  },
  {
   "metadata": {},
   "cell_type": "code",
   "source": [
    "# evaluate using the test datasets but avoid doing unnessary trials\n",
    "evals=[(dval, \"validation\")]\n",
    "test_eval= 'validation-{}'.format('irr_score')\n",
    "pruning_callback = optuna.integration.XGBoostPruningCallback(trial, test_eval)\n",
    "\n",
    "results = {}\n",
    "tuned_model = xgb.train(params=updated_params,\n",
    "            dtrain=dtrain,\n",
    "            num_boost_round=60,\n",
    "            evals=evals,\n",
    "            obj=weighted_loss_obj.weighted_binary_cross_entropy,\n",
    "            custom_metric = irr_score,\n",
    "            verbose_eval=5,\n",
    "            # early_stopping_rounds=5,\n",
    "            callbacks=[pruning_callback],\n",
    "            maximize=True,\n",
    "            evals_result=results,\n",
    "            )"
   ],
   "outputs": [],
   "execution_count": null
  },
  {
   "metadata": {},
   "cell_type": "code",
   "source": [
    "# get prediction\n",
    "y_pred_raw = tuned_model.predict(dval, output_margin=True)\n",
    "preds = 1 / (1 + np.exp(-y_pred_raw))\n",
    "print('AUC: {}'.format(roc_auc_score(y_validation, preds)))\n",
    "pred_labels = (preds > THRESHOLD).astype(int)\n",
    "accuracy = accuracy_score(y_validation, pred_labels)\n",
    "print('Accuracy: {}'.format(accuracy))"
   ],
   "outputs": [],
   "execution_count": null
  },
  {
   "metadata": {},
   "cell_type": "code",
   "source": "print(classification_report(y_validation, pred_labels, zero_division=0, output_dict=False))",
   "outputs": [],
   "execution_count": null
  },
  {
   "metadata": {},
   "cell_type": "code",
   "source": [
    "# print confusion metrix\n",
    "print('\\nConfusion matrix : \\n{}'.format(confusion_matrix(y_validation, pred_labels)))"
   ],
   "outputs": [],
   "execution_count": null
  },
  {
   "metadata": {},
   "cell_type": "code",
   "source": [
    "\n",
    "cm = confusion_matrix(y_validation, pred_labels)\n",
    "disp = ConfusionMatrixDisplay(confusion_matrix=cm,\n",
    "                              display_labels=[0, 1])\n",
    "disp.plot()\n",
    "plt.show()"
   ],
   "outputs": [],
   "execution_count": null
  },
  {
   "metadata": {},
   "cell_type": "code",
   "source": [
    "xgb.plot_importance(tuned_model, importance_type='gain')\n",
    "plt.show()"
   ],
   "outputs": [],
   "execution_count": null
  },
  {
   "metadata": {},
   "cell_type": "code",
   "source": [
    "# Plot the first tree\n",
    "xgb.plot_tree(tuned_model, num_trees=0)"
   ],
   "outputs": [],
   "execution_count": null
  },
  {
   "metadata": {},
   "cell_type": "markdown",
   "source": [
    "## Evaluation <a name=\"eval\"></a>\n",
    "\n",
    "This will test your results, and provide you back some information on how well your promotion_strategy will work in practice"
   ]
  },
  {
   "metadata": {},
   "cell_type": "code",
   "source": [
    "# base model evaluation\n",
    "test_results(promotion_strategy, base_model)"
   ],
   "outputs": [],
   "execution_count": null
  },
  {
   "metadata": {},
   "cell_type": "code",
   "source": [
    "# tuned model evaluation - did we improve the results?\n",
    "test_results(promotion_strategy, tuned_model)"
   ],
   "outputs": [],
   "execution_count": null
  },
  {
   "metadata": {},
   "cell_type": "markdown",
   "source": "## References <a name=\"reference\"></a>"
  },
  {
   "metadata": {},
   "cell_type": "markdown",
   "source": [
    "[XGBOOST handling imbalance with focal loss](https://github.com/handongfeng/Xgboost-With-Imbalance-And-Focal-Loss/blob/master/Xgboost_sklearn.py)\n",
    "\n",
    "[XGBOOST understanding algorithm](https://github.com/datacamp/Machine-Learning-With-XGboost-live-training/blob/master/notebooks/Machine-Learning-with-XGBoost-solution.ipynb)\n",
    "    \n",
    "[Dynamic bin size of histograms](https://medium.com/@maxmarkovvision/optimal-number-of-bins-for-histograms-3d7c48086fde)"
   ]
  }
 ],
 "metadata": {
  "kernelspec": {
   "display_name": "abstarbucks",
   "language": "python",
   "name": "abstarbucks"
  },
  "language_info": {
   "codemirror_mode": {
    "name": "ipython",
    "version": 3
   },
   "file_extension": ".py",
   "mimetype": "text/x-python",
   "name": "python",
   "nbconvert_exporter": "python",
   "pygments_lexer": "ipython3",
   "version": "3.10.15"
  }
 },
 "nbformat": 4,
 "nbformat_minor": 4
}
