{
 "cells": [
  {
   "cell_type": "markdown",
   "metadata": {},
   "source": [
    "## Portfolio Exercise: Starbucks\n",
    "<br>\n",
    "\n",
    "<img src=\"https://opj.ca/wp-content/uploads/2018/02/New-Starbucks-Logo-1200x969.jpg\" width=\"200\" height=\"200\">\n",
    "<br>\n",
    "<br>\n",
    " \n",
    "#### Background Information\n",
    "\n",
    "The dataset you will be provided in this portfolio exercise was originally used as a take-home assignment provided by Starbucks for their job candidates. The data for this exercise consists of about 120,000 data points split in a 2:1 ratio among training and test files. In the experiment simulated by the data, an advertising promotion was tested to see if it would bring more customers to purchase a specific product priced at $10. Since it costs the company 0.15 to send out each promotion, it would be best to limit that promotion only to those that are most receptive to the promotion. Each data point includes one column indicating whether or not an individual was sent a promotion for the product, and one column indicating whether or not that individual eventually purchased that product. Each individual also has seven additional features associated with them, which are provided abstractly as V1-V7.\n",
    "\n",
    "#### Optimization Strategy\n",
    "\n",
    "Your task is to use the training data to understand what patterns in V1-V7 to indicate that a promotion should be provided to a user. Specifically, your goal is to maximize the following metrics:\n",
    "\n",
    "* **Incremental Response Rate (IRR)** \n",
    "\n",
    "IRR depicts how many more customers purchased the product with the promotion, as compared to if they didn't receive the promotion. Mathematically, it's the ratio of the number of purchasers in the promotion group to the total number of customers in the purchasers group (_treatment_) minus the ratio of the number of purchasers in the non-promotional group to the total number of customers in the non-promotional group (_control_).\n",
    "\n",
    "$$ IRR = \\frac{purch_{treat}}{cust_{treat}} - \\frac{purch_{ctrl}}{cust_{ctrl}} $$\n",
    "\n",
    "\n",
    "* **Net Incremental Revenue (NIR)**\n",
    "\n",
    "NIR depicts how much is made (or lost) by sending out the promotion. Mathematically, this is 10 times the total number of purchasers that received the promotion minus 0.15 times the number of promotions sent out, minus 10 times the number of purchasers who were not given the promotion.\n",
    "\n",
    "$$ NIR = (10\\cdot purch_{treat} - 0.15 \\cdot cust_{treat}) - 10 \\cdot purch_{ctrl}$$\n",
    "\n",
    "For a full description of what Starbucks provides to candidates see the [instructions available here](https://drive.google.com/open?id=18klca9Sef1Rs6q8DW4l7o349r8B70qXM).\n",
    "\n",
    "Below you can find the training data provided.  Explore the data and different optimization strategies.\n",
    "\n",
    "#### How To Test Your Strategy?\n",
    "\n",
    "When you feel like you have an optimization strategy, complete the `promotion_strategy` function to pass to the `test_results` function.  \n",
    "From past data, we know there are four possible outomes:\n",
    "\n",
    "Table of actual promotion vs. predicted promotion customers:  \n",
    "\n",
    "<table>\n",
    "<tr><th></th><th colspan = '2'>Actual</th></tr>\n",
    "<tr><th>Predicted</th><th>Yes</th><th>No</th></tr>\n",
    "<tr><th>Yes</th><td>I</td><td>II</td></tr>\n",
    "<tr><th>No</th><td>III</td><td>IV</td></tr>\n",
    "</table>\n",
    "\n",
    "The metrics are only being compared for the individuals we predict should obtain the promotion – that is, quadrants I and II.  Since the first set of individuals that receive the promotion (in the training set) receive it randomly, we can expect that quadrants I and II will have approximately equivalent participants.  \n",
    "\n",
    "Comparing quadrant I to II then gives an idea of how well your promotion strategy will work in the future. \n",
    "\n",
    "Get started by reading in the data below.  See how each variable or combination of variables along with a promotion influences the chance of purchasing.  When you feel like you have a strategy for who should receive a promotion, test your strategy against the test dataset used in the final `test_results` function.\n",
    "\n",
    "\n",
    "##### Questions:\n",
    "1)\tAnalyze the results of the experiment and identify the effect of the Treatment on product purchase and Net Incremental Revenue. <br>\n",
    "2)\tBuild a model to select the best customers to target that maximizes the Incremental Response Rate and Net Incremental Revenue. \n",
    "##### Deliverables\n",
    "3)\tScore the ‘Test.csv’ using the model and select the best customers and share the customer ID’s as a csv file <br>\n",
    "4)\tExplain briefly the approach used in a separate document and also share the code that can be executed to reproduce results.\n"
   ]
  },
  {
   "metadata": {},
   "cell_type": "markdown",
   "source": [
    "# Notebook 2: AB Testing\n",
    "This notebook analyze the results of the experiment and answers 2 questions:\n",
    "1) Did the promotion increase sales?\n",
    "2) How much more is made (or lost) by sending out the promotion?\n"
   ]
  },
  {
   "metadata": {},
   "cell_type": "markdown",
   "source": [
    "## Table of contents\n",
    "\n",
    "- [Data gathering](#data)\n",
    "- [Hypothesis test for Invariant Metric](#invariant)\n",
    "- [Hypothesis test for IRR (Incremental Response Rate)](#IRR)\n",
    "- [Hypothesis test for NIR (Net Incremental Revenue)](#NIR)\n",
    "- [Summary](#summary)\n"
   ]
  },
  {
   "metadata": {
    "ExecuteTime": {
     "end_time": "2025-01-24T20:09:14.195412Z",
     "start_time": "2025-01-24T20:09:13.082697Z"
    }
   },
   "cell_type": "code",
   "source": [
    "# load in packages\n",
    "import warnings\n",
    "\n",
    "import matplotlib.pyplot as plt\n",
    "import numpy as np\n",
    "import pandas as pd\n",
    "import scipy.stats as stats\n",
    "\n",
    "from src import Seafoam, config\n",
    "\n",
    "%matplotlib inline\n",
    "\n",
    "# font standardization\n",
    "seafoam = Seafoam()\n",
    "\n",
    "#suppress warnings\n",
    "warnings.filterwarnings('ignore')"
   ],
   "outputs": [],
   "execution_count": 1
  },
  {
   "metadata": {},
   "cell_type": "markdown",
   "source": "## Data Gathering <a name=\"data\"></a> "
  },
  {
   "cell_type": "code",
   "metadata": {
    "ExecuteTime": {
     "end_time": "2025-01-24T20:09:14.280810Z",
     "start_time": "2025-01-24T20:09:14.201967Z"
    }
   },
   "source": [
    "# load in the data\n",
    "train_data = pd.read_csv(config.path_train_data)\n",
    "train_data.head()"
   ],
   "outputs": [
    {
     "data": {
      "text/plain": [
       "   ID Promotion  purchase  V1         V2        V3  V4  V5  V6  V7\n",
       "0   1        No         0   2  30.443518 -1.165083   1   1   3   2\n",
       "1   3        No         0   3  32.159350 -0.645617   2   3   2   2\n",
       "2   4        No         0   2  30.431659  0.133583   1   1   4   2\n",
       "3   5        No         0   0  26.588914 -0.212728   2   1   4   2\n",
       "4   8       Yes         0   3  28.044331 -0.385883   1   1   2   2"
      ],
      "text/html": [
       "<div>\n",
       "<style scoped>\n",
       "    .dataframe tbody tr th:only-of-type {\n",
       "        vertical-align: middle;\n",
       "    }\n",
       "\n",
       "    .dataframe tbody tr th {\n",
       "        vertical-align: top;\n",
       "    }\n",
       "\n",
       "    .dataframe thead th {\n",
       "        text-align: right;\n",
       "    }\n",
       "</style>\n",
       "<table border=\"1\" class=\"dataframe\">\n",
       "  <thead>\n",
       "    <tr style=\"text-align: right;\">\n",
       "      <th></th>\n",
       "      <th>ID</th>\n",
       "      <th>Promotion</th>\n",
       "      <th>purchase</th>\n",
       "      <th>V1</th>\n",
       "      <th>V2</th>\n",
       "      <th>V3</th>\n",
       "      <th>V4</th>\n",
       "      <th>V5</th>\n",
       "      <th>V6</th>\n",
       "      <th>V7</th>\n",
       "    </tr>\n",
       "  </thead>\n",
       "  <tbody>\n",
       "    <tr>\n",
       "      <th>0</th>\n",
       "      <td>1</td>\n",
       "      <td>No</td>\n",
       "      <td>0</td>\n",
       "      <td>2</td>\n",
       "      <td>30.443518</td>\n",
       "      <td>-1.165083</td>\n",
       "      <td>1</td>\n",
       "      <td>1</td>\n",
       "      <td>3</td>\n",
       "      <td>2</td>\n",
       "    </tr>\n",
       "    <tr>\n",
       "      <th>1</th>\n",
       "      <td>3</td>\n",
       "      <td>No</td>\n",
       "      <td>0</td>\n",
       "      <td>3</td>\n",
       "      <td>32.159350</td>\n",
       "      <td>-0.645617</td>\n",
       "      <td>2</td>\n",
       "      <td>3</td>\n",
       "      <td>2</td>\n",
       "      <td>2</td>\n",
       "    </tr>\n",
       "    <tr>\n",
       "      <th>2</th>\n",
       "      <td>4</td>\n",
       "      <td>No</td>\n",
       "      <td>0</td>\n",
       "      <td>2</td>\n",
       "      <td>30.431659</td>\n",
       "      <td>0.133583</td>\n",
       "      <td>1</td>\n",
       "      <td>1</td>\n",
       "      <td>4</td>\n",
       "      <td>2</td>\n",
       "    </tr>\n",
       "    <tr>\n",
       "      <th>3</th>\n",
       "      <td>5</td>\n",
       "      <td>No</td>\n",
       "      <td>0</td>\n",
       "      <td>0</td>\n",
       "      <td>26.588914</td>\n",
       "      <td>-0.212728</td>\n",
       "      <td>2</td>\n",
       "      <td>1</td>\n",
       "      <td>4</td>\n",
       "      <td>2</td>\n",
       "    </tr>\n",
       "    <tr>\n",
       "      <th>4</th>\n",
       "      <td>8</td>\n",
       "      <td>Yes</td>\n",
       "      <td>0</td>\n",
       "      <td>3</td>\n",
       "      <td>28.044331</td>\n",
       "      <td>-0.385883</td>\n",
       "      <td>1</td>\n",
       "      <td>1</td>\n",
       "      <td>2</td>\n",
       "      <td>2</td>\n",
       "    </tr>\n",
       "  </tbody>\n",
       "</table>\n",
       "</div>"
      ]
     },
     "execution_count": 2,
     "metadata": {},
     "output_type": "execute_result"
    }
   ],
   "execution_count": 2
  },
  {
   "metadata": {},
   "cell_type": "markdown",
   "source": [
    "## Hypothesis test for Invariant Metric <a name=\"invariant\"></a>\n",
    "\n",
    "Make sure the control and treatment groups have features with the same distributions to avoid bias.\n",
    "The number of customers that were offered promotions should be the same as those customers that did not receive the promotion.\n",
    "\n",
    "In this case, we want to do a two-sided hypothesis test on the proportion of promotions assigned to one of our conditions.\n",
    "\n",
    "Hypothesis to test:\n",
    "\n",
    "### $H_0: P_{no promotions} = 0.5$\n",
    "### $H_a: P_{no promotions} \\neq 0.5$"
   ]
  },
  {
   "metadata": {
    "ExecuteTime": {
     "end_time": "2025-01-24T20:09:14.546951Z",
     "start_time": "2025-01-24T20:09:14.514530Z"
    }
   },
   "cell_type": "code",
   "source": [
    "# Split data into control and treatment groups\n",
    "control_group = train_data.query('Promotion == \"No\"')\n",
    "treatment_group = train_data.query('Promotion == \"Yes\"')\n",
    "\n",
    "# drop promotion from treatment and control datasets as it's the split criteria\n",
    "treatment_group = treatment_group.drop('Promotion', axis=1, errors='ignore')\n",
    "control_group = control_group.drop('Promotion', axis=1, errors='ignore')\n",
    "treatment_group.head()"
   ],
   "outputs": [
    {
     "data": {
      "text/plain": [
       "    ID  purchase  V1         V2        V3  V4  V5  V6  V7\n",
       "4    8         0   3  28.044331 -0.385883   1   1   2   2\n",
       "8   15         0   2  31.930423  0.393317   2   3   1   2\n",
       "10  17         0   1  32.770916 -1.511395   2   1   4   1\n",
       "12  20         0   1  36.957009  0.133583   2   3   1   1\n",
       "14  22         0   3  36.911714 -0.905350   2   2   4   1"
      ],
      "text/html": [
       "<div>\n",
       "<style scoped>\n",
       "    .dataframe tbody tr th:only-of-type {\n",
       "        vertical-align: middle;\n",
       "    }\n",
       "\n",
       "    .dataframe tbody tr th {\n",
       "        vertical-align: top;\n",
       "    }\n",
       "\n",
       "    .dataframe thead th {\n",
       "        text-align: right;\n",
       "    }\n",
       "</style>\n",
       "<table border=\"1\" class=\"dataframe\">\n",
       "  <thead>\n",
       "    <tr style=\"text-align: right;\">\n",
       "      <th></th>\n",
       "      <th>ID</th>\n",
       "      <th>purchase</th>\n",
       "      <th>V1</th>\n",
       "      <th>V2</th>\n",
       "      <th>V3</th>\n",
       "      <th>V4</th>\n",
       "      <th>V5</th>\n",
       "      <th>V6</th>\n",
       "      <th>V7</th>\n",
       "    </tr>\n",
       "  </thead>\n",
       "  <tbody>\n",
       "    <tr>\n",
       "      <th>4</th>\n",
       "      <td>8</td>\n",
       "      <td>0</td>\n",
       "      <td>3</td>\n",
       "      <td>28.044331</td>\n",
       "      <td>-0.385883</td>\n",
       "      <td>1</td>\n",
       "      <td>1</td>\n",
       "      <td>2</td>\n",
       "      <td>2</td>\n",
       "    </tr>\n",
       "    <tr>\n",
       "      <th>8</th>\n",
       "      <td>15</td>\n",
       "      <td>0</td>\n",
       "      <td>2</td>\n",
       "      <td>31.930423</td>\n",
       "      <td>0.393317</td>\n",
       "      <td>2</td>\n",
       "      <td>3</td>\n",
       "      <td>1</td>\n",
       "      <td>2</td>\n",
       "    </tr>\n",
       "    <tr>\n",
       "      <th>10</th>\n",
       "      <td>17</td>\n",
       "      <td>0</td>\n",
       "      <td>1</td>\n",
       "      <td>32.770916</td>\n",
       "      <td>-1.511395</td>\n",
       "      <td>2</td>\n",
       "      <td>1</td>\n",
       "      <td>4</td>\n",
       "      <td>1</td>\n",
       "    </tr>\n",
       "    <tr>\n",
       "      <th>12</th>\n",
       "      <td>20</td>\n",
       "      <td>0</td>\n",
       "      <td>1</td>\n",
       "      <td>36.957009</td>\n",
       "      <td>0.133583</td>\n",
       "      <td>2</td>\n",
       "      <td>3</td>\n",
       "      <td>1</td>\n",
       "      <td>1</td>\n",
       "    </tr>\n",
       "    <tr>\n",
       "      <th>14</th>\n",
       "      <td>22</td>\n",
       "      <td>0</td>\n",
       "      <td>3</td>\n",
       "      <td>36.911714</td>\n",
       "      <td>-0.905350</td>\n",
       "      <td>2</td>\n",
       "      <td>2</td>\n",
       "      <td>4</td>\n",
       "      <td>1</td>\n",
       "    </tr>\n",
       "  </tbody>\n",
       "</table>\n",
       "</div>"
      ]
     },
     "execution_count": 3,
     "metadata": {},
     "output_type": "execute_result"
    }
   ],
   "execution_count": 3
  },
  {
   "metadata": {
    "ExecuteTime": {
     "end_time": "2025-01-24T20:09:14.597299Z",
     "start_time": "2025-01-24T20:09:14.592973Z"
    }
   },
   "cell_type": "code",
   "source": [
    "total_observations = train_data.shape[0]\n",
    "total_observations"
   ],
   "outputs": [
    {
     "data": {
      "text/plain": [
       "84534"
      ]
     },
     "execution_count": 4,
     "metadata": {},
     "output_type": "execute_result"
    }
   ],
   "execution_count": 4
  },
  {
   "metadata": {
    "ExecuteTime": {
     "end_time": "2025-01-24T20:09:14.756401Z",
     "start_time": "2025-01-24T20:09:14.751458Z"
    }
   },
   "cell_type": "code",
   "source": [
    "# total control group without promotions\n",
    "c_obs = control_group.shape[0]\n",
    "c_obs"
   ],
   "outputs": [
    {
     "data": {
      "text/plain": [
       "42170"
      ]
     },
     "execution_count": 5,
     "metadata": {},
     "output_type": "execute_result"
    }
   ],
   "execution_count": 5
  },
  {
   "metadata": {
    "ExecuteTime": {
     "end_time": "2025-01-24T20:09:14.878450Z",
     "start_time": "2025-01-24T20:09:14.874163Z"
    }
   },
   "cell_type": "code",
   "source": [
    "control_proportion = (control_group.shape[0] + 0.5)/total_observations\n",
    "control_proportion"
   ],
   "outputs": [
    {
     "data": {
      "text/plain": [
       "0.4988584474885845"
      ]
     },
     "execution_count": 6,
     "metadata": {},
     "output_type": "execute_result"
    }
   ],
   "execution_count": 6
  },
  {
   "metadata": {
    "ExecuteTime": {
     "end_time": "2025-01-24T20:09:14.983887Z",
     "start_time": "2025-01-24T20:09:14.978597Z"
    }
   },
   "cell_type": "code",
   "source": [
    "# total treatment group with promotions\n",
    "t_obs = treatment_group.shape[0]\n",
    "t_obs"
   ],
   "outputs": [
    {
     "data": {
      "text/plain": [
       "42364"
      ]
     },
     "execution_count": 7,
     "metadata": {},
     "output_type": "execute_result"
    }
   ],
   "execution_count": 7
  },
  {
   "metadata": {
    "ExecuteTime": {
     "end_time": "2025-01-24T20:09:15.045121Z",
     "start_time": "2025-01-24T20:09:15.039964Z"
    }
   },
   "cell_type": "code",
   "source": [
    "# Now calculate the sample standard deviation under the null\n",
    "# As we don't know population std, we calculate sample std but call it standard error\n",
    "# Null hypothesis is 50%, thus 0.5\n",
    "p = 0.5\n",
    "standard_error = np.sqrt((p*(1-p)/total_observations))\n",
    "standard_error"
   ],
   "outputs": [
    {
     "data": {
      "text/plain": [
       "0.0017197063487546227"
      ]
     },
     "execution_count": 8,
     "metadata": {},
     "output_type": "execute_result"
    }
   ],
   "execution_count": 8
  },
  {
   "metadata": {
    "ExecuteTime": {
     "end_time": "2025-01-24T20:09:15.103344Z",
     "start_time": "2025-01-24T20:09:15.097972Z"
    }
   },
   "cell_type": "code",
   "source": [
    "# formula for z score is sample mean - null mean / se\n",
    "z = (control_proportion - p) / standard_error\n",
    "z"
   ],
   "outputs": [
    {
     "data": {
      "text/plain": [
       "-0.6638066506192764"
      ]
     },
     "execution_count": 9,
     "metadata": {},
     "output_type": "execute_result"
    }
   ],
   "execution_count": 9
  },
  {
   "metadata": {
    "ExecuteTime": {
     "end_time": "2025-01-24T20:09:15.147667Z",
     "start_time": "2025-01-24T20:09:15.142600Z"
    }
   },
   "cell_type": "code",
   "source": [
    "# calculate the area under a normal curve (on calculator it is invnorm -999, -0.638, 0, 1)\n",
    "p_value = stats.norm.cdf(z, 0, 1)*2\n",
    "p_value"
   ],
   "outputs": [
    {
     "data": {
      "text/plain": [
       "0.5068140685419098"
      ]
     },
     "execution_count": 10,
     "metadata": {},
     "output_type": "execute_result"
    }
   ],
   "execution_count": 10
  },
  {
   "metadata": {
    "ExecuteTime": {
     "end_time": "2025-01-24T20:09:15.174184Z",
     "start_time": "2025-01-24T20:09:15.171141Z"
    }
   },
   "cell_type": "code",
   "source": [
    "# TODO\n",
    "# feature distributions should be the same for all features\n",
    "# use chi-squared test for categorical values and t-test for numerical features"
   ],
   "outputs": [],
   "execution_count": 11
  },
  {
   "metadata": {},
   "cell_type": "markdown",
   "source": [
    "### Conclusion\n",
    "\n",
    "Even though there's a few hundred more customers received promotions in the treatment group than the control group, the difference between groups isn't statistically significant. We should feel fine about moving on to test the evaluation metrics.\n",
    "\n",
    "Since P value > 0.05, we fail to reject the null hypothesis. It means that the number of customers in both groups is similar."
   ]
  },
  {
   "metadata": {},
   "cell_type": "markdown",
   "source": [
    "# Hypothesis test for IRR <a name=\"irr\"></a>\n",
    "#### Did the promotion increase sales?\n",
    "\n",
    "Analyze the results of the experiment and identify the effect of the Treatment on product purchase and Net Incremental Revenue\n",
    "\n",
    "Hypothesis to test:\n",
    "### $H_0 = \\frac{purch_{treat}}{cust_{treat}} - \\frac{purch_{ctrl}}{cust_{ctrl}} <= 0$ <br>\n",
    "### $H_1 = \\frac{purch_{treat}}{cust_{treat}} - \\frac{purch_{ctrl}}{cust_{ctrl}} > 0$"
   ]
  },
  {
   "metadata": {
    "ExecuteTime": {
     "end_time": "2025-01-24T20:09:15.208514Z",
     "start_time": "2025-01-24T20:09:15.201821Z"
    }
   },
   "cell_type": "code",
   "source": [
    "control_ratio = control_group.purchase.sum() / control_group.shape[0]\n",
    "control_ratio"
   ],
   "outputs": [
    {
     "data": {
      "text/plain": [
       "0.007564619397676073"
      ]
     },
     "execution_count": 12,
     "metadata": {},
     "output_type": "execute_result"
    }
   ],
   "execution_count": 12
  },
  {
   "metadata": {
    "ExecuteTime": {
     "end_time": "2025-01-24T20:09:15.239719Z",
     "start_time": "2025-01-24T20:09:15.234577Z"
    }
   },
   "cell_type": "code",
   "source": [
    "treatment_ratio = treatment_group.purchase.sum() / treatment_group.shape[0]\n",
    "treatment_ratio"
   ],
   "outputs": [
    {
     "data": {
      "text/plain": [
       "0.017019167217448776"
      ]
     },
     "execution_count": 13,
     "metadata": {},
     "output_type": "execute_result"
    }
   ],
   "execution_count": 13
  },
  {
   "metadata": {
    "ExecuteTime": {
     "end_time": "2025-01-24T20:09:15.272689Z",
     "start_time": "2025-01-24T20:09:15.268099Z"
    }
   },
   "cell_type": "code",
   "source": [
    "IRR = treatment_ratio - control_ratio\n",
    "IRR"
   ],
   "outputs": [
    {
     "data": {
      "text/plain": [
       "0.009454547819772702"
      ]
     },
     "execution_count": 14,
     "metadata": {},
     "output_type": "execute_result"
    }
   ],
   "execution_count": 14
  },
  {
   "metadata": {
    "ExecuteTime": {
     "end_time": "2025-01-24T20:09:15.300360Z",
     "start_time": "2025-01-24T20:09:15.294929Z"
    }
   },
   "cell_type": "code",
   "source": "control_group.purchase.sum()",
   "outputs": [
    {
     "data": {
      "text/plain": [
       "319"
      ]
     },
     "execution_count": 15,
     "metadata": {},
     "output_type": "execute_result"
    }
   ],
   "execution_count": 15
  },
  {
   "metadata": {
    "ExecuteTime": {
     "end_time": "2025-01-24T20:09:15.354376Z",
     "start_time": "2025-01-24T20:09:15.347791Z"
    }
   },
   "cell_type": "code",
   "source": [
    "# calculate the total purchase rate\n",
    "combined_download_ratio = train_data.purchase.sum() / train_data.shape[0]\n",
    "combined_download_ratio"
   ],
   "outputs": [
    {
     "data": {
      "text/plain": [
       "0.012302742091939338"
      ]
     },
     "execution_count": 16,
     "metadata": {},
     "output_type": "execute_result"
    }
   ],
   "execution_count": 16
  },
  {
   "metadata": {},
   "cell_type": "markdown",
   "source": "**Simulation Approach**"
  },
  {
   "metadata": {
    "ExecuteTime": {
     "end_time": "2025-01-24T20:12:48.715392Z",
     "start_time": "2025-01-24T20:09:15.387782Z"
    }
   },
   "cell_type": "code",
   "source": [
    "# bootstrap download rate\n",
    "nr_trials = 10_000\n",
    "\n",
    "irr_sample_distribution = []\n",
    "for _ in range(nr_trials):\n",
    "    boot_sample = train_data.sample(train_data.shape[0], replace=True)\n",
    "    boot_control_group = boot_sample.query('Promotion == \"No\"')\n",
    "    boot_treatment_group = boot_sample.query('Promotion == \"Yes\"')\n",
    "    boot_control_ratio =   boot_control_group.purchase.sum() / control_group.shape[0]\n",
    "    boot_treatment_ratio = boot_treatment_group.purchase.sum() / treatment_group.shape[0]\n",
    "    irr = boot_treatment_ratio - boot_control_ratio\n",
    "    irr_sample_distribution.append(irr)\n",
    "    \n",
    "irr_sample_distribution = np.array(irr_sample_distribution)\n",
    "p_diff_mean = irr_sample_distribution.mean()\n",
    "p_diff_std = irr_sample_distribution.std()\n",
    "p_diff_std, p_diff_mean"
   ],
   "outputs": [
    {
     "data": {
      "text/plain": [
       "(0.0007599607147401623, 0.009448828869044586)"
      ]
     },
     "execution_count": 17,
     "metadata": {},
     "output_type": "execute_result"
    }
   ],
   "execution_count": 17
  },
  {
   "metadata": {
    "ExecuteTime": {
     "end_time": "2025-01-24T20:12:49.135758Z",
     "start_time": "2025-01-24T20:12:48.761458Z"
    }
   },
   "cell_type": "code",
   "source": [
    "# Simulate the null when using sample distribution\n",
    "null_vals = np.random.normal(0, irr_sample_distribution.std(), irr_sample_distribution.size)\n",
    "\n",
    "plt.hist(irr_sample_distribution, label='sample distribution')\n",
    "plt.hist(null_vals, alpha=0.5, label='$H_0$ simulation')\n",
    "plt.axvline(IRR, color='r', label='actual IRR')\n",
    "plt.xlabel('IRR')\n",
    "plt.ylabel('#purchase rate')\n",
    "plt.title('Bootstrap distribution')\n",
    "plt.legend(loc='center right', bbox_to_anchor=(1.6, 0.9))\n",
    "plt.show()"
   ],
   "outputs": [
    {
     "data": {
      "text/plain": [
       "<Figure size 800x400 with 1 Axes>"
      ],
      "image/png": "[encoded data removed]"
     },
     "metadata": {},
     "output_type": "display_data"
    }
   ],
   "execution_count": 18
  },
  {
   "metadata": {
    "ExecuteTime": {
     "end_time": "2025-01-24T20:12:49.174222Z",
     "start_time": "2025-01-24T20:12:49.168938Z"
    }
   },
   "cell_type": "code",
   "source": [
    "# probability to observe again the population proportion using nulls in a 2 sided z test\n",
    "p_value = (null_vals > irr).mean()\n",
    "p_value"
   ],
   "outputs": [
    {
     "data": {
      "text/plain": [
       "0.0"
      ]
     },
     "execution_count": 19,
     "metadata": {},
     "output_type": "execute_result"
    }
   ],
   "execution_count": 19
  },
  {
   "metadata": {},
   "cell_type": "markdown",
   "source": "**Analytical Approach**"
  },
  {
   "metadata": {
    "ExecuteTime": {
     "end_time": "2025-01-24T20:12:49.226125Z",
     "start_time": "2025-01-24T20:12:49.206985Z"
    }
   },
   "cell_type": "code",
   "source": [
    "se = np.sqrt((combined_download_ratio * (1-combined_download_ratio)/t_obs) + (combined_download_ratio * (1-combined_download_ratio)/c_obs))\n",
    "se"
   ],
   "outputs": [
    {
     "data": {
      "text/plain": [
       "0.00075827775128664"
      ]
     },
     "execution_count": 20,
     "metadata": {},
     "output_type": "execute_result"
    }
   ],
   "execution_count": 20
  },
  {
   "metadata": {
    "ExecuteTime": {
     "end_time": "2025-01-24T20:12:49.290175Z",
     "start_time": "2025-01-24T20:12:49.285637Z"
    }
   },
   "cell_type": "code",
   "source": [
    "z = (treatment_ratio - control_ratio) / se\n",
    "z"
   ],
   "outputs": [
    {
     "data": {
      "text/plain": [
       "12.468449461599388"
      ]
     },
     "execution_count": 21,
     "metadata": {},
     "output_type": "execute_result"
    }
   ],
   "execution_count": 21
  },
  {
   "metadata": {
    "ExecuteTime": {
     "end_time": "2025-01-24T20:12:49.304380Z",
     "start_time": "2025-01-24T20:12:49.299099Z"
    }
   },
   "cell_type": "code",
   "source": [
    "p_value = round(1 - stats.norm.cdf(z, 0, 1),4)\n",
    "p_value"
   ],
   "outputs": [
    {
     "data": {
      "text/plain": [
       "0.0"
      ]
     },
     "execution_count": 22,
     "metadata": {},
     "output_type": "execute_result"
    }
   ],
   "execution_count": 22
  },
  {
   "metadata": {},
   "cell_type": "markdown",
   "source": [
    "### Conclusion of IRR\n",
    "\n",
    "Since P is less than 0.05, we reject the null hypothesis. The difference of 0.9% in IRR is significant and could not have come from the null. Promotions have a positive effect on sales."
   ]
  },
  {
   "metadata": {},
   "cell_type": "markdown",
   "source": [
    "# Hypothesis test for NIR (Net Incremental Revenue) <a name=\"nir\"></a>\n",
    "#### How much is made (or lost) by sending out the promotion?\n",
    "\n",
    "$ NIR = (10\\cdot purch_{treat} - 0.15 \\cdot cust_{treat}) - 10 \\cdot purch_{ctrl}$\n",
    "\n",
    "Hypothesis to test:\n",
    "### $H_0 = NIR <= 0 $\n",
    "### $H_1 = NIR > 0 $\n",
    "\n"
   ]
  },
  {
   "metadata": {
    "ExecuteTime": {
     "end_time": "2025-01-24T20:12:49.371835Z",
     "start_time": "2025-01-24T20:12:49.368029Z"
    }
   },
   "cell_type": "code",
   "source": [
    "# Actual observation from the supplied experiment data\n",
    "def nrr(control, treatment):\n",
    "    nir = ((10 * treatment.purchase.sum()) -\n",
    "           (0.15 * len(treatment)) -\n",
    "           (10 * control.purchase.sum()))\n",
    "    return nir"
   ],
   "outputs": [],
   "execution_count": 23
  },
  {
   "metadata": {
    "ExecuteTime": {
     "end_time": "2025-01-25T13:27:03.298256Z",
     "start_time": "2025-01-25T13:27:03.292573Z"
    }
   },
   "cell_type": "code",
   "source": [
    "NIR = nrr(control_group, treatment_group)\n",
    "NIR"
   ],
   "outputs": [
    {
     "data": {
      "text/plain": [
       "-2334.5999999999995"
      ]
     },
     "execution_count": 28,
     "metadata": {},
     "output_type": "execute_result"
    }
   ],
   "execution_count": 28
  },
  {
   "metadata": {
    "ExecuteTime": {
     "end_time": "2025-01-24T20:16:22.048945Z",
     "start_time": "2025-01-24T20:12:49.412235Z"
    }
   },
   "cell_type": "code",
   "source": [
    "# bootstrap NIR\n",
    "nr_trials = 10_000\n",
    "nr_samples = 20_000\n",
    "\n",
    "nir_sample_distribution = []\n",
    "for _ in range(nr_trials):\n",
    "    boot_sample = train_data.sample(train_data.shape[0], replace=True)\n",
    "    boot_control_group = boot_sample.query('Promotion == \"No\"')\n",
    "    boot_treatment_group = boot_sample.query('Promotion == \"Yes\"')\n",
    "    boot_nir = nrr(boot_control_group, boot_treatment_group)\n",
    "    nir_sample_distribution.append(boot_nir)\n",
    "    \n",
    "nir_sample_distribution = np.array(nir_sample_distribution)\n",
    "nir_mean = nir_sample_distribution.mean()\n",
    "nir_std = nir_sample_distribution.std()\n",
    "nir_std, nir_mean\n"
   ],
   "outputs": [
    {
     "data": {
      "text/plain": [
       "(321.96702329588345, -2338.080195)"
      ]
     },
     "execution_count": 25,
     "metadata": {},
     "output_type": "execute_result"
    }
   ],
   "execution_count": 25
  },
  {
   "metadata": {
    "ExecuteTime": {
     "end_time": "2025-01-24T20:16:22.346407Z",
     "start_time": "2025-01-24T20:16:22.118753Z"
    }
   },
   "cell_type": "code",
   "source": [
    "# Simulate the null when using sample distribution\n",
    "null_vals = np.random.normal(0, nir_sample_distribution.std(), nir_sample_distribution.size)\n",
    "\n",
    "plt.hist(nir_sample_distribution, label='sample distribution')\n",
    "plt.hist(null_vals, alpha=0.5, label='$H_0$ simulation')\n",
    "plt.axvline(NIR, color='r', label='actual NIR')\n",
    "plt.xlabel('NIR')\n",
    "plt.ylabel('Net Incremental Revenue')\n",
    "plt.title('Bootstrap distribution')\n",
    "plt.legend(loc='center right', bbox_to_anchor=(1.6, 0.9))\n",
    "plt.show()"
   ],
   "outputs": [
    {
     "data": {
      "text/plain": [
       "<Figure size 800x400 with 1 Axes>"
      ],
      "image/png": "[encoded data removed]"
     },
     "metadata": {},
     "output_type": "display_data"
    }
   ],
   "execution_count": 26
  },
  {
   "metadata": {
    "ExecuteTime": {
     "end_time": "2025-01-24T20:16:22.392473Z",
     "start_time": "2025-01-24T20:16:22.388054Z"
    }
   },
   "cell_type": "code",
   "source": [
    "# probability to observe again the population proportion using nulls in a 2 sided z test\n",
    "p_value = (null_vals > NIR).mean()\n",
    "p_value"
   ],
   "outputs": [
    {
     "data": {
      "text/plain": [
       "1.0"
      ]
     },
     "execution_count": 27,
     "metadata": {},
     "output_type": "execute_result"
    }
   ],
   "execution_count": 27
  },
  {
   "metadata": {},
   "cell_type": "markdown",
   "source": [
    "### Conclusion of NIR\n",
    "\n",
    "Since p-value is above our corrected significance level of 0.025, we fail to reject the NULL hypothesis. \n",
    "The incremental revenue between no promotion and promotion groups from the experiment sample is not statistically significant.\n",
    "\n",
    "The experiment did not generate extra revenue, therefore, we conclude that there is no evidence that promotions generate more revenue."
   ]
  },
  {
   "metadata": {},
   "cell_type": "markdown",
   "source": [
    "# Summary <a name=\"summary\"></a>\n",
    "There is enough evidence to suggest promotions lead to more sales, but it does not generate more revenue due to the cost of sending out promotions.\n",
    "A more targeted approach is needed, to send less to promotions to only those individuals who will respond to promotions."
   ]
  },
  {
   "metadata": {
    "ExecuteTime": {
     "end_time": "2025-01-24T20:16:22.404402Z",
     "start_time": "2025-01-24T20:16:22.402069Z"
    }
   },
   "cell_type": "code",
   "source": "",
   "outputs": [],
   "execution_count": null
  }
 ],
 "metadata": {
  "kernelspec": {
   "display_name": "abstarbucks",
   "language": "python",
   "name": "abstarbucks"
  },
  "language_info": {
   "codemirror_mode": {
    "name": "ipython",
    "version": 3
   },
   "file_extension": ".py",
   "mimetype": "text/x-python",
   "name": "python",
   "nbconvert_exporter": "python",
   "pygments_lexer": "ipython3",
   "version": "3.10.15"
  }
 },
 "nbformat": 4,
 "nbformat_minor": 4
}
